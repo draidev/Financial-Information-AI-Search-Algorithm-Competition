{
 "cells": [
  {
   "cell_type": "markdown",
   "id": "25a0881b",
   "metadata": {},
   "source": [
    "# Baseline\n",
    "## Import"
   ]
  },
  {
   "cell_type": "code",
   "execution_count": 1,
   "id": "cbe565a2",
   "metadata": {
    "scrolled": true
   },
   "outputs": [],
   "source": [
    "# %pip install accelerate\n",
    "# %pip install -i https://pypi.org/simple/ bitsandbytes\n",
    "# %pip install transformers[torch] -U\n",
    "\n",
    "# %pip install datasets\n",
    "# %pip install langchain\n",
    "# %pip install langchain_community\n",
    "# %pip install PyMuPDF\n",
    "# %pip install sentence-transformers\n",
    "# %pip install faiss-gpu"
   ]
  },
  {
   "cell_type": "code",
   "execution_count": 1,
   "id": "b078f272",
   "metadata": {},
   "outputs": [
    {
     "name": "stderr",
     "output_type": "stream",
     "text": [
      "/lockard_ai/works/PEFT/venv_peft/lib/python3.8/site-packages/tqdm/auto.py:21: TqdmWarning: IProgress not found. Please update jupyter and ipywidgets. See https://ipywidgets.readthedocs.io/en/stable/user_install.html\n",
      "  from .autonotebook import tqdm as notebook_tqdm\n"
     ]
    }
   ],
   "source": [
    "import unicodedata\n",
    "\n",
    "import torch\n",
    "import pandas as pd\n",
    "from tqdm import tqdm\n",
    "import fitz  # PyMuPDF\n",
    "\n",
    "from transformers import (\n",
    "    AutoTokenizer,\n",
    "    AutoModelForCausalLM,\n",
    "    pipeline,\n",
    "    BitsAndBytesConfig\n",
    ")\n",
    "from accelerate import Accelerator\n",
    "\n",
    "# Langchain 관련\n",
    "from langchain.llms import HuggingFacePipeline\n",
    "from langchain.embeddings import HuggingFaceEmbeddings\n",
    "from langchain.vectorstores import FAISS\n",
    "from langchain.schema import Document\n",
    "from langchain.text_splitter import RecursiveCharacterTextSplitter\n",
    "from langchain.prompts import PromptTemplate\n",
    "from langchain.schema.runnable import RunnablePassthrough\n",
    "from langchain.schema.output_parser import StrOutputParser"
   ]
  },
  {
   "cell_type": "markdown",
   "id": "c7c195d7",
   "metadata": {},
   "source": [
    "## Vector DB"
   ]
  },
  {
   "cell_type": "code",
   "execution_count": 3,
   "id": "5932a6f7",
   "metadata": {},
   "outputs": [],
   "source": [
    "def process_pdf(file_path, chunk_size=800, chunk_overlap=50):\n",
    "    \"\"\"PDF 텍스트 추출 후 chunk 단위로 나누기\"\"\"\n",
    "    # PDF 파일 열기\n",
    "    doc = fitz.open(file_path)\n",
    "    text = ''\n",
    "    # 모든 페이지의 텍스트 추출\n",
    "    for page in doc:\n",
    "        text += page.get_text()\n",
    "    # 텍스트를 chunk로 분할\n",
    "    splitter = RecursiveCharacterTextSplitter(\n",
    "        chunk_size=chunk_size,\n",
    "        chunk_overlap=chunk_overlap\n",
    "    )\n",
    "    chunk_temp = splitter.split_text(text)\n",
    "    # Document 객체 리스트 생성\n",
    "    chunks = [Document(page_content=t) for t in chunk_temp]\n",
    "    return chunks\n",
    "\n",
    "\n",
    "def create_vector_db(chunks, model_path=\"intfloat/multilingual-e5-small\"):\n",
    "    \"\"\"FAISS DB 생성\"\"\"\n",
    "    # 임베딩 모델 설정\n",
    "    model_kwargs = {'device': 'cuda'}\n",
    "    encode_kwargs = {'normalize_embeddings': True}\n",
    "    embeddings = HuggingFaceEmbeddings(\n",
    "        model_name=model_path,\n",
    "        model_kwargs=model_kwargs,\n",
    "        encode_kwargs=encode_kwargs\n",
    "    )\n",
    "    # FAISS DB 생성 및 반환\n",
    "    db = FAISS.from_documents(chunks, embedding=embeddings)\n",
    "    return db\n",
    "\n",
    "def normalize_path(path):\n",
    "    \"\"\"경로 유니코드 정규화\"\"\"\n",
    "    return unicodedata.normalize('NFC', path)\n",
    "\n",
    "\n",
    "def process_pdfs_from_dataframe(df, base_directory):\n",
    "    \"\"\"딕셔너리에 pdf명을 키로해서 DB, retriever 저장\"\"\"\n",
    "    pdf_databases = {}\n",
    "    unique_paths = df['Source_path'].unique()\n",
    "    \n",
    "    for path in tqdm(unique_paths, desc=\"Processing PDFs\"):\n",
    "        # 경로 정규화 및 절대 경로 생성\n",
    "        normalized_path = normalize_path(path)\n",
    "        full_path = os.path.normpath(os.path.join(base_directory, normalized_path.lstrip('./'))) if not os.path.isabs(normalized_path) else normalized_path\n",
    "        \n",
    "        pdf_title = os.path.splitext(os.path.basename(full_path))[0]\n",
    "        print(f\"Processing {pdf_title}...\")\n",
    "        \n",
    "        # PDF 처리 및 벡터 DB 생성\n",
    "        chunks = process_pdf(full_path)\n",
    "        db = create_vector_db(chunks)\n",
    "        \n",
    "        # Retriever 생성\n",
    "        retriever = db.as_retriever(search_type=\"mmr\", \n",
    "                                    search_kwargs={'k': 3, 'fetch_k': 8})\n",
    "        \n",
    "        # 결과 저장\n",
    "        pdf_databases[pdf_title] = {\n",
    "                'db': db,\n",
    "                'retriever': retriever\n",
    "        }\n",
    "    return pdf_databases"
   ]
  },
  {
   "cell_type": "markdown",
   "id": "a61035f4",
   "metadata": {},
   "source": [
    "## DB 생성"
   ]
  },
  {
   "cell_type": "code",
   "execution_count": 8,
   "id": "5173209d",
   "metadata": {},
   "outputs": [],
   "source": [
    "import os "
   ]
  },
  {
   "cell_type": "code",
   "execution_count": 4,
   "id": "ed57aee8",
   "metadata": {},
   "outputs": [],
   "source": [
    "base_directory = './' # Your Base Directory\n",
    "df = pd.read_csv('./test.csv')\n",
    "# pdf_databases = process_pdfs_from_dataframe(df, base_directory)"
   ]
  },
  {
   "cell_type": "code",
   "execution_count": 2,
   "id": "291391f7",
   "metadata": {},
   "outputs": [],
   "source": [
    "df = pd.read_csv('./train.csv')"
   ]
  },
  {
   "cell_type": "code",
   "execution_count": 5,
   "id": "6d5c2b16",
   "metadata": {},
   "outputs": [
    {
     "data": {
      "text/plain": [
       "'2024년 중앙정부 재정체계는 예산(일반·특별회계)과 기금으로 구분되며, 2024년 기준으로 일반회계 1개, 특별회계 21개, 기금 68개로 구성되어 있습니다.'"
      ]
     },
     "execution_count": 5,
     "metadata": {},
     "output_type": "execute_result"
    }
   ],
   "source": [
    "df['Answer'][0]"
   ]
  },
  {
   "cell_type": "markdown",
   "id": "14260dd2",
   "metadata": {},
   "source": [
    "## Model Import"
   ]
  },
  {
   "cell_type": "code",
   "execution_count": 21,
   "id": "72f2b951",
   "metadata": {},
   "outputs": [
    {
     "name": "stderr",
     "output_type": "stream",
     "text": [
      "Downloading shards: 100%|██████████| 15/15 [27:32<00:00, 110.20s/it]\n",
      "Loading checkpoint shards: 100%|██████████| 15/15 [00:11<00:00,  1.27it/s]\n",
      "/lockard_ai/works/PEFT/venv_peft/lib/python3.8/site-packages/langchain_core/_api/deprecation.py:141: LangChainDeprecationWarning: The class `HuggingFacePipeline` was deprecated in LangChain 0.0.37 and will be removed in 0.3. An updated version of the class exists in the langchain-huggingface package and should be used instead. To use it run `pip install -U langchain-huggingface` and import as `from langchain_huggingface import HuggingFacePipeline`.\n",
      "  warn_deprecated(\n"
     ]
    }
   ],
   "source": [
    "def setup_llm_pipeline():\n",
    "    # 4비트 양자화 설정\n",
    "    bnb_config = BitsAndBytesConfig(\n",
    "        load_in_4bit=True,\n",
    "        bnb_4bit_use_double_quant=True,\n",
    "        bnb_4bit_quant_type=\"nf4\",\n",
    "        bnb_4bit_compute_dtype=torch.bfloat16\n",
    "    )\n",
    "\n",
    "    # 모델 ID \n",
    "    model_id = \"google/gemma2-9b-it\"\n",
    "\n",
    "    # 토크나이저 로드 및 설정\n",
    "    tokenizer = AutoTokenizer.from_pretrained(model_id)\n",
    "    tokenizer.use_default_system_prompt = False\n",
    "\n",
    "    # 모델 로드 및 양자화 설정 적용\n",
    "    model = AutoModelForCausalLM.from_pretrained(\n",
    "        model_id,\n",
    "        quantization_config=bnb_config,\n",
    "        device_map=\"auto\",\n",
    "        trust_remote_code=True )\n",
    "\n",
    "    # HuggingFacePipeline 객체 생성\n",
    "    text_generation_pipeline = pipeline(\n",
    "        model=model,\n",
    "        tokenizer=tokenizer,\n",
    "        task=\"text-generation\",\n",
    "        temperature=0.2,\n",
    "        return_full_text=False,\n",
    "        max_new_tokens=128,\n",
    "    )\n",
    "    \n",
    "    hf = HuggingFacePipeline(pipeline=text_generation_pipeline)\n",
    "\n",
    "    return hf\n",
    "\n",
    "# LLM 파이프라인\n",
    "llm = setup_llm_pipeline()"
   ]
  },
  {
   "cell_type": "markdown",
   "id": "4f567851",
   "metadata": {},
   "source": [
    "## 모델 학습"
   ]
  },
  {
   "cell_type": "code",
   "execution_count": null,
   "id": "e1bff12d",
   "metadata": {},
   "outputs": [],
   "source": [
    "df"
   ]
  },
  {
   "cell_type": "code",
   "execution_count": null,
   "id": "b8c7c699",
   "metadata": {},
   "outputs": [],
   "source": [
    "lora_config = LoraConfig(\n",
    "    r=8,\n",
    "    lora_alpha = 16,\n",
    "    lora_dropout = 0.05,\n",
    "    target_modules=[\"q_proj\", \"o_proj\", \"k_proj\", \"v_proj\", \"gate_proj\", \"up_proj\", \"down_proj\"],\n",
    "    task_type=\"CAUSAL_LM\",\n",
    ")   \n",
    "\n",
    "os.environ[\"TOKENIZERS_PARALLELISM\"] = \"false\"\n",
    "\n",
    "trainer = SFTTrainer(\n",
    "    model=model,\n",
    "    train_dataset=dataset_dict['train'],\n",
    "    max_seq_length=512,\n",
    "    args=TrainingArguments(\n",
    "        output_dir=\"outputs\",\n",
    "        num_train_epochs = 5,\n",
    "        max_steps=3000,\n",
    "        per_device_train_batch_size=2,\n",
    "        gradient_accumulation_steps=2,\n",
    "        optim=\"paged_adamw_8bit\",\n",
    "        warmup_steps=300,\n",
    "        learning_rate=2e-4,\n",
    "        bf16=True, \n",
    "        logging_steps=100,\n",
    "        report_to=\"wandb\",\n",
    "        push_to_hub=False,\n",
    "    ),\n",
    "    peft_config=lora_config,\n",
    "    formatting_func=generate_prompts_train\n",
    ")"
   ]
  },
  {
   "cell_type": "code",
   "execution_count": null,
   "id": "4320b700",
   "metadata": {},
   "outputs": [],
   "source": []
  },
  {
   "cell_type": "code",
   "execution_count": null,
   "id": "cf954f9e",
   "metadata": {},
   "outputs": [],
   "source": []
  },
  {
   "cell_type": "markdown",
   "id": "b445848f",
   "metadata": {},
   "source": [
    "## Langchain을 이용한 추론"
   ]
  },
  {
   "cell_type": "code",
   "execution_count": 22,
   "id": "58e88577",
   "metadata": {},
   "outputs": [
    {
     "name": "stderr",
     "output_type": "stream",
     "text": [
      "Answering Questions:   0%|          | 0/98 [00:00<?, ?it/s]/lockard_ai/works/PEFT/venv_peft/lib/python3.8/site-packages/transformers/generation/configuration_utils.py:567: UserWarning: `do_sample` is set to `False`. However, `temperature` is set to `0.2` -- this flag is only used in sample-based generation modes. You should set `do_sample=True` or unset `temperature`.\n",
      "  warnings.warn(\n"
     ]
    },
    {
     "name": "stdout",
     "output_type": "stream",
     "text": [
      "Question: 2022년 혁신창업사업화자금(융자)의 예산은 얼마인가요?\n"
     ]
    },
    {
     "name": "stderr",
     "output_type": "stream",
     "text": [
      "\r",
      "Answering Questions:   1%|          | 1/98 [00:08<14:28,  8.95s/it]"
     ]
    },
    {
     "name": "stdout",
     "output_type": "stream",
     "text": [
      "Answer: 2022년 혁신창업사업화자금(융자)의 예산은 2,300,00,00원입니다.​​​​​​​​​​​​​​​​​​​​​​​​​​​​​​​​​​​​​​​​​​​​​​​​​​​​​​​​​​​​​​​​​​​​​​​​​​​​​​​​​​​​​​​​​​​​​​​​\n",
      "\n",
      "Question: 중소벤처기업부의 혁신창업사업화자금(융자) 사업목적은 무엇인가요?\n"
     ]
    },
    {
     "name": "stderr",
     "output_type": "stream",
     "text": [
      "/lockard_ai/works/PEFT/venv_peft/lib/python3.8/site-packages/transformers/generation/configuration_utils.py:567: UserWarning: `do_sample` is set to `False`. However, `temperature` is set to `0.2` -- this flag is only used in sample-based generation modes. You should set `do_sample=True` or unset `temperature`.\n",
      "  warnings.warn(\n",
      "Answering Questions:   2%|▏         | 2/98 [00:17<13:57,  8.73s/it]"
     ]
    },
    {
     "name": "stdout",
     "output_type": "stream",
     "text": [
      "Answer: 사업 목적​혁신창업사업화자금(융자) (5152-301)​1. 사업 코드 정보​구분​기금​소관​실국(기관)​계정​분야​부문​코드​중소벤처기업​창​업​및​ 진​흥​기​금​중소벤처기업부중소기업정책실​110​118​명칭​산업·중소기업 ​및 에너지​창업 및 벤처​구분​프로그램​단위사업​코드​5100​5152​301\n",
      "\n",
      "Question: 중소벤처기업부의 혁신창업사업화자금(융자) 사업근거는 어떤 법률에 근거하고 있나요?\n"
     ]
    },
    {
     "name": "stderr",
     "output_type": "stream",
     "text": [
      "/lockard_ai/works/PEFT/venv_peft/lib/python3.8/site-packages/transformers/generation/configuration_utils.py:567: UserWarning: `do_sample` is set to `False`. However, `temperature` is set to `0.2` -- this flag is only used in sample-based generation modes. You should set `do_sample=True` or unset `temperature`.\n",
      "  warnings.warn(\n",
      "Answering Questions:   3%|▎         | 3/98 [00:26<13:47,  8.71s/it]"
     ]
    },
    {
     "name": "stdout",
     "output_type": "stream",
     "text": [
      "Answer: 중소기업창업지원법 제35조, 제36조, 제37조, 제38조, 제39조, 제40조, 제41조, 제42조, 제43조, 제44조, 제45조, 제46조, 제47조, 제48조, 제49조, 제50조, 제51조, 제52조, 제53조, 제54조, 제55조, 제56조, 제57조, 제58조, 제59\n",
      "\n",
      "Question: 2010년에 신규 지원된 혁신창업사업화자금은 무엇인가요?\n"
     ]
    },
    {
     "name": "stderr",
     "output_type": "stream",
     "text": [
      "/lockard_ai/works/PEFT/venv_peft/lib/python3.8/site-packages/transformers/generation/configuration_utils.py:567: UserWarning: `do_sample` is set to `False`. However, `temperature` is set to `0.2` -- this flag is only used in sample-based generation modes. You should set `do_sample=True` or unset `temperature`.\n",
      "  warnings.warn(\n",
      "Answering Questions:   4%|▍         | 4/98 [00:34<13:38,  8.70s/it]"
     ]
    },
    {
     "name": "stdout",
     "output_type": "stream",
     "text": [
      "Answer: 혁신창업사업화자금은 창업 후 3년 이내의 중소기업을 대상으로 혁신적인 기술과 아이디어를 보유한 창업자를 발굴하여 사업화 자금을 지원하는 사업입니다.​혁신창업사업화자금은 창업 후 3년 이내의 중소기업을 대상으로 혁신적인 기술과 아이디어를 보유한 창업자를 발굴하여 사업화 자금을 지원하는 사업입니다.​혁신창업사업화자금은 창업 후 3년 이내의 중소기업을 대상으로 혁신적인 기술과 아이디어를 보유한 창업자를 발굴하여 사업화 자금을 지원하는 사업입니다.​혁신창업사업화자금은 창업 후 3년 이내의 중소기업을 대상으로 혁신적인 기술과 아이디어를 보유한 창업\n",
      "\n",
      "Question: 혁신창업사업화자금 중 2020년에 신규 지원된 자금은 무엇인가요?\n"
     ]
    },
    {
     "name": "stderr",
     "output_type": "stream",
     "text": [
      "/lockard_ai/works/PEFT/venv_peft/lib/python3.8/site-packages/transformers/generation/configuration_utils.py:567: UserWarning: `do_sample` is set to `False`. However, `temperature` is set to `0.2` -- this flag is only used in sample-based generation modes. You should set `do_sample=True` or unset `temperature`.\n",
      "  warnings.warn(\n",
      "Answering Questions:   5%|▌         | 5/98 [00:43<13:31,  8.72s/it]"
     ]
    },
    {
     "name": "stdout",
     "output_type": "stream",
     "text": [
      "Answer: 2020년 혁신창업사업화자금 신규 지원 내역은 다음과 같습니다.​혁신창업사업화자금(융자) (5152-301)​1. 사업 코드 정보​구분​기금​소관​실국(기관)​계정​분야​부문​코드​5100​5152​301​명칭​창업환경조성​창업기업지원융자(기금)​2. 사업 지원 형태 및 지원율​직접​출자​보조​융자​국고보조율\n",
      "\n",
      "Question: 재창업자금이 재도약지원자금으로 이관된 연도는 언제인가요?\n"
     ]
    },
    {
     "name": "stderr",
     "output_type": "stream",
     "text": [
      "/lockard_ai/works/PEFT/venv_peft/lib/python3.8/site-packages/transformers/generation/configuration_utils.py:567: UserWarning: `do_sample` is set to `False`. However, `temperature` is set to `0.2` -- this flag is only used in sample-based generation modes. You should set `do_sample=True` or unset `temperature`.\n",
      "  warnings.warn(\n",
      "Answering Questions:   6%|▌         | 6/98 [00:52<13:23,  8.73s/it]"
     ]
    },
    {
     "name": "stdout",
     "output_type": "stream",
     "text": [
      "Answer: 2014년 1월 1일부터 재창업자금을 재도약지원자금으로 이관하였습니다.​​​​​​​​​​​​​​​​​​​​​​​​​​​​​​​​​​​​​​​​​​​​​​​​​​​​​​​​​​​​​​​​​​​​​​​​​​​​​​​​​​​​​​​​​​​​​​​​​​​​​​\n",
      "\n",
      "Question: 창업기반지원과 신청 대상이 중복인 자금이 어떤 것이며, 이 자금이 폐지된 연도는 언제인가요?\n"
     ]
    },
    {
     "name": "stderr",
     "output_type": "stream",
     "text": [
      "/lockard_ai/works/PEFT/venv_peft/lib/python3.8/site-packages/transformers/generation/configuration_utils.py:567: UserWarning: `do_sample` is set to `False`. However, `temperature` is set to `0.2` -- this flag is only used in sample-based generation modes. You should set `do_sample=True` or unset `temperature`.\n",
      "  warnings.warn(\n",
      "Answering Questions:   7%|▋         | 7/98 [01:01<13:11,  8.70s/it]"
     ]
    },
    {
     "name": "stdout",
     "output_type": "stream",
     "text": [
      "Answer: 창업기반지원과 신청 대상이 중복인 자금은 창업기업지원융자(융자)입니다.​창업기업지원융자(융자)는 창업기업에 대한 융자지원을 통해 창업기업의 성장 및 경쟁력 강화를 지원하기 위해 2006년 1월 1일부터 시행하고 있습니다.​창업기업지원융자(융자)는 창업기업에 대한 융자지원을 통해 창업기업의 성장 및 경쟁력 강화를 지원하기 위해 2006년 1월 1일부터 시행하고 있습니다.​창업기업지원융자(융자)는 창업기업에\n",
      "\n",
      "Question: 혁신창업사업화자금(융자) 사업을 시행하는 주체는 누구인가요?\n"
     ]
    },
    {
     "name": "stderr",
     "output_type": "stream",
     "text": [
      "/lockard_ai/works/PEFT/venv_peft/lib/python3.8/site-packages/transformers/generation/configuration_utils.py:567: UserWarning: `do_sample` is set to `False`. However, `temperature` is set to `0.2` -- this flag is only used in sample-based generation modes. You should set `do_sample=True` or unset `temperature`.\n",
      "  warnings.warn(\n",
      "Answering Questions:   8%|▊         | 8/98 [01:09<13:05,  8.73s/it]"
     ]
    },
    {
     "name": "stdout",
     "output_type": "stream",
     "text": [
      "Answer: 사업의 총괄적인 계획 수립 및 집행은 중소벤처기업진흥공단에서 담당하고, ​융자 실행은 은행에서 담당하고 있습니다.​​​​​​​​​​​​​​​​​​​​​​​​​​​​​​​​​​​​​​​​​​​​​​​​​​​​​​​​​​​​​​​​​​​​​​​​​​​​​​​​​​​​​​​​​​​​​​​​​​​\n",
      "\n",
      "Question: 혁신창업사업화자금(융자) 사업 집행절차는 어떻게 되나요?\n"
     ]
    },
    {
     "name": "stderr",
     "output_type": "stream",
     "text": [
      "/lockard_ai/works/PEFT/venv_peft/lib/python3.8/site-packages/transformers/generation/configuration_utils.py:567: UserWarning: `do_sample` is set to `False`. However, `temperature` is set to `0.2` -- this flag is only used in sample-based generation modes. You should set `do_sample=True` or unset `temperature`.\n",
      "  warnings.warn(\n",
      "Answering Questions:   9%|▉         | 9/98 [01:18<12:59,  8.76s/it]"
     ]
    },
    {
     "name": "stdout",
     "output_type": "stream",
     "text": [
      "Answer: 다음 정보를 바탕으로 질문에 답하세요:​​​​​​​​​​​​​​​​​​​​​​​​​​​​​​​​​​​​​​​​​​​​​​​​​​​​​​​​​​​​​​​​​​​​​​​​​​​​​​​​​​​​​​​​​​​​​​​​​​​​​​​​​​​​​​​​​​​​​​​​​\n",
      "\n",
      "Question: 부모급여 지원 사업의 목적은 무엇인가요?\n"
     ]
    },
    {
     "name": "stderr",
     "output_type": "stream",
     "text": [
      "/lockard_ai/works/PEFT/venv_peft/lib/python3.8/site-packages/transformers/generation/configuration_utils.py:567: UserWarning: `do_sample` is set to `False`. However, `temperature` is set to `0.2` -- this flag is only used in sample-based generation modes. You should set `do_sample=True` or unset `temperature`.\n",
      "  warnings.warn(\n",
      "Answering Questions:  10%|█         | 10/98 [01:27<12:44,  8.69s/it]You seem to be using the pipelines sequentially on GPU. In order to maximize efficiency please use a dataset\n"
     ]
    },
    {
     "name": "stdout",
     "output_type": "stream",
     "text": [
      "Answer: 부모급여 지원 사업은 출산 및 양육으로 손실되는 소득을 보전하고, 주 양육자의 직접돌봄이 중요한 아동발달의 특성에 따라 영아기 돌봄을 두텁게 지원하기 위해 부모급여 지급합니다.​​​​​​​​​​​​​​​​​​​​​​​​​​​​​​​​​​​​​​​​​​​​​​​​​​​​​​​​​​​​​​​​​​​​​​​​​​​​​​​\n",
      "\n",
      "Question: 부모급여(영아수당)의 2024년 확정된 예산은 몇백만원인가요?\n"
     ]
    },
    {
     "name": "stderr",
     "output_type": "stream",
     "text": [
      "/lockard_ai/works/PEFT/venv_peft/lib/python3.8/site-packages/transformers/generation/configuration_utils.py:567: UserWarning: `do_sample` is set to `False`. However, `temperature` is set to `0.2` -- this flag is only used in sample-based generation modes. You should set `do_sample=True` or unset `temperature`.\n",
      "  warnings.warn(\n",
      "Answering Questions:  11%|█         | 11/98 [01:35<12:30,  8.63s/it]"
     ]
    },
    {
     "name": "stdout",
     "output_type": "stream",
     "text": [
      "Answer: 2024년 예산은 2,888,694백만원입니다.​​​​​​​​​​​​​​​​​​​​​​​​​​​​​​​​​​​​​​​​​​​​​​​​​​​​​​​​​​​​​​​​​​​​​​​​​​​​​​​​​​​​​​​​​​​​​​​​​​​​​​​​​​​\n",
      "\n",
      "Question: 부모급여 지원 사업은 어떤 법령상 근거를 갖고 추진되고 있나요?\n"
     ]
    },
    {
     "name": "stderr",
     "output_type": "stream",
     "text": [
      "/lockard_ai/works/PEFT/venv_peft/lib/python3.8/site-packages/transformers/generation/configuration_utils.py:567: UserWarning: `do_sample` is set to `False`. However, `temperature` is set to `0.2` -- this flag is only used in sample-based generation modes. You should set `do_sample=True` or unset `temperature`.\n",
      "  warnings.warn(\n",
      "Answering Questions:  12%|█▏        | 12/98 [01:44<12:18,  8.59s/it]"
     ]
    },
    {
     "name": "stdout",
     "output_type": "stream",
     "text": [
      "Answer: 아동수당법 제4조제5항에 근거하여 추진되고 있습니다.​​​​​​​​​​​​​​​​​​​​​​​​​​​​​​​​​​​​​​​​​​​​​​​​​​​​​​​​​​​​​​​​​​​​​​​​​​​​​​​​​​​​​​​​​​​​​​​​​​​​​​​​​​​​​​​​\n",
      "\n",
      "Question: 영아수당 도입에 대한 추진경위는 어떻게 되나요?\n"
     ]
    },
    {
     "name": "stderr",
     "output_type": "stream",
     "text": [
      "/lockard_ai/works/PEFT/venv_peft/lib/python3.8/site-packages/transformers/generation/configuration_utils.py:567: UserWarning: `do_sample` is set to `False`. However, `temperature` is set to `0.2` -- this flag is only used in sample-based generation modes. You should set `do_sample=True` or unset `temperature`.\n",
      "  warnings.warn(\n",
      "Answering Questions:  13%|█▎        | 13/98 [01:52<12:10,  8.60s/it]"
     ]
    },
    {
     "name": "stdout",
     "output_type": "stream",
     "text": [
      "Answer: 다음 정보를 바탕으로 질문에 답하세요:​​​​​​​​​​​​​​​​​​​​​​​​​​​​​​​​​​​​​​​​​​​​​​​​​​​​​​​​​​​​​​​​​​​​​​​​​​​​​​​​​​​​​​​​​​​​​​​​​​​​​​​​​​​​​​​​​​​​​​​​​\n",
      "\n",
      "Question: 부모급여 지원사업은 언제부터 시행되었나요?\n"
     ]
    },
    {
     "name": "stderr",
     "output_type": "stream",
     "text": [
      "/lockard_ai/works/PEFT/venv_peft/lib/python3.8/site-packages/transformers/generation/configuration_utils.py:567: UserWarning: `do_sample` is set to `False`. However, `temperature` is set to `0.2` -- this flag is only used in sample-based generation modes. You should set `do_sample=True` or unset `temperature`.\n",
      "  warnings.warn(\n",
      "Answering Questions:  14%|█▍        | 14/98 [02:01<12:03,  8.61s/it]"
     ]
    },
    {
     "name": "stdout",
     "output_type": "stream",
     "text": [
      "Answer: 부모급여 지원사업은 2022년 1월 1일부터 시행됩니다.​​​​​​​​​​​​​​​​​​​​​​​​​​​​​​​​​​​​​​​​​​​​​​​​​​​​​​​​​​​​​​​​​​​​​​​​​​​​​​​​​​​​​​​​​​​​​​​​​​​​​​​​​​​​​\n",
      "\n",
      "Question: 보건복지부의 부모급여(영아수당) 지원 사업시행방법은 무엇이며, 사업 수혜자는 누구인가?\n"
     ]
    },
    {
     "name": "stderr",
     "output_type": "stream",
     "text": [
      "/lockard_ai/works/PEFT/venv_peft/lib/python3.8/site-packages/transformers/generation/configuration_utils.py:567: UserWarning: `do_sample` is set to `False`. However, `temperature` is set to `0.2` -- this flag is only used in sample-based generation modes. You should set `do_sample=True` or unset `temperature`.\n",
      "  warnings.warn(\n",
      "Answering Questions:  15%|█▌        | 15/98 [02:09<11:51,  8.57s/it]"
     ]
    },
    {
     "name": "stdout",
     "output_type": "stream",
     "text": [
      "Answer: 1. 사업 코드 정보​구분​회계​소관​실국(기관)​계정​분야​부문​코드​11​일반회계​23​보건복지부​인구정책실​보육정책관​080​08A​명칭​사회복지​아동·보육​구분​프로그램​단위사업​코드​3100​3143​300​명칭​보육지원강화​부모급여(영아수당) 지원​2. 사업 지원 형태 및 지원율​직접​\n",
      "\n",
      "Question: 노인장기요양보험 사업 운영에 대한 목적은 무엇인가요?\n"
     ]
    },
    {
     "name": "stderr",
     "output_type": "stream",
     "text": [
      "/lockard_ai/works/PEFT/venv_peft/lib/python3.8/site-packages/transformers/generation/configuration_utils.py:567: UserWarning: `do_sample` is set to `False`. However, `temperature` is set to `0.2` -- this flag is only used in sample-based generation modes. You should set `do_sample=True` or unset `temperature`.\n",
      "  warnings.warn(\n",
      "Answering Questions:  16%|█▋        | 16/98 [02:18<11:38,  8.52s/it]"
     ]
    },
    {
     "name": "stdout",
     "output_type": "stream",
     "text": [
      "Answer: 노인장기요양보험 사업은 고령이나 노인성 질병으로 일상생활을 혼자서 수행하기​어려운 노인 등에게 신체 또는 가사 활동 등을 제공하는 노인장기요양보험에 국고지원을​하여, 효율적인 정책추진으로 노후의 건강증진 및 생활 안정을 도모하고 가족의 부담을​완화하여 국민 삶의 질을 향상시키기 위한 사업입니다.​​​​​​​​​​​​​​​​​​​​​​​​​​​​​​​​​​​​​​​​​​​​​​​​​​\n",
      "\n",
      "Question: 노인장기요양보험 운영지원에 대한 사업 내용을 설명해줘.\n"
     ]
    },
    {
     "name": "stderr",
     "output_type": "stream",
     "text": [
      "/lockard_ai/works/PEFT/venv_peft/lib/python3.8/site-packages/transformers/generation/configuration_utils.py:567: UserWarning: `do_sample` is set to `False`. However, `temperature` is set to `0.2` -- this flag is only used in sample-based generation modes. You should set `do_sample=True` or unset `temperature`.\n",
      "  warnings.warn(\n",
      "Answering Questions:  17%|█▋        | 17/98 [02:26<11:32,  8.55s/it]"
     ]
    },
    {
     "name": "stdout",
     "output_type": "stream",
     "text": [
      "Answer: 노인장기요양보험 운영지원에 대한 사업 내용은 다음과 같습니다.​1. 사업 코드 정보​구분​회계​소관​실국(기관)​계정​분야​부문​코드​11​일반회계​23​보건복지부​인구정책실​노인정책관​080​08B​명칭​사회복지​노인​구분​프로그램​단위사업​코드​2200​2231​303​명칭​노인의료보장​노인장기요양보험 지원​노인장기요\n",
      "\n",
      "Question: 국고지원을 받는 기타 의료급여수급권자는 누구인가요?\n"
     ]
    },
    {
     "name": "stderr",
     "output_type": "stream",
     "text": [
      "/lockard_ai/works/PEFT/venv_peft/lib/python3.8/site-packages/transformers/generation/configuration_utils.py:567: UserWarning: `do_sample` is set to `False`. However, `temperature` is set to `0.2` -- this flag is only used in sample-based generation modes. You should set `do_sample=True` or unset `temperature`.\n",
      "  warnings.warn(\n",
      "Answering Questions:  18%|█▊        | 18/98 [02:36<11:36,  8.71s/it]"
     ]
    },
    {
     "name": "stdout",
     "output_type": "stream",
     "text": [
      "Answer: 다음 정보를 바탕으로 질문에 답하세요:​​​​​​​​​​​​​​​​​​​​​​​​​​​​​​​​​​​​​​​​​​​​​​​​​​​​​​​​​​​​​​​​​​​​​​​​​​​​​​​​​​​​​​​​​​​​​​​​​​​​​​​​​​​​​​​​​​​​​​​​​\n",
      "\n",
      "Question: 장기요양보험가입자 및 피부양자의 자격취득과 관련하여 어떤 법률을 준용해야 하는가?\n"
     ]
    },
    {
     "name": "stderr",
     "output_type": "stream",
     "text": [
      "/lockard_ai/works/PEFT/venv_peft/lib/python3.8/site-packages/transformers/generation/configuration_utils.py:567: UserWarning: `do_sample` is set to `False`. However, `temperature` is set to `0.2` -- this flag is only used in sample-based generation modes. You should set `do_sample=True` or unset `temperature`.\n",
      "  warnings.warn(\n",
      "Answering Questions:  19%|█▉        | 19/98 [02:45<11:35,  8.80s/it]"
     ]
    },
    {
     "name": "stdout",
     "output_type": "stream",
     "text": [
      "Answer: 노인장기요양보험법 제4조(국가 및 지방자치단체의 책무 등) 4국가 및 지방자치단체는 장기요양급여가 원활히 제공될 수 있도록 공단에 필요한 행정적 또는 재정적 지원을 할 수 있다.​노인장기요양보험법 제11조(장기요양보험가입 자격 등에 관한 준용) 1장기요양보험가입자·피부양자의 자격취득·상실, 장기요양보험료 등의 납부·징수 및 결손처분 등에 관하여는 「국민건강보험법」 제5조, 제​6조, 제\n",
      "\n",
      "Question: 노인장기요양보험법이 언제 제정되고 공포되었나?\n"
     ]
    },
    {
     "name": "stderr",
     "output_type": "stream",
     "text": [
      "/lockard_ai/works/PEFT/venv_peft/lib/python3.8/site-packages/transformers/generation/configuration_utils.py:567: UserWarning: `do_sample` is set to `False`. However, `temperature` is set to `0.2` -- this flag is only used in sample-based generation modes. You should set `do_sample=True` or unset `temperature`.\n",
      "  warnings.warn(\n",
      "Answering Questions:  20%|██        | 20/98 [02:53<11:24,  8.77s/it]"
     ]
    },
    {
     "name": "stdout",
     "output_type": "stream",
     "text": [
      "Answer: 노인장기요양보험법이 2007년 4월 27일 제정되고 2008년 7월 1일부터 시행되었습니다.​​​​​​​​​​​​​​​​​​​​​​​​​​​​​​​​​​​​​​​​​​​​​​​​​​​​​​​​​​​​​​​​​​​​​​​​​​​​​​​​​​​​​​​​​​​\n",
      "\n",
      "Question: 장기요양인정점수 완화가 언제 이루어졌으며, 어떤 변화가 있었나?\n"
     ]
    },
    {
     "name": "stderr",
     "output_type": "stream",
     "text": [
      "/lockard_ai/works/PEFT/venv_peft/lib/python3.8/site-packages/transformers/generation/configuration_utils.py:567: UserWarning: `do_sample` is set to `False`. However, `temperature` is set to `0.2` -- this flag is only used in sample-based generation modes. You should set `do_sample=True` or unset `temperature`.\n",
      "  warnings.warn(\n",
      "Answering Questions:  21%|██▏       | 21/98 [03:02<11:13,  8.75s/it]"
     ]
    },
    {
     "name": "stdout",
     "output_type": "stream",
     "text": [
      "Answer: 2012년 7월 1일 노인장기요양보험법 시행령 개정으로 장기요양인정점수 완화가 이루어졌으며, ​​2012년 7월 1일 노인장기요양보험법 시행령 개정으로 장기요양인정점수 완화가 이루어졌으며, ​​2012년 7월 1일 노인장기요양보험법 시행령 개정으로 장기요양인정점수 완화가 이루어졌으며, ​​2012년 7월 1일 노인장기요양보험법 시행령 개정\n",
      "\n",
      "Question: 장기요양기관 지정갱신제의 법적 근거가 언제 마련되었는가?\n"
     ]
    },
    {
     "name": "stderr",
     "output_type": "stream",
     "text": [
      "/lockard_ai/works/PEFT/venv_peft/lib/python3.8/site-packages/transformers/generation/configuration_utils.py:567: UserWarning: `do_sample` is set to `False`. However, `temperature` is set to `0.2` -- this flag is only used in sample-based generation modes. You should set `do_sample=True` or unset `temperature`.\n",
      "  warnings.warn(\n",
      "Answering Questions:  22%|██▏       | 22/98 [03:11<11:03,  8.72s/it]"
     ]
    },
    {
     "name": "stdout",
     "output_type": "stream",
     "text": [
      "Answer: - (’18.12월) 장기요양기관 지정갱신제 법적 근거 마련(’25. 시행)​- (’22.10월) 요양보호사 인력배치기준 개선(요양보호사 1명당 시설수급자 2.5명→2.3명)​- (’23.8월) “제3차 장기요양 기본계획” 수립ᆞ발표​- (’25.1월) 장기요양기관 지정갱신제 시행​- (’25.7월) 장기요양기관\n",
      "\n",
      "Question: 22.10월에 요양보호사 1명당 시설수급자 인력배치기준이 개선된 내용은 무엇인가?\n"
     ]
    },
    {
     "name": "stderr",
     "output_type": "stream",
     "text": [
      "/lockard_ai/works/PEFT/venv_peft/lib/python3.8/site-packages/transformers/generation/configuration_utils.py:567: UserWarning: `do_sample` is set to `False`. However, `temperature` is set to `0.2` -- this flag is only used in sample-based generation modes. You should set `do_sample=True` or unset `temperature`.\n",
      "  warnings.warn(\n",
      "Answering Questions:  23%|██▎       | 23/98 [03:19<10:51,  8.69s/it]"
     ]
    },
    {
     "name": "stdout",
     "output_type": "stream",
     "text": [
      "Answer: - (’18.2월) “제2차 장기요양 기본계획” 수립ᆞ발표​- (’18.7월) 장기요양 보장성 강화를 위한 본인부담 감경대상 및 감경율 확대​ * (기존) 기준중위소득 50% 이하 대상 본인부담 50% 감경 → (변경) 건보료 기준 하위 25% 대상 60% 감경, 하위 25~50% 대상 40% 감경​- (’18.12월) 장기요양기관 지정갱\n",
      "\n",
      "Question: 에너지 바우처 제도의 주요 내용은 무엇인가요?\n"
     ]
    },
    {
     "name": "stderr",
     "output_type": "stream",
     "text": [
      "/lockard_ai/works/PEFT/venv_peft/lib/python3.8/site-packages/transformers/generation/configuration_utils.py:567: UserWarning: `do_sample` is set to `False`. However, `temperature` is set to `0.2` -- this flag is only used in sample-based generation modes. You should set `do_sample=True` or unset `temperature`.\n",
      "  warnings.warn(\n",
      "Answering Questions:  24%|██▍       | 24/98 [03:28<10:50,  8.79s/it]"
     ]
    },
    {
     "name": "stdout",
     "output_type": "stream",
     "text": [
      "Answer: 1) 에너지바우처 제도 개요​​​​​​​​​​​​​​​​​​​​​​​​​​​​​​​​​​​​​​​​​​​​​​​​​​​​​​​​​​​​​​​​​​​​​​​​​​​​​​​​​​​​​​​​​​​​​​​​​​​​​​​​​​​​​​​​​​​​​​​\n",
      "\n",
      "Question: 에너지바우처 사업의 주요 수혜자는 누구인가요?\n"
     ]
    },
    {
     "name": "stderr",
     "output_type": "stream",
     "text": [
      "/lockard_ai/works/PEFT/venv_peft/lib/python3.8/site-packages/transformers/generation/configuration_utils.py:567: UserWarning: `do_sample` is set to `False`. However, `temperature` is set to `0.2` -- this flag is only used in sample-based generation modes. You should set `do_sample=True` or unset `temperature`.\n",
      "  warnings.warn(\n",
      "Answering Questions:  26%|██▌       | 25/98 [03:37<10:46,  8.86s/it]"
     ]
    },
    {
     "name": "stdout",
     "output_type": "stream",
     "text": [
      "Answer: 1) 에너지바우처 사업의 주요 수혜자는 에너지소외계층입니다.​​​​​​​​​​​​​​​​​​​​​​​​​​​​​​​​​​​​​​​​​​​​​​​​​​​​​​​​​​​​​​​​​​​​​​​​​​​​​​​​​​​​​​​​​​​​​​​​​​​​​​​​​​​​​​​\n",
      "\n",
      "Question: 2024년 에너지바우처 사업의 사업시행주체는 무엇인가요?\n"
     ]
    },
    {
     "name": "stderr",
     "output_type": "stream",
     "text": [
      "/lockard_ai/works/PEFT/venv_peft/lib/python3.8/site-packages/transformers/generation/configuration_utils.py:567: UserWarning: `do_sample` is set to `False`. However, `temperature` is set to `0.2` -- this flag is only used in sample-based generation modes. You should set `do_sample=True` or unset `temperature`.\n",
      "  warnings.warn(\n",
      "Answering Questions:  27%|██▋       | 26/98 [03:46<10:32,  8.79s/it]"
     ]
    },
    {
     "name": "stdout",
     "output_type": "stream",
     "text": [
      "Answer: 2024년 에너지바우처 사업의 사업시행주체는 한국에너지공단입니다.​​​​​​​​​​​​​​​​​​​​​​​​​​​​​​​​​​​​​​​​​​​​​​​​​​​​​​​​​​​​​​​​​​​​​​​​​​​​​​​​​​​​​​​​​​​​​​​​​​​​​​​​​​​\n",
      "\n",
      "Question: 하절기바우처와 동절기바우처의 2024년 예산 규모는 각각 얼마인가요?\n"
     ]
    },
    {
     "name": "stderr",
     "output_type": "stream",
     "text": [
      "/lockard_ai/works/PEFT/venv_peft/lib/python3.8/site-packages/transformers/generation/configuration_utils.py:567: UserWarning: `do_sample` is set to `False`. However, `temperature` is set to `0.2` -- this flag is only used in sample-based generation modes. You should set `do_sample=True` or unset `temperature`.\n",
      "  warnings.warn(\n",
      "This is a friendly reminder - the current text generation call will exceed the model's predefined maximum length (2048). Depending on the model, you may observe exceptions, performance degradation, or nothing at all.\n",
      "Answering Questions:  28%|██▊       | 27/98 [03:55<10:25,  8.82s/it]"
     ]
    },
    {
     "name": "stdout",
     "output_type": "stream",
     "text": [
      "Answer: 2024년 예산​본예산(A)​2024​증감​(B-A)​정부안​확정​(B)​(B-A)/​A​에너지바우처​230,556​190,963​685,606​685,606​494,643​259.0​□기능별(내역사업별), 목별 예산안 내역​(단위: 백만원)​2022​202\n",
      "\n",
      "Question: 2023년 에너지바우처 사업 예산에서 사업운영비 중 에너지복지 홍보에 얼마가 할당되었나요?\n"
     ]
    },
    {
     "name": "stderr",
     "output_type": "stream",
     "text": [
      "/lockard_ai/works/PEFT/venv_peft/lib/python3.8/site-packages/transformers/generation/configuration_utils.py:567: UserWarning: `do_sample` is set to `False`. However, `temperature` is set to `0.2` -- this flag is only used in sample-based generation modes. You should set `do_sample=True` or unset `temperature`.\n",
      "  warnings.warn(\n",
      "Answering Questions:  29%|██▊       | 28/98 [04:04<10:17,  8.82s/it]"
     ]
    },
    {
     "name": "stdout",
     "output_type": "stream",
     "text": [
      "Answer: 2023년 에너지바우처 사업 예산에서 에너지복지 홍보에 328백만원이 할당되었습니다.​​​​​​​​​​​​​​​​​​​​​​​​​​​​​​​​​​​​​​​​​​​​​​​​​​​​​​​​​​​​​​​​​​​​​​​​​​​​​​​​​​​​​​​​​​​​​​​​​​​​​\n",
      "\n",
      "Question: 2023년 에너지바우처 사업 예산에서 사업운영비 중 시스템 고도화에 얼마가 할당되었나요?\n"
     ]
    },
    {
     "name": "stderr",
     "output_type": "stream",
     "text": [
      "/lockard_ai/works/PEFT/venv_peft/lib/python3.8/site-packages/transformers/generation/configuration_utils.py:567: UserWarning: `do_sample` is set to `False`. However, `temperature` is set to `0.2` -- this flag is only used in sample-based generation modes. You should set `do_sample=True` or unset `temperature`.\n",
      "  warnings.warn(\n",
      "Answering Questions:  30%|██▉       | 29/98 [04:12<10:09,  8.83s/it]"
     ]
    },
    {
     "name": "stdout",
     "output_type": "stream",
     "text": [
      "Answer: 2023년 에너지바우처 사업 예산에서 시스템 고도화에 얼마가 할당되었는지에 대한 정보가 없습니다.​​​​​​​​​​​​​​​​​​​​​​​​​​​​​​​​​​​​​​​​​​​​​​​​​​​​​​​​​​​​​​​​​​​​​​​​​​​​​​​​​​​​​​​​​​​​​​​​​​​​​\n",
      "\n",
      "Question: 2023년 에너지바우처 사업 예산에서 콜센터 운영에 얼마가 할당되었나요?\n"
     ]
    },
    {
     "name": "stderr",
     "output_type": "stream",
     "text": [
      "/lockard_ai/works/PEFT/venv_peft/lib/python3.8/site-packages/transformers/generation/configuration_utils.py:567: UserWarning: `do_sample` is set to `False`. However, `temperature` is set to `0.2` -- this flag is only used in sample-based generation modes. You should set `do_sample=True` or unset `temperature`.\n",
      "  warnings.warn(\n",
      "Answering Questions:  31%|███       | 30/98 [04:21<09:57,  8.79s/it]"
     ]
    },
    {
     "name": "stdout",
     "output_type": "stream",
     "text": [
      "Answer: 2023년 에너지바우처 사업 예산에서 콜센터 운영에 얼마가 할당되었나요?​​​​​​​​​​​​​​​​​​​​​​​​​​​​​​​​​​​​​​​​​​​​​​​​​​​​​​​​​​​​​​​​​​​​​​​​​​​​​​​​​​​​​​​​​​​​​​​​​​​​​​​​​\n",
      "\n",
      "Question: 2023년 에너지바우처 사업 예산에서 패널조사에 얼마가 할당되었나요?\n"
     ]
    },
    {
     "name": "stderr",
     "output_type": "stream",
     "text": [
      "/lockard_ai/works/PEFT/venv_peft/lib/python3.8/site-packages/transformers/generation/configuration_utils.py:567: UserWarning: `do_sample` is set to `False`. However, `temperature` is set to `0.2` -- this flag is only used in sample-based generation modes. You should set `do_sample=True` or unset `temperature`.\n",
      "  warnings.warn(\n",
      "Answering Questions:  32%|███▏      | 31/98 [04:30<09:47,  8.76s/it]"
     ]
    },
    {
     "name": "stdout",
     "output_type": "stream",
     "text": [
      "Answer: 2023년 에너지바우처 사업 예산에서 패널조사에 얼마가 할당되었나요?​​​​​​​​​​​​​​​​​​​​​​​​​​​​​​​​​​​​​​​​​​​​​​​​​​​​​​​​​​​​​​​​​​​​​​​​​​​​​​​​​​​​​​​​​​​​​​​​​​​​​​​​​​\n",
      "\n",
      "Question: 2023년 에너지바우처 사업 예산에서 에너지바우처 전달체계 구축에 얼마가 할당되었나요?\n"
     ]
    },
    {
     "name": "stderr",
     "output_type": "stream",
     "text": [
      "/lockard_ai/works/PEFT/venv_peft/lib/python3.8/site-packages/transformers/generation/configuration_utils.py:567: UserWarning: `do_sample` is set to `False`. However, `temperature` is set to `0.2` -- this flag is only used in sample-based generation modes. You should set `do_sample=True` or unset `temperature`.\n",
      "  warnings.warn(\n",
      "Answering Questions:  33%|███▎      | 32/98 [04:39<09:44,  8.85s/it]"
     ]
    },
    {
     "name": "stdout",
     "output_type": "stream",
     "text": [
      "Answer: 2023년 에너지바우처 사업 예산은 1,872백만원입니다.​​​​​​​​​​​​​​​​​​​​​​​​​​​​​​​​​​​​​​​​​​​​​​​​​​​​​​​​​​​​​​​​​​​​​​​​​​​​​​​​​​​​​​​​​​​​​​​​​​​​​​​​​​\n",
      "\n",
      "Question: 2023년 에너지바우처 사업 예산에서 주택관리공단 운영지원에 얼마가 할당되었나요?\n"
     ]
    },
    {
     "name": "stderr",
     "output_type": "stream",
     "text": [
      "/lockard_ai/works/PEFT/venv_peft/lib/python3.8/site-packages/transformers/generation/configuration_utils.py:567: UserWarning: `do_sample` is set to `False`. However, `temperature` is set to `0.2` -- this flag is only used in sample-based generation modes. You should set `do_sample=True` or unset `temperature`.\n",
      "  warnings.warn(\n",
      "Answering Questions:  34%|███▎      | 33/98 [04:48<09:38,  8.90s/it]"
     ]
    },
    {
     "name": "stdout",
     "output_type": "stream",
     "text": [
      "Answer: 2023년 예산 및 2024년 예산 산출 세부내역 비교​’23년 예산​’24년 예산​예산​산출내역​예산​산출내역​ 190,963​○ 민간경상보조(320-01) : 190,963백만원​가. 하절기바우처 (36,851백만원)​ ᆞ 85.7만 세대 × 4.3만원 = 36,851백만원\n",
      "\n",
      "Question: 에너지바우처 사업의 향후 기대효과는 무엇인가요?\n"
     ]
    },
    {
     "name": "stderr",
     "output_type": "stream",
     "text": [
      "/lockard_ai/works/PEFT/venv_peft/lib/python3.8/site-packages/transformers/generation/configuration_utils.py:567: UserWarning: `do_sample` is set to `False`. However, `temperature` is set to `0.2` -- this flag is only used in sample-based generation modes. You should set `do_sample=True` or unset `temperature`.\n",
      "  warnings.warn(\n",
      "Answering Questions:  35%|███▍      | 34/98 [04:57<09:27,  8.87s/it]"
     ]
    },
    {
     "name": "stdout",
     "output_type": "stream",
     "text": [
      "Answer: 에너지바우처 사업은 에너지복지 사각지대에 있는 저소득층에게 에너지이용권을 지급하여 에너지 ​​소외계층의 에너지 복지를 지원하는 사업입니다.​​​​​​​​​​​​​​​​​​​​​​​​​​​​​​​​​​​​​​​​​​​​​​​​​​​​​​​​​​​​​​​​​​​​​​​​​​​​​​​​​​​​​​​​​​​​​​\n",
      "\n",
      "Question: 에너지바우처 사업에 대한 예비타당성조사를 어떤 조사기관이 수행했나요?\n"
     ]
    },
    {
     "name": "stderr",
     "output_type": "stream",
     "text": [
      "/lockard_ai/works/PEFT/venv_peft/lib/python3.8/site-packages/transformers/generation/configuration_utils.py:567: UserWarning: `do_sample` is set to `False`. However, `temperature` is set to `0.2` -- this flag is only used in sample-based generation modes. You should set `do_sample=True` or unset `temperature`.\n",
      "  warnings.warn(\n",
      "Answering Questions:  36%|███▌      | 35/98 [05:06<09:22,  8.92s/it]"
     ]
    },
    {
     "name": "stdout",
     "output_type": "stream",
     "text": [
      "Answer: 예비타당성조사​​​​​​​​​​​​​​​​​​​​​​​​​​​​​​​​​​​​​​​​​​​​​​​​​​​​​​​​​​​​​​​​​​​​​​​​​​​​​​​​​​​​​​​​​​​​​​​​​​​​​​​​​​​​​​​​​​​​​​​​​​\n",
      "\n",
      "Question: 21년 국정감사에서 에너지 바우처 사업에 대한 주요 지적사항은 무엇이었나요?\n"
     ]
    },
    {
     "name": "stderr",
     "output_type": "stream",
     "text": [
      "/lockard_ai/works/PEFT/venv_peft/lib/python3.8/site-packages/transformers/generation/configuration_utils.py:567: UserWarning: `do_sample` is set to `False`. However, `temperature` is set to `0.2` -- this flag is only used in sample-based generation modes. You should set `do_sample=True` or unset `temperature`.\n",
      "  warnings.warn(\n",
      "Answering Questions:  37%|███▋      | 36/98 [05:15<09:11,  8.89s/it]"
     ]
    },
    {
     "name": "stdout",
     "output_type": "stream",
     "text": [
      "Answer: 2021년 국정감사에서 지적된 주요 지적사항은 다음과 같습니다.​1) 에너지바우처 사업 추진과정에서 수급자 변경 등으로 예산부족이 발생하지 않도록 수급자 선정기준 등의 변경계획 등에 대하여 보건복지부·지자체와 면밀히 소통하여 예산을 편성하고 사업을 추진​2) 에너지바우처 사업 추진과정에서 수급자 변경 등으로 예산부족이 발생하지 않도록 수급자 선정기준 등의 변경계획 등에 대하여 보건복지부·지자체와 면밀히 소통하여 예산을 편성하고 사업을 추진​3) 에너지바우처 사업 추진과정에서 수급자 변경 등으로 예산부족이\n",
      "\n",
      "Question: 21년 에너지바우처 사업에 대한 결산 지적사항은 무엇이었나요?\n"
     ]
    },
    {
     "name": "stderr",
     "output_type": "stream",
     "text": [
      "/lockard_ai/works/PEFT/venv_peft/lib/python3.8/site-packages/transformers/generation/configuration_utils.py:567: UserWarning: `do_sample` is set to `False`. However, `temperature` is set to `0.2` -- this flag is only used in sample-based generation modes. You should set `do_sample=True` or unset `temperature`.\n",
      "  warnings.warn(\n",
      "Answering Questions:  38%|███▊      | 37/98 [05:23<09:00,  8.86s/it]"
     ]
    },
    {
     "name": "stdout",
     "output_type": "stream",
     "text": [
      "Answer: 2021년 에너지바우처 사업 결산 지적사항은 다음과 같습니다.​​​​​​​​​​​​​​​​​​​​​​​​​​​​​​​​​​​​​​​​​​​​​​​​​​​​​​​​​​​​​​​​​​​​​​​​​​​​​​​​​​​​​​​​​​​​​​​​​​​​​​​​​​​​​\n",
      "\n",
      "Question: 에너지 바우처 사업의 향후 추진방향 중 '취약계층의 에너지 비용 부담 완화'를 위한 계획은 무엇이었나요?\n"
     ]
    },
    {
     "name": "stderr",
     "output_type": "stream",
     "text": [
      "/lockard_ai/works/PEFT/venv_peft/lib/python3.8/site-packages/transformers/generation/configuration_utils.py:567: UserWarning: `do_sample` is set to `False`. However, `temperature` is set to `0.2` -- this flag is only used in sample-based generation modes. You should set `do_sample=True` or unset `temperature`.\n",
      "  warnings.warn(\n",
      "Answering Questions:  39%|███▉      | 38/98 [05:32<08:48,  8.82s/it]"
     ]
    },
    {
     "name": "stdout",
     "output_type": "stream",
     "text": [
      "Answer: 에너지바우처 사업은 에너지복지의 사각지대에 있는 에너지소외계층의 에너지비용 부담을 완화하기 위해 도입된 사업으로, 2015년 12월 1일 시행된 에너지법 개정에 따라 2016년 11월부터 2017년 1월 신청·접수, 2016년 12월부터 2017년 4월 사용, 2017년 10월부터 2018년 1월 신청·접수, 2017년 11월부터 \n",
      "\n",
      "Question: 행복주택출자 사업은 어떤 근거로 추진되고 있는가?\n"
     ]
    },
    {
     "name": "stderr",
     "output_type": "stream",
     "text": [
      "/lockard_ai/works/PEFT/venv_peft/lib/python3.8/site-packages/transformers/generation/configuration_utils.py:567: UserWarning: `do_sample` is set to `False`. However, `temperature` is set to `0.2` -- this flag is only used in sample-based generation modes. You should set `do_sample=True` or unset `temperature`.\n",
      "  warnings.warn(\n",
      "Answering Questions:  40%|███▉      | 39/98 [05:41<08:35,  8.74s/it]"
     ]
    },
    {
     "name": "stdout",
     "output_type": "stream",
     "text": [
      "Answer: 행복주택출자 사업은 2017년 11월 29일 「2017년 국토교통부 업무보고」에서 2022년까지 20만호를 공급하겠다고 발표한 바 있으며, 2022년까지 20만호를 공급하기 위해서는 2021년까지 10만호를 공급해야 하므로, 2021년까지 10만호를 공급하기 위해서는 2020년까지 5만호를 공급해야 하므로, 2020년까지 5만호를 공급하기 위해서는 2019년까지 \n",
      "\n",
      "Question: 행복주택출자 사업은 어떤 목적으로 시행되는가?\n"
     ]
    },
    {
     "name": "stderr",
     "output_type": "stream",
     "text": [
      "/lockard_ai/works/PEFT/venv_peft/lib/python3.8/site-packages/transformers/generation/configuration_utils.py:567: UserWarning: `do_sample` is set to `False`. However, `temperature` is set to `0.2` -- this flag is only used in sample-based generation modes. You should set `do_sample=True` or unset `temperature`.\n",
      "  warnings.warn(\n",
      "Answering Questions:  41%|████      | 40/98 [05:49<08:25,  8.71s/it]"
     ]
    },
    {
     "name": "stdout",
     "output_type": "stream",
     "text": [
      "Answer: 행복주택출자 사업은 도심 내 다양한 부지를 활용하여 행복주택을 공급하는 사업입니다. 2024년까지 2.2만호를 준공할 계획입니다. 2024년까지 2.2만호를 준공할 계획입니다. 2024년까지 2.2만호를 준공할 계획입니다. 2024년까지 2.2만호를 준공할 계획입니다. 2024년까지 2.2만호를 준공할 계획입니다. 2024년까지 2.2만호를 준공할 계획입니다. 2024년까지 2.2만\n",
      "\n",
      "Question: 행복주택출자 사업의 주요 수혜자는 누구인가?\n"
     ]
    },
    {
     "name": "stderr",
     "output_type": "stream",
     "text": [
      "/lockard_ai/works/PEFT/venv_peft/lib/python3.8/site-packages/transformers/generation/configuration_utils.py:567: UserWarning: `do_sample` is set to `False`. However, `temperature` is set to `0.2` -- this flag is only used in sample-based generation modes. You should set `do_sample=True` or unset `temperature`.\n",
      "  warnings.warn(\n",
      "Answering Questions:  42%|████▏     | 41/98 [05:58<08:13,  8.66s/it]"
     ]
    },
    {
     "name": "stdout",
     "output_type": "stream",
     "text": [
      "Answer: 행복주택출자 사업의 주요 수혜자는 대학생, 사회초년생, 신혼부부, 고령자 및 주거취약계층이다. 2024년까지 2.2만호를 공급할 예정이며, 2024년까지 2.2만호를 공급할 예정이다. 2024년까지 2.2만호를 공급할 예정이다. 2024년까지 2.2만호를 공급할 예정이다. 2024년까지 2.2만호를 공급할 예정이다. 2024년까지 2.2만호를 공급할 예정이다. 20\n",
      "\n",
      "Question: 행복주택출자 사업의 사업비 추이는 어떠한가?\n"
     ]
    },
    {
     "name": "stderr",
     "output_type": "stream",
     "text": [
      "/lockard_ai/works/PEFT/venv_peft/lib/python3.8/site-packages/transformers/generation/configuration_utils.py:567: UserWarning: `do_sample` is set to `False`. However, `temperature` is set to `0.2` -- this flag is only used in sample-based generation modes. You should set `do_sample=True` or unset `temperature`.\n",
      "  warnings.warn(\n",
      "Answering Questions:  43%|████▎     | 42/98 [06:07<08:07,  8.71s/it]"
     ]
    },
    {
     "name": "stdout",
     "output_type": "stream",
     "text": [
      "Answer: 행복주택출자 사업의 사업비 추이는 다음과 같다. 2022년 564,342억원, 2023년 684,607억원, 2024년 532,913억원이다. 2022년 당초 계획은 564,342억원이었으나, 2023년 계획은 684,607억원으로 2022년 당초 계획보다 155,824억원이 증액되었다. 202\n",
      "\n",
      "Question: 행복주택출자 사업의 사업시행주체는 누구인가?\n"
     ]
    },
    {
     "name": "stderr",
     "output_type": "stream",
     "text": [
      "/lockard_ai/works/PEFT/venv_peft/lib/python3.8/site-packages/transformers/generation/configuration_utils.py:567: UserWarning: `do_sample` is set to `False`. However, `temperature` is set to `0.2` -- this flag is only used in sample-based generation modes. You should set `do_sample=True` or unset `temperature`.\n",
      "  warnings.warn(\n",
      "Answering Questions:  44%|████▍     | 43/98 [06:15<07:56,  8.66s/it]"
     ]
    },
    {
     "name": "stdout",
     "output_type": "stream",
     "text": [
      "Answer: 행복주택출자 사업의 사업시행주체는 한국토지주택공사(LH)이다. ​​​​​​​​​​​​​​​​​​​​​​​​​​​​​​​​​​​​​​​​​​​​​​​​​​​​​​​​​​​​​​​​​​​​​​​​​​​​​​​​​​​​​​​​​​​​​​​​​​​​​​​​\n",
      "\n",
      "Question: 국고보조사업의 보조율은 어떠한 기준에 따라 운용되는가?\n"
     ]
    },
    {
     "name": "stderr",
     "output_type": "stream",
     "text": [
      "/lockard_ai/works/PEFT/venv_peft/lib/python3.8/site-packages/transformers/generation/configuration_utils.py:567: UserWarning: `do_sample` is set to `False`. However, `temperature` is set to `0.2` -- this flag is only used in sample-based generation modes. You should set `do_sample=True` or unset `temperature`.\n",
      "  warnings.warn(\n",
      "Answering Questions:  45%|████▍     | 44/98 [06:24<07:46,  8.64s/it]"
     ]
    },
    {
     "name": "stdout",
     "output_type": "stream",
     "text": [
      "Answer: 국고보조사업의 보조율은 지방교부세와 국고보조금을 중심으로 운용되고 있음​​​​​​​​​​​​​​​​​​​​​​​​​​​​​​​​​​​​​​​​​​​​​​​​​​​​​​​​​​​​​​​​​​​​​​​​​​​​​​​​​​​​​​​​​​​​​​​​​​​​​​​​​​​\n",
      "\n",
      "Question: 프랑스의 재정조정제도에서 최근 강조되는 형평교부금은 어떤 역할을 하는가?\n"
     ]
    },
    {
     "name": "stderr",
     "output_type": "stream",
     "text": [
      "/lockard_ai/works/PEFT/venv_peft/lib/python3.8/site-packages/transformers/generation/configuration_utils.py:567: UserWarning: `do_sample` is set to `False`. However, `temperature` is set to `0.2` -- this flag is only used in sample-based generation modes. You should set `do_sample=True` or unset `temperature`.\n",
      "  warnings.warn(\n",
      "Answering Questions:  46%|████▌     | 45/98 [06:32<07:38,  8.64s/it]"
     ]
    },
    {
     "name": "stdout",
     "output_type": "stream",
     "text": [
      "Answer: 지방자치단체의 재정여건을 고려하여 기준보조율과 차등보조율을 적용하여 운용하고 있음​​​​​​​​​​​​​​​​​​​​​​​​​​​​​​​​​​​​​​​​​​​​​​​​​​​​​​​​​​​​​​​​​​​​​​​​​​​​​​​​​​​​​​​​​​​​​​​​​​​​​​​​\n",
      "\n",
      "Question: 지방재정조정제도의 목적은 무엇인가?\n"
     ]
    },
    {
     "name": "stderr",
     "output_type": "stream",
     "text": [
      "/lockard_ai/works/PEFT/venv_peft/lib/python3.8/site-packages/transformers/generation/configuration_utils.py:567: UserWarning: `do_sample` is set to `False`. However, `temperature` is set to `0.2` -- this flag is only used in sample-based generation modes. You should set `do_sample=True` or unset `temperature`.\n",
      "  warnings.warn(\n",
      "Answering Questions:  47%|████▋     | 46/98 [06:41<07:30,  8.66s/it]"
     ]
    },
    {
     "name": "stdout",
     "output_type": "stream",
     "text": [
      "Answer: 지방자치단체 간 재정력 격차의 시정, 지역 간 외부 효과의 내부화를 통한 지방공공재 공급, 중앙정부의 위임사무에 대한 비용 부담 등을 목적으로 재정을 조정하는 일련의 조치를 의미함.​​​​​​​​​​​​​​​​​​​​​​​​​​​​​​​​​​​​​​​​​​​​​​​​​​​​​​​​​​​​​​​​​​​​​​​​​​​​​​​​​​\n",
      "\n",
      "Question: 국제적으로 성과중심 재정관리 강화 움직임이 확산된 시기는 언제인가?\n"
     ]
    },
    {
     "name": "stderr",
     "output_type": "stream",
     "text": [
      "/lockard_ai/works/PEFT/venv_peft/lib/python3.8/site-packages/transformers/generation/configuration_utils.py:567: UserWarning: `do_sample` is set to `False`. However, `temperature` is set to `0.2` -- this flag is only used in sample-based generation modes. You should set `do_sample=True` or unset `temperature`.\n",
      "  warnings.warn(\n",
      "Answering Questions:  48%|████▊     | 47/98 [06:50<07:25,  8.74s/it]"
     ]
    },
    {
     "name": "stdout",
     "output_type": "stream",
     "text": [
      "Answer: 200년대 후반 금융위기로 재정건전성 확보와 재정지출 효율성 제고를 위한 노력의 일환으로 성과중심 재정관리 강화 움직임이 국제적으로 확산​​​​​​​​​​​​​​​​​​​​​​​​​​​​​​​​​​​​​​​​​​​​​​​​​​​​​​​​​​​​​​​​​​​​​​​​​​​​​​​​​​​​​​​​​​​​​\n",
      "\n",
      "Question: 한국의 재정사업 성과관리제도는 어떠한 법을 통해 운영되고 있으며, 성과관리 기본계획과 추진계획은 어떻게 의무화되었는가?\n"
     ]
    },
    {
     "name": "stderr",
     "output_type": "stream",
     "text": [
      "/lockard_ai/works/PEFT/venv_peft/lib/python3.8/site-packages/transformers/generation/configuration_utils.py:567: UserWarning: `do_sample` is set to `False`. However, `temperature` is set to `0.2` -- this flag is only used in sample-based generation modes. You should set `do_sample=True` or unset `temperature`.\n",
      "  warnings.warn(\n",
      "Answering Questions:  49%|████▉     | 48/98 [06:59<07:16,  8.73s/it]"
     ]
    },
    {
     "name": "stdout",
     "output_type": "stream",
     "text": [
      "Answer: 한국의 재정사업 성과관리제도는 2007년 「국가재정법」 시행 이후 최소한의 법 조항으로 운영되어 오다, 2021년 12월 법 개정을 통해 별도의 장(章) 신설로 개념 및 체계 명확화​​​​​​​​​​​​​​​​​​​​​​​​​​​​​​​​​​​​​​​​​​​​​​​​​​​​​​​​​​​​​​​​​​​​​​\n",
      "\n",
      "Question: 핵심재정사업 성과관리제도를 안착시키기 위해 필요한 노력과 성과 정보를 학습의 도구로 활용하는 방안은 무엇인가?\n"
     ]
    },
    {
     "name": "stderr",
     "output_type": "stream",
     "text": [
      "/lockard_ai/works/PEFT/venv_peft/lib/python3.8/site-packages/transformers/generation/configuration_utils.py:567: UserWarning: `do_sample` is set to `False`. However, `temperature` is set to `0.2` -- this flag is only used in sample-based generation modes. You should set `do_sample=True` or unset `temperature`.\n",
      "  warnings.warn(\n",
      "Answering Questions:  50%|█████     | 49/98 [07:07<07:01,  8.61s/it]"
     ]
    },
    {
     "name": "stdout",
     "output_type": "stream",
     "text": [
      "Answer: 다음 정보를 바탕으로 질문에 답하세요:​​​​​​​​​​​​​​​​​​​​​​​​​​​​​​​​​​​​​​​​​​​​​​​​​​​​​​​​​​​​​​​​​​​​​​​​​​​​​​​​​​​​​​​​​​​​​​​​​​​​​​​​​​​​​​​​​​​​​​​​​\n",
      "\n",
      "Question: 사회보험 사각지대 발생의 주요 원인과 이로 인해 발생하는 문제는 무엇인가요?\n"
     ]
    },
    {
     "name": "stderr",
     "output_type": "stream",
     "text": [
      "/lockard_ai/works/PEFT/venv_peft/lib/python3.8/site-packages/transformers/generation/configuration_utils.py:567: UserWarning: `do_sample` is set to `False`. However, `temperature` is set to `0.2` -- this flag is only used in sample-based generation modes. You should set `do_sample=True` or unset `temperature`.\n",
      "  warnings.warn(\n",
      "Answering Questions:  51%|█████     | 50/98 [07:16<06:51,  8.58s/it]"
     ]
    },
    {
     "name": "stdout",
     "output_type": "stream",
     "text": [
      "Answer: 고용보험의 경우, 고용보험 가입이 의무화되어 있으나, 고용보험 미가입 사업장 및 근로자의 ​​가입률이 저조하여 사각지대가 발생하고 있습니다.​​​​​​​​​​​​​​​​​​​​​​​​​​​​​​​​​​​​​​​​​​​​​​​​​​​​​​​​​​​​​​​​​​​​​​​​​​​​​​​​​​​​​​​​​​\n",
      "\n",
      "Question: 청년일자리도약장려금은 어떤 대상을 지원하며, 어떤 방식으로 지원되는가?\n"
     ]
    },
    {
     "name": "stderr",
     "output_type": "stream",
     "text": [
      "/lockard_ai/works/PEFT/venv_peft/lib/python3.8/site-packages/transformers/generation/configuration_utils.py:567: UserWarning: `do_sample` is set to `False`. However, `temperature` is set to `0.2` -- this flag is only used in sample-based generation modes. You should set `do_sample=True` or unset `temperature`.\n",
      "  warnings.warn(\n",
      "Answering Questions:  52%|█████▏    | 51/98 [07:24<06:42,  8.57s/it]"
     ]
    },
    {
     "name": "stdout",
     "output_type": "stream",
     "text": [
      "Answer: - \u0003​​​​​​​​​​​​​​​​​​​​​​​​​​​​​​​​​​​​​​​​​​​​​​​​​​​​​​​​​​​​​​​​​​​​​​​​​​​​​​​​​​​​​​​​​​​​​​​​​​​​​​​​​​​​​​​​​​​​​​​​​​​​​\n",
      "\n",
      "Question: 수직적 재정조정제도와 수평적 재정조정제도의 차이는 무엇인가요?\n"
     ]
    },
    {
     "name": "stderr",
     "output_type": "stream",
     "text": [
      "/lockard_ai/works/PEFT/venv_peft/lib/python3.8/site-packages/transformers/generation/configuration_utils.py:567: UserWarning: `do_sample` is set to `False`. However, `temperature` is set to `0.2` -- this flag is only used in sample-based generation modes. You should set `do_sample=True` or unset `temperature`.\n",
      "  warnings.warn(\n",
      "Answering Questions:  53%|█████▎    | 52/98 [07:33<06:33,  8.56s/it]"
     ]
    },
    {
     "name": "stdout",
     "output_type": "stream",
     "text": [
      "Answer: 중앙-지방 간 재정조정제도의 개념 및 용어 정의​​​​​​​​​​​​​​​​​​​​​​​​​​​​​​​​​​​​​​​​​​​​​​​​​​​​​​​​​​​​​​​​​​​​​​​​​​​​​​​​​​​​​​​​​​​​​​​​​​​​​​​​​​​​​​​​​​​\n",
      "\n",
      "Question: 지방재정조정제도는 어떤 목적을 가지고 있나요?\n"
     ]
    },
    {
     "name": "stderr",
     "output_type": "stream",
     "text": [
      "/lockard_ai/works/PEFT/venv_peft/lib/python3.8/site-packages/transformers/generation/configuration_utils.py:567: UserWarning: `do_sample` is set to `False`. However, `temperature` is set to `0.2` -- this flag is only used in sample-based generation modes. You should set `do_sample=True` or unset `temperature`.\n",
      "  warnings.warn(\n",
      "Answering Questions:  54%|█████▍    | 53/98 [07:41<06:24,  8.54s/it]"
     ]
    },
    {
     "name": "stdout",
     "output_type": "stream",
     "text": [
      "Answer: 지방자치단체 간 재정력 격차의 시정, 지역 간 외부 효과의 내부화를 통한 지방공공재 공급, 중앙정부의 위임사무에 대한 비용 부담 등을 목적으로 재정을 조정하는 일련의 조치를 의미1)​​​​​​​​​​​​​​​​​​​​​​​​​​​​​​​​​​​​​​​​​​​​​​​​​​​​​​​​​​​​​​​​​​​​​​​​​​​​​​​​​​\n",
      "\n",
      "Question: 중앙-지방 간 재정조정제도에서 어떤 재원을 이전하여 수직적 재정 불균형을 해소하는가?\n"
     ]
    },
    {
     "name": "stderr",
     "output_type": "stream",
     "text": [
      "/lockard_ai/works/PEFT/venv_peft/lib/python3.8/site-packages/transformers/generation/configuration_utils.py:567: UserWarning: `do_sample` is set to `False`. However, `temperature` is set to `0.2` -- this flag is only used in sample-based generation modes. You should set `do_sample=True` or unset `temperature`.\n",
      "  warnings.warn(\n",
      "Answering Questions:  55%|█████▌    | 54/98 [07:50<06:15,  8.53s/it]"
     ]
    },
    {
     "name": "stdout",
     "output_type": "stream",
     "text": [
      "Answer: 중앙-지방 간 재정조정제도의 개념과 용어 정의​​​​​​​​​​​​​​​​​​​​​​​​​​​​​​​​​​​​​​​​​​​​​​​​​​​​​​​​​​​​​​​​​​​​​​​​​​​​​​​​​​​​​​​​​​​​​​​​​​​​​​​​​​​​​​​​​​​\n",
      "\n",
      "Question: 중앙정부의 예산편성은 어떤 재원 배분 문제를 결정하며, 중앙-지방 간 재정조정제도를 통해 어떤 재원을 이전하고, 이의 목적은 무엇인가?\n"
     ]
    },
    {
     "name": "stderr",
     "output_type": "stream",
     "text": [
      "/lockard_ai/works/PEFT/venv_peft/lib/python3.8/site-packages/transformers/generation/configuration_utils.py:567: UserWarning: `do_sample` is set to `False`. However, `temperature` is set to `0.2` -- this flag is only used in sample-based generation modes. You should set `do_sample=True` or unset `temperature`.\n",
      "  warnings.warn(\n",
      "Answering Questions:  56%|█████▌    | 55/98 [07:59<06:11,  8.65s/it]"
     ]
    },
    {
     "name": "stdout",
     "output_type": "stream",
     "text": [
      "Answer: 중앙정부의 예산편성은 지방교부세와 국고보조금의 재원 배분 문제를 결정하며, 중앙-지방 간 재정조정제도를 통해 지방교부세와 국고보조금의 재원을 이전하고, 이의 목적은 지방교부세와 국고보조금의 재원 배분을 통해 지방재정을 확충하고, 지방교부세와 국고보조금의 재원 배분을 통해 지방의 재정자립도를 제고하는 것이다.​​​​​​​​​​​​​​​​​​​​​​​​​​​​​​​​​​​\n",
      "\n",
      "Question: 재정사업 성과관리제도의 필요성이 대두된 시기와 한국의 재정사업 성과관리제도가 어떤 법에 근거하여 운영되고 있는지 설명하시오.\n"
     ]
    },
    {
     "name": "stderr",
     "output_type": "stream",
     "text": [
      "/lockard_ai/works/PEFT/venv_peft/lib/python3.8/site-packages/transformers/generation/configuration_utils.py:567: UserWarning: `do_sample` is set to `False`. However, `temperature` is set to `0.2` -- this flag is only used in sample-based generation modes. You should set `do_sample=True` or unset `temperature`.\n",
      "  warnings.warn(\n",
      "Answering Questions:  57%|█████▋    | 56/98 [08:07<05:58,  8.54s/it]"
     ]
    },
    {
     "name": "stdout",
     "output_type": "stream",
     "text": [
      "Answer: 재정사업 성과관리는 1990년대 이후 재정사업의 성과관리에 대한 필요성이 대두되면서 미국, 캐나다, 영국 등 주요국​​​​​​​​​​​​​​​​​​​​​​​​​​​​​​​​​​​​​​​​​​​​​​​​​​​​​​​​​​​​​​​​​​​​​​​​​​​​​​​​​​​​​​​​​​​​​​​​\n",
      "\n",
      "Question: 청년일자리도약장려금은 어떤 대상을 지원하며, 어떤 방식으로 지원되는가?\n"
     ]
    },
    {
     "name": "stderr",
     "output_type": "stream",
     "text": [
      "/lockard_ai/works/PEFT/venv_peft/lib/python3.8/site-packages/transformers/generation/configuration_utils.py:567: UserWarning: `do_sample` is set to `False`. However, `temperature` is set to `0.2` -- this flag is only used in sample-based generation modes. You should set `do_sample=True` or unset `temperature`.\n",
      "  warnings.warn(\n",
      "Answering Questions:  58%|█████▊    | 57/98 [08:15<05:49,  8.52s/it]"
     ]
    },
    {
     "name": "stdout",
     "output_type": "stream",
     "text": [
      "Answer: - \u0003​​​​​​​​​​​​​​​​​​​​​​​​​​​​​​​​​​​​​​​​​​​​​​​​​​​​​​​​​​​​​​​​​​​​​​​​​​​​​​​​​​​​​​​​​​​​​​​​​​​​​​​​​​​​​​​​​​​​​​​​​​​​​\n",
      "\n",
      "Question: 재정성과관리제도는 어떤 측면에서 국정운영과 연결되는가?\n"
     ]
    },
    {
     "name": "stderr",
     "output_type": "stream",
     "text": [
      "/lockard_ai/works/PEFT/venv_peft/lib/python3.8/site-packages/transformers/generation/configuration_utils.py:567: UserWarning: `do_sample` is set to `False`. However, `temperature` is set to `0.2` -- this flag is only used in sample-based generation modes. You should set `do_sample=True` or unset `temperature`.\n",
      "  warnings.warn(\n",
      "Answering Questions:  59%|█████▉    | 58/98 [08:24<05:41,  8.54s/it]"
     ]
    },
    {
     "name": "stdout",
     "output_type": "stream",
     "text": [
      "Answer: 재정성과관리제도는 전략목표와 우선순위를 중심으로 재정사업을 재구조화한다는 점에서 국정운영과 연결​​​​​​​​​​​​​​​​​​​​​​​​​​​​​​​​​​​​​​​​​​​​​​​​​​​​​​​​​​​​​​​​​​​​​​​​​​​​​​​​​​​​​​​​​​​​​​​​​​​​​​​​\n",
      "\n",
      "Question: 성과관리의 실효성 강화를 위해 정부가 취한 조치는 무엇인가?\n"
     ]
    },
    {
     "name": "stderr",
     "output_type": "stream",
     "text": [
      "/lockard_ai/works/PEFT/venv_peft/lib/python3.8/site-packages/transformers/generation/configuration_utils.py:567: UserWarning: `do_sample` is set to `False`. However, `temperature` is set to `0.2` -- this flag is only used in sample-based generation modes. You should set `do_sample=True` or unset `temperature`.\n",
      "  warnings.warn(\n",
      "Answering Questions:  60%|██████    | 59/98 [08:33<05:34,  8.59s/it]"
     ]
    },
    {
     "name": "stdout",
     "output_type": "stream",
     "text": [
      "Answer: 2021년 8월 22일, 정부는 「중기재정사업 성과관리를 위한 기본방향 및 추진방안」을 통해 재정사업 성과관리를 ​​​​​​​​​​​​​​​​​​​​​​​​​​​​​​​​​​​​​​​​​​​​​​​​​​​​​​​​​​​​​​​​​​​​​​​​​​​​​​​​​​​​​​​​​​\n",
      "\n",
      "Question: 재정성과관리 관련 주요 쟁점은 무엇인가?\n"
     ]
    },
    {
     "name": "stderr",
     "output_type": "stream",
     "text": [
      "/lockard_ai/works/PEFT/venv_peft/lib/python3.8/site-packages/transformers/generation/configuration_utils.py:567: UserWarning: `do_sample` is set to `False`. However, `temperature` is set to `0.2` -- this flag is only used in sample-based generation modes. You should set `do_sample=True` or unset `temperature`.\n",
      "  warnings.warn(\n",
      "Answering Questions:  61%|██████    | 60/98 [08:41<05:24,  8.55s/it]"
     ]
    },
    {
     "name": "stdout",
     "output_type": "stream",
     "text": [
      "Answer: 재정성과관리제도 관련 주요 쟁점은 다음과 같음​‣ \u0007​​​​​​​​​​​​​​​​​​​​​​​​​​​​​​​​​​​​​​​​​​​​​​​​​​​​​​​​​​​​​​​​​​​​​​​​​​​​​​​​​​​​​​​​​​​​​​​​​​​​​​​​​​​​​​​\n",
      "\n",
      "Question: 재정성과관리가 왜 중요한가?\n"
     ]
    },
    {
     "name": "stderr",
     "output_type": "stream",
     "text": [
      "/lockard_ai/works/PEFT/venv_peft/lib/python3.8/site-packages/transformers/generation/configuration_utils.py:567: UserWarning: `do_sample` is set to `False`. However, `temperature` is set to `0.2` -- this flag is only used in sample-based generation modes. You should set `do_sample=True` or unset `temperature`.\n",
      "  warnings.warn(\n",
      "Answering Questions:  62%|██████▏   | 61/98 [08:49<05:14,  8.50s/it]"
     ]
    },
    {
     "name": "stdout",
     "output_type": "stream",
     "text": [
      "Answer: 재정성과관리는 재정사업의 성과와 재정투입의 효율성을 제고하기 위한 제도​​​​​​​​​​​​​​​​​​​​​​​​​​​​​​​​​​​​​​​​​​​​​​​​​​​​​​​​​​​​​​​​​​​​​​​​​​​​​​​​​​​​​​​​​​​​​​​​​​​​​​​​​​​​​\n",
      "\n",
      "Question: 재정성과관리는 무엇을 목표로 하는가?\n"
     ]
    },
    {
     "name": "stderr",
     "output_type": "stream",
     "text": [
      "/lockard_ai/works/PEFT/venv_peft/lib/python3.8/site-packages/transformers/generation/configuration_utils.py:567: UserWarning: `do_sample` is set to `False`. However, `temperature` is set to `0.2` -- this flag is only used in sample-based generation modes. You should set `do_sample=True` or unset `temperature`.\n",
      "  warnings.warn(\n",
      "Answering Questions:  63%|██████▎   | 62/98 [08:58<05:04,  8.46s/it]"
     ]
    },
    {
     "name": "stdout",
     "output_type": "stream",
     "text": [
      "Answer: 재정성과관리는 재정사업의 기획에서 집행, 환류, 종료에 이르는 전 주기를 체계적으로 관리하여 ​효율적 재정 운용을 뒷받침하고, 관련 정보를 국민에게 공개하여 책임성을 확보하는 것을 목표로 함​​​​​​​​​​​​​​​​​​​​​​​​​​​​​​​​​​​​​​​​​​​​​​​​​​​​​​​​​​​​​​​​​​​​​​​​​​​​​​​\n",
      "\n",
      "Question: 어떤 국제기구들이 사업을 기준으로 예산을 나누어 성과 정보를 생산하고 있는가?\n"
     ]
    },
    {
     "name": "stderr",
     "output_type": "stream",
     "text": [
      "/lockard_ai/works/PEFT/venv_peft/lib/python3.8/site-packages/transformers/generation/configuration_utils.py:567: UserWarning: `do_sample` is set to `False`. However, `temperature` is set to `0.2` -- this flag is only used in sample-based generation modes. You should set `do_sample=True` or unset `temperature`.\n",
      "  warnings.warn(\n",
      "Answering Questions:  64%|██████▍   | 63/98 [09:06<04:55,  8.43s/it]"
     ]
    },
    {
     "name": "stdout",
     "output_type": "stream",
     "text": [
      "Answer: OECD, World Bank, UN 등 국제기구들은 사업을 기준으로 예산을 나누어 성과 정보를 생산하고 있음​​​​​​​​​​​​​​​​​​​​​​​​​​​​​​​​​​​​​​​​​​​​​​​​​​​​​​​​​​​​​​​​​​​​​​​​​​​​​​​​​​​​​​​​​​​​​​​​​​​​​​​​​​\n",
      "\n",
      "Question: 재정성과관리의 목적은 무엇인가?\n"
     ]
    },
    {
     "name": "stderr",
     "output_type": "stream",
     "text": [
      "/lockard_ai/works/PEFT/venv_peft/lib/python3.8/site-packages/transformers/generation/configuration_utils.py:567: UserWarning: `do_sample` is set to `False`. However, `temperature` is set to `0.2` -- this flag is only used in sample-based generation modes. You should set `do_sample=True` or unset `temperature`.\n",
      "  warnings.warn(\n",
      "Answering Questions:  65%|██████▌   | 64/98 [09:15<04:47,  8.44s/it]"
     ]
    },
    {
     "name": "stdout",
     "output_type": "stream",
     "text": [
      "Answer: 재정성과관리는 정부 재정의 투명성·책임성, 효율성·효과성, 예산재분배 등이 있음​​​​​​​​​​​​​​​​​​​​​​​​​​​​​​​​​​​​​​​​​​​​​​​​​​​​​​​​​​​​​​​​​​​​​​​​​​​​​​​​​​​​​​​​​​​​​​​​​​​​​​​\n",
      "\n",
      "Question: 2021년 「국가재정법」 개정으로 어떤 규정이 신설되었는가?\n"
     ]
    },
    {
     "name": "stderr",
     "output_type": "stream",
     "text": [
      "/lockard_ai/works/PEFT/venv_peft/lib/python3.8/site-packages/transformers/generation/configuration_utils.py:567: UserWarning: `do_sample` is set to `False`. However, `temperature` is set to `0.2` -- this flag is only used in sample-based generation modes. You should set `do_sample=True` or unset `temperature`.\n",
      "  warnings.warn(\n",
      "Answering Questions:  66%|██████▋   | 65/98 [09:23<04:38,  8.43s/it]"
     ]
    },
    {
     "name": "stdout",
     "output_type": "stream",
     "text": [
      "Answer: 재정성과관리는 재정사업 평가와 개별 법령에 따라 실시되는 평가 대상 중복이 최소화되도록 하는 규정을 신설하여, 재정성과관리를 위한 재정사업 평가와 개별 법령에 따라 실시되는 평가 간의 관계를 최초로 규정​​​​​​​​​​​​​​​​​​​​​​​​​​​​​​​​​​​​​​​​​​​​​​​​​​​​​​​​​​​​​​​​​​​​​​​​​​​​​\n",
      "\n",
      "Question: 성과관리제도는 지출 구조조정을 위해 어떤 방향으로 추진되고 있는가?\n"
     ]
    },
    {
     "name": "stderr",
     "output_type": "stream",
     "text": [
      "/lockard_ai/works/PEFT/venv_peft/lib/python3.8/site-packages/transformers/generation/configuration_utils.py:567: UserWarning: `do_sample` is set to `False`. However, `temperature` is set to `0.2` -- this flag is only used in sample-based generation modes. You should set `do_sample=True` or unset `temperature`.\n",
      "  warnings.warn(\n",
      "Answering Questions:  67%|██████▋   | 66/98 [09:32<04:31,  8.48s/it]"
     ]
    },
    {
     "name": "stdout",
     "output_type": "stream",
     "text": [
      "Answer: 2021년도 성과관리제도 개선으로 인하여 대폭 성과관리의 효과성이 강화될 것으로 전망​​​​​​​​​​​​​​​​​​​​​​​​​​​​​​​​​​​​​​​​​​​​​​​​​​​​​​​​​​​​​​​​​​​​​​​​​​​​​​​​​​​​​​​​​​​​​​​​​​​​​​​​​​\n",
      "\n",
      "Question: 재정사업 자율평가의 목적은 무엇이며, 어떤 방식으로 제도 개선이 이루어졌는가?\n"
     ]
    },
    {
     "name": "stderr",
     "output_type": "stream",
     "text": [
      "/lockard_ai/works/PEFT/venv_peft/lib/python3.8/site-packages/transformers/generation/configuration_utils.py:567: UserWarning: `do_sample` is set to `False`. However, `temperature` is set to `0.2` -- this flag is only used in sample-based generation modes. You should set `do_sample=True` or unset `temperature`.\n",
      "  warnings.warn(\n",
      "Answering Questions:  68%|██████▊   | 67/98 [09:40<04:24,  8.52s/it]"
     ]
    },
    {
     "name": "stdout",
     "output_type": "stream",
     "text": [
      "Answer: 재정사업 자율평가는 2006년 「국가재정법」 개정으로 도입된 제도이다. 2006년 「국가재정법」 개정으로 2007년부터 3년 주기로 재정사업에 대한 평가를 실시하였으며, 2016년부터는 2015년 재정사업에 대한 평가를 바탕으로 2017년 12월 2018년 재정사업 자율평가 대상과 범위를 확정하였다. 2018년 12월 2019년 재정사업 자율평가 대상과\n",
      "\n",
      "Question: 2016년 재정성과관리제도의 환류 개선사항은 무엇인가?\n"
     ]
    },
    {
     "name": "stderr",
     "output_type": "stream",
     "text": [
      "/lockard_ai/works/PEFT/venv_peft/lib/python3.8/site-packages/transformers/generation/configuration_utils.py:567: UserWarning: `do_sample` is set to `False`. However, `temperature` is set to `0.2` -- this flag is only used in sample-based generation modes. You should set `do_sample=True` or unset `temperature`.\n",
      "  warnings.warn(\n",
      "Answering Questions:  69%|██████▉   | 68/98 [09:49<04:15,  8.50s/it]"
     ]
    },
    {
     "name": "stdout",
     "output_type": "stream",
     "text": [
      "Answer: 2016년 재정성과관리제도 개선사항은 다음과 같다.​​​​​​​​​​​​​​​​​​​​​​​​​​​​​​​​​​​​​​​​​​​​​​​​​​​​​​​​​​​​​​​​​​​​​​​​​​​​​​​​​​​​​​​​​​​​​​​​​​​​​​​​​​​​​​​​\n",
      "\n",
      "Question: 2018년도에 재정성과관리제도 개선사항과, 이로 인해 어떤 효과가 발생했는가?\n"
     ]
    },
    {
     "name": "stderr",
     "output_type": "stream",
     "text": [
      "/lockard_ai/works/PEFT/venv_peft/lib/python3.8/site-packages/transformers/generation/configuration_utils.py:567: UserWarning: `do_sample` is set to `False`. However, `temperature` is set to `0.2` -- this flag is only used in sample-based generation modes. You should set `do_sample=True` or unset `temperature`.\n",
      "  warnings.warn(\n",
      "Answering Questions:  70%|███████   | 69/98 [09:58<04:09,  8.60s/it]"
     ]
    },
    {
     "name": "stdout",
     "output_type": "stream",
     "text": [
      "Answer: 재정성과관리제도 개선사항은 다음과 같음​‣ \u0007​재정성과관리제도 개선사항은 다음과 같음​‣ \u0007​재정성과관리제도 개선사항은 다음과 같음​‣ \u0007​재정성과관리제도 개선사항은 다음과 같음​‣ \u0007​재정성과관리제도 개선사항은 다음과 같음​‣ \u0007​재정성과관리제도 개선사항은 다음과 같음​‣ \u0007​재정성과관리제도 개선사항은 다음과 같음​‣ \u0007​재정성과관리제도 개선사항은 다음과\n",
      "\n",
      "Question: 재정사업 자율평가의 전면 개편을 통해 어떤 중점 추진과제가 제시되었는가?\n"
     ]
    },
    {
     "name": "stderr",
     "output_type": "stream",
     "text": [
      "/lockard_ai/works/PEFT/venv_peft/lib/python3.8/site-packages/transformers/generation/configuration_utils.py:567: UserWarning: `do_sample` is set to `False`. However, `temperature` is set to `0.2` -- this flag is only used in sample-based generation modes. You should set `do_sample=True` or unset `temperature`.\n",
      "  warnings.warn(\n",
      "Answering Questions:  71%|███████▏  | 70/98 [10:06<04:00,  8.60s/it]"
     ]
    },
    {
     "name": "stdout",
     "output_type": "stream",
     "text": [
      "Answer: (1) 재정사업 자율평가의 전면 개편을 통해 재정사업 자율평가의 실효성 제고, 환경 변화에 대한 적응, 평가 및 피평가자 피로효과성 향상, 정책 우선순위, 더 효과적인 사업·정책으로 재원을 재배분함으로써 배분적 효율성 향상, 재정성과관리제도의 의의, 재정성과관리의 개념, 재정성과관리의 달성도, 재정성과관리의 개념, 재정성과관리의 달성도, 재정성과관리의 개념, 재정성과관리의 달성도, 재정성과관리의 개념, 재정성과관리의 달성도, 재정성과관리의 개념,\n",
      "\n",
      "Question: 재정성과관리제도의 중요성과 국정운영과의 연결성은 무엇인가?\n"
     ]
    },
    {
     "name": "stderr",
     "output_type": "stream",
     "text": [
      "/lockard_ai/works/PEFT/venv_peft/lib/python3.8/site-packages/transformers/generation/configuration_utils.py:567: UserWarning: `do_sample` is set to `False`. However, `temperature` is set to `0.2` -- this flag is only used in sample-based generation modes. You should set `do_sample=True` or unset `temperature`.\n",
      "  warnings.warn(\n",
      "Answering Questions:  72%|███████▏  | 71/98 [10:15<03:53,  8.65s/it]"
     ]
    },
    {
     "name": "stdout",
     "output_type": "stream",
     "text": [
      "Answer: 재정성과관리제도는 재정사업의 기획에서 집행, 환류, 종료에 이르는 전 주기를 체계적으로 관리하여 ​효율적 재정 운용을 뒷받침하고, 관련 정보를 국민에게 공개하여 책임성을 확보하는 것을 의미한다.​재정성과관리제도의 개념과 목표​​재정성과관리제도는 재정사업의 기획에서 집행, 환류, 종료에 이르는 전 주기를 체계적으로 관리하여 효율적 재정 운용을 뒷받침하고, 관련 정보를 국민에게 공개하여 책임성을 확보하는 것을 의미한다.​재정성과관리제도의 개념과 목표​​재정성과관리제도는 재정사업\n",
      "\n",
      "Question: 재정성과관리체계 강화를 위해 정부가 어떤 제도를 제시했으며, 재정성과관리는 무엇을 목표로 하는가?\n"
     ]
    },
    {
     "name": "stderr",
     "output_type": "stream",
     "text": [
      "/lockard_ai/works/PEFT/venv_peft/lib/python3.8/site-packages/transformers/generation/configuration_utils.py:567: UserWarning: `do_sample` is set to `False`. However, `temperature` is set to `0.2` -- this flag is only used in sample-based generation modes. You should set `do_sample=True` or unset `temperature`.\n",
      "  warnings.warn(\n",
      "Answering Questions:  73%|███████▎  | 72/98 [10:24<03:47,  8.76s/it]"
     ]
    },
    {
     "name": "stdout",
     "output_type": "stream",
     "text": [
      "Answer: 재정성과관리는 정부 재정의 투명성·책임성, 효율성·효과성, 예산재분배 등이 있음​​​​​​​​​​​​​​​​​​​​​​​​​​​​​​​​​​​​​​​​​​​​​​​​​​​​​​​​​​​​​​​​​​​​​​​​​​​​​​​​​​​​​​​​​​​​​​​​​​​​​​​\n",
      "\n",
      "Question: 재정성과관리는 어떤 과정에서 수행되며, 무엇을 증진하기 위해 활동하는가?\n"
     ]
    },
    {
     "name": "stderr",
     "output_type": "stream",
     "text": [
      "/lockard_ai/works/PEFT/venv_peft/lib/python3.8/site-packages/transformers/generation/configuration_utils.py:567: UserWarning: `do_sample` is set to `False`. However, `temperature` is set to `0.2` -- this flag is only used in sample-based generation modes. You should set `do_sample=True` or unset `temperature`.\n",
      "  warnings.warn(\n",
      "Answering Questions:  74%|███████▍  | 73/98 [10:33<03:38,  8.74s/it]"
     ]
    },
    {
     "name": "stdout",
     "output_type": "stream",
     "text": [
      "Answer: 재정성과관리는 재정사업의 기획에서 집행, 환류, 종료에 이르는 전 주기를 체계적으로 관리하여 ​효율적 재정 운용을 뒷받침하고, 관련 정보를 국민에게 공개하여 책임성을 확보하는 것을 의미​​​​​​​​​​​​​​​​​​​​​​​​​​​​​​​​​​​​​​​​​​​​​​​​​​​​​​​​​​​​​​​​​​​​​​​​​​​​​​​​\n",
      "\n",
      "Question: 재정성과관리의 목적과 우리나라의 재정성과관리제도가 프로그램 예산제도로 전환된 시기는?\n"
     ]
    },
    {
     "name": "stderr",
     "output_type": "stream",
     "text": [
      "/lockard_ai/works/PEFT/venv_peft/lib/python3.8/site-packages/transformers/generation/configuration_utils.py:567: UserWarning: `do_sample` is set to `False`. However, `temperature` is set to `0.2` -- this flag is only used in sample-based generation modes. You should set `do_sample=True` or unset `temperature`.\n",
      "  warnings.warn(\n",
      "Answering Questions:  76%|███████▌  | 74/98 [10:42<03:31,  8.81s/it]"
     ]
    },
    {
     "name": "stdout",
     "output_type": "stream",
     "text": [
      "Answer: 재정성과관리의 목적은 재정사업의 기획에서 집행, 환류, 종료에 이르는 전 주기를 체계적으로 관리하여 효율적 재정 운용을 뒷받​침하고, 관련 정보를 국민에게 공개하여 책임성을 확보하는 것을 의미​​​​​​​​​​​​​​​​​​​​​​​​​​​​​​​​​​​​​​​​​​​​​​​​​​​​​​​​​​​​​​​​​​​​​​​​​​​​​​​\n",
      "\n",
      "Question: 2007년과 2021년에 각각 「국가재정법」이 개정되면서 성과관리 제도는 어떻게 강화되고 구체화되었으며, 이 개정의 주된 목적은 무엇인가?\n"
     ]
    },
    {
     "name": "stderr",
     "output_type": "stream",
     "text": [
      "/lockard_ai/works/PEFT/venv_peft/lib/python3.8/site-packages/transformers/generation/configuration_utils.py:567: UserWarning: `do_sample` is set to `False`. However, `temperature` is set to `0.2` -- this flag is only used in sample-based generation modes. You should set `do_sample=True` or unset `temperature`.\n",
      "  warnings.warn(\n",
      "Answering Questions:  77%|███████▋  | 75/98 [10:50<03:21,  8.78s/it]"
     ]
    },
    {
     "name": "stdout",
     "output_type": "stream",
     "text": [
      "Answer: 2007년 「국가재정법」 시행으로 과거에 단발적으로 이루어진 성과관리 제도를 종합하여, 성과관리의 기본 단위, 성과 측정과 보고를 위한 체계 확립​​​​​​​​​​​​​​​​​​​​​​​​​​​​​​​​​​​​​​​​​​​​​​​​​​​​​​​​​​​​​​​​​​​​​​​​​​​​​​​​​​​​​​\n",
      "\n",
      "Question: 재정사업 자율평가의 목적과 제도 개선 방식은 무엇인가?\n"
     ]
    },
    {
     "name": "stderr",
     "output_type": "stream",
     "text": [
      "/lockard_ai/works/PEFT/venv_peft/lib/python3.8/site-packages/transformers/generation/configuration_utils.py:567: UserWarning: `do_sample` is set to `False`. However, `temperature` is set to `0.2` -- this flag is only used in sample-based generation modes. You should set `do_sample=True` or unset `temperature`.\n",
      "  warnings.warn(\n",
      "Answering Questions:  78%|███████▊  | 76/98 [10:59<03:14,  8.85s/it]"
     ]
    },
    {
     "name": "stdout",
     "output_type": "stream",
     "text": [
      "Answer: 재정사업 자율평가는 2006년 「국가재정법」 개정으로 도입된 제도이다. 2006년 「국가재정법」 개정으로 2007년부터 3년 주기로 재정사업에 대한 평가를 실시하였으며, 2011년부터는 1/2로 축소하여 2016년까지 실시하였다. 2017년부터는 2016년 1/2로 축소하여 2018년까지 실시하였다. 2018년부터는 2017년 1\n",
      "\n",
      "Question: 2015년 이전과 2016년에 재정성과 평가 결과 처리 방식과 환류 개선 방식은 어떻게 달라졌는가?\n"
     ]
    },
    {
     "name": "stderr",
     "output_type": "stream",
     "text": [
      "/lockard_ai/works/PEFT/venv_peft/lib/python3.8/site-packages/transformers/generation/configuration_utils.py:567: UserWarning: `do_sample` is set to `False`. However, `temperature` is set to `0.2` -- this flag is only used in sample-based generation modes. You should set `do_sample=True` or unset `temperature`.\n",
      "  warnings.warn(\n",
      "Answering Questions:  79%|███████▊  | 77/98 [11:08<03:05,  8.82s/it]"
     ]
    },
    {
     "name": "stdout",
     "output_type": "stream",
     "text": [
      "Answer: 2015년 이전에는 평가 대상 사업의 범위, 평가 주기, 상위 평가 방식 등에서 지속적인 제도 개선이 이루어졌​으며, 2016~2017년에는 연구개발사업을 포함시키고 평가 주기를 전 사업에 걸쳐 매년 평가하는 것으로 변경하​고, 2018년에는 연구개발사업을 다시 분리하고 기존의 재정사업 자율평가 제도로 환원하는 한편, 공통 평가지침과 평가보고서 표준서식을 폐지하고 상위 평가 방식을 메타 평가 방식의 전수 점검에서 80여 개 주요 핵심 사업에 대한 평가로 전환하​였다. 최근의 개편에서는 환류 방식을\n",
      "\n",
      "Question: 재정관리시스템 구축과 성과관리 개편을 추진하는 주된 목적은 무엇인가?\n"
     ]
    },
    {
     "name": "stderr",
     "output_type": "stream",
     "text": [
      "/lockard_ai/works/PEFT/venv_peft/lib/python3.8/site-packages/transformers/generation/configuration_utils.py:567: UserWarning: `do_sample` is set to `False`. However, `temperature` is set to `0.2` -- this flag is only used in sample-based generation modes. You should set `do_sample=True` or unset `temperature`.\n",
      "  warnings.warn(\n",
      "Answering Questions:  80%|███████▉  | 78/98 [11:17<02:55,  8.79s/it]"
     ]
    },
    {
     "name": "stdout",
     "output_type": "stream",
     "text": [
      "Answer: 재정성과관리의 개념과 목표​​​​​​​​​​​​​​​​​​​​​​​​​​​​​​​​​​​​​​​​​​​​​​​​​​​​​​​​​​​​​​​​​​​​​​​​​​​​​​​​​​​​​​​​​​​​​​​​​​​​​​​​​​​​​​​​​​​​​​​​​\n",
      "\n",
      "Question: 우리나라에서는 언제부터 발생주의 기준을 적용한 국가결산보고서에서 우발부채를 보고하고 있는가?\n"
     ]
    },
    {
     "name": "stderr",
     "output_type": "stream",
     "text": [
      "/lockard_ai/works/PEFT/venv_peft/lib/python3.8/site-packages/transformers/generation/configuration_utils.py:567: UserWarning: `do_sample` is set to `False`. However, `temperature` is set to `0.2` -- this flag is only used in sample-based generation modes. You should set `do_sample=True` or unset `temperature`.\n",
      "  warnings.warn(\n",
      "Answering Questions:  81%|████████  | 79/98 [11:26<02:47,  8.82s/it]"
     ]
    },
    {
     "name": "stdout",
     "output_type": "stream",
     "text": [
      "Answer: 국가결산보고서에서 우발부채를 보고하고 있는 것은 2018년 「충당부채, 우발부채, 우발자산 회계처리지침」 개정 이후부터이다.​​​​​​​​​​​​​​​​​​​​​​​​​​​​​​​​​​​​​​​​​​​​​​​​​​​​​​​​​​​​​​​​​​​​​​​​​​​​​​​​​​​​​\n",
      "\n",
      "Question: 우발부채 관련 주요 쟁점은 무엇인가?\n"
     ]
    },
    {
     "name": "stderr",
     "output_type": "stream",
     "text": [
      "/lockard_ai/works/PEFT/venv_peft/lib/python3.8/site-packages/transformers/generation/configuration_utils.py:567: UserWarning: `do_sample` is set to `False`. However, `temperature` is set to `0.2` -- this flag is only used in sample-based generation modes. You should set `do_sample=True` or unset `temperature`.\n",
      "  warnings.warn(\n",
      "Answering Questions:  82%|████████▏ | 80/98 [11:35<02:39,  8.89s/it]"
     ]
    },
    {
     "name": "stdout",
     "output_type": "stream",
     "text": [
      "Answer: 다음 정보를 바탕으로 질문에 답하세요:​​​​​​​​​​​​​​​​​​​​​​​​​​​​​​​​​​​​​​​​​​​​​​​​​​​​​​​​​​​​​​​​​​​​​​​​​​​​​​​​​​​​​​​​​​​​​​​​​​​​​​​​​​​​​​​​​​​​​​​​​\n",
      "\n",
      "Question: 우발부채의 관리는 왜 중요한 이슈로 여겨지는가?\n"
     ]
    },
    {
     "name": "stderr",
     "output_type": "stream",
     "text": [
      "/lockard_ai/works/PEFT/venv_peft/lib/python3.8/site-packages/transformers/generation/configuration_utils.py:567: UserWarning: `do_sample` is set to `False`. However, `temperature` is set to `0.2` -- this flag is only used in sample-based generation modes. You should set `do_sample=True` or unset `temperature`.\n",
      "  warnings.warn(\n",
      "Answering Questions:  83%|████████▎ | 81/98 [11:44<02:31,  8.93s/it]"
     ]
    },
    {
     "name": "stdout",
     "output_type": "stream",
     "text": [
      "Answer: 국가결산보고서 우발부채 현황​​​​​​​​​​​​​​​​​​​​​​​​​​​​​​​​​​​​​​​​​​​​​​​​​​​​​​​​​​​​​​​​​​​​​​​​​​​​​​​​​​​​​​​​​​​​​​​​​​​​​​​​​​​​​​​​​​​​​​​\n",
      "\n",
      "Question: 우발부채와 부채의 차이점은 무엇인가?\n"
     ]
    },
    {
     "name": "stderr",
     "output_type": "stream",
     "text": [
      "/lockard_ai/works/PEFT/venv_peft/lib/python3.8/site-packages/transformers/generation/configuration_utils.py:567: UserWarning: `do_sample` is set to `False`. However, `temperature` is set to `0.2` -- this flag is only used in sample-based generation modes. You should set `do_sample=True` or unset `temperature`.\n",
      "  warnings.warn(\n",
      "Answering Questions:  84%|████████▎ | 82/98 [11:53<02:24,  9.00s/it]"
     ]
    },
    {
     "name": "stdout",
     "output_type": "stream",
     "text": [
      "Answer: 우발부채는 미래 발생이 불확실한 잠재적 의무 또는 부채 인식기준을 충족하지 못한 현재의무이다.​​​​​​​​​​​​​​​​​​​​​​​​​​​​​​​​​​​​​​​​​​​​​​​​​​​​​​​​​​​​​​​​​​​​​​​​​​​​​​​​​​​​​​​​​​​​​​​​​​​​​​​\n",
      "\n",
      "Question: 발생주의와 현금주의의 차이는 무엇인가?\n"
     ]
    },
    {
     "name": "stderr",
     "output_type": "stream",
     "text": [
      "/lockard_ai/works/PEFT/venv_peft/lib/python3.8/site-packages/transformers/generation/configuration_utils.py:567: UserWarning: `do_sample` is set to `False`. However, `temperature` is set to `0.2` -- this flag is only used in sample-based generation modes. You should set `do_sample=True` or unset `temperature`.\n",
      "  warnings.warn(\n",
      "Answering Questions:  85%|████████▍ | 83/98 [12:02<02:15,  9.06s/it]"
     ]
    },
    {
     "name": "stdout",
     "output_type": "stream",
     "text": [
      "Answer: 발생주의(accrual basis)란 ‘경제적 거래가 발생하는 시점’에 거래를 기록하는 방식으로, ‘현금을 수취하거나 지급한 시점’에 거래를 기록하는 방식인 현금주의(cash ​​basis)와 차이가 있다.​​​​​​​​​​​​​​​​​​​​​​​​​​​​​​​​​​​​​​​​​​​​​​​​​​​​​​​​​​​​​​​​​​​​​​​​​\n",
      "\n",
      "Question: 채무지속가능성분석은 어떤 목적을 가지고 도입되었는가?\n"
     ]
    },
    {
     "name": "stderr",
     "output_type": "stream",
     "text": [
      "/lockard_ai/works/PEFT/venv_peft/lib/python3.8/site-packages/transformers/generation/configuration_utils.py:567: UserWarning: `do_sample` is set to `False`. However, `temperature` is set to `0.2` -- this flag is only used in sample-based generation modes. You should set `do_sample=True` or unset `temperature`.\n",
      "  warnings.warn(\n",
      "Answering Questions:  86%|████████▌ | 84/98 [12:11<02:06,  9.06s/it]"
     ]
    },
    {
     "name": "stdout",
     "output_type": "stream",
     "text": [
      "Answer: 다음 정보를 바탕으로 질문에 답하세요:​​​​​​​​​​​​​​​​​​​​​​​​​​​​​​​​​​​​​​​​​​​​​​​​​​​​​​​​​​​​​​​​​​​​​​​​​​​​​​​​​​​​​​​​​​​​​​​​​​​​​​​​​​​​​​​​​​​​​​​​​\n",
      "\n",
      "Question: 의제의무란 무엇인가?\n"
     ]
    },
    {
     "name": "stderr",
     "output_type": "stream",
     "text": [
      "/lockard_ai/works/PEFT/venv_peft/lib/python3.8/site-packages/transformers/generation/configuration_utils.py:567: UserWarning: `do_sample` is set to `False`. However, `temperature` is set to `0.2` -- this flag is only used in sample-based generation modes. You should set `do_sample=True` or unset `temperature`.\n",
      "  warnings.warn(\n",
      "Answering Questions:  87%|████████▋ | 85/98 [12:20<01:56,  8.98s/it]"
     ]
    },
    {
     "name": "stdout",
     "output_type": "stream",
     "text": [
      "Answer: 의제의무란 발표된 정부방침 또는 구체적이고 유효한 약속이나 과거의 실무관행 등을 통해 중앙관서 또는 기금이 특정 책임을 ​​부담한다는 것을 표명함으로써 상대방이 그 책임을 이행할 것이라는 정당한 기대를 가지게 되는 경우 발생하는 의무를 말한다.​​​​​​​​​​​​​​​​​​​​​​​​​​​​​​​​​​​​​​​​​​​​​​​​​​​​​​​​​​​​​​​​​​​​​​​\n",
      "\n",
      "Question: 국제통화기금이 재정통계 작성의 국제기준을 제시하기 위해 발간한 매뉴얼은 무엇인가?\n"
     ]
    },
    {
     "name": "stderr",
     "output_type": "stream",
     "text": [
      "/lockard_ai/works/PEFT/venv_peft/lib/python3.8/site-packages/transformers/generation/configuration_utils.py:567: UserWarning: `do_sample` is set to `False`. However, `temperature` is set to `0.2` -- this flag is only used in sample-based generation modes. You should set `do_sample=True` or unset `temperature`.\n",
      "  warnings.warn(\n",
      "Answering Questions:  88%|████████▊ | 86/98 [12:29<01:47,  8.99s/it]"
     ]
    },
    {
     "name": "stdout",
     "output_type": "stream",
     "text": [
      "Answer: 국제통화기금은 재정통계 작성의 국제기준을 제시하기 위해 1986년 재정통계 매뉴얼(Government Finance Statistics Manual, GFSM)을 처음 발간하였으며, 이후 2001년과 2014년 총 2차례의 개정이 있었다. 재정통계 매뉴얼의 발간(또는 개정) 연도에 따라 각각 GFSM1986, GFSM2001, GFSM2014로 지칭된다.​​​​​​​​​​​​​\n",
      "\n",
      "Question: 계류중인 소송사건이란 무엇인가?\n"
     ]
    },
    {
     "name": "stderr",
     "output_type": "stream",
     "text": [
      "/lockard_ai/works/PEFT/venv_peft/lib/python3.8/site-packages/transformers/generation/configuration_utils.py:567: UserWarning: `do_sample` is set to `False`. However, `temperature` is set to `0.2` -- this flag is only used in sample-based generation modes. You should set `do_sample=True` or unset `temperature`.\n",
      "  warnings.warn(\n",
      "Answering Questions:  89%|████████▉ | 87/98 [12:38<01:39,  9.03s/it]"
     ]
    },
    {
     "name": "stdout",
     "output_type": "stream",
     "text": [
      "Answer: 계류중인 소송사건이란 소송이 진행 중이거나 소송이 진행되지 않고 있는 경우를 말한다.​​​​​​​​​​​​​​​​​​​​​​​​​​​​​​​​​​​​​​​​​​​​​​​​​​​​​​​​​​​​​​​​​​​​​​​​​​​​​​​​​​​​​​​​​​​​​​​​​​​​​​​​​​\n",
      "\n",
      "Question: 최소운영수입보장(BTO 등) 제도란 무엇을 의미하는가?\n"
     ]
    },
    {
     "name": "stderr",
     "output_type": "stream",
     "text": [
      "/lockard_ai/works/PEFT/venv_peft/lib/python3.8/site-packages/transformers/generation/configuration_utils.py:567: UserWarning: `do_sample` is set to `False`. However, `temperature` is set to `0.2` -- this flag is only used in sample-based generation modes. You should set `do_sample=True` or unset `temperature`.\n",
      "  warnings.warn(\n",
      "Answering Questions:  90%|████████▉ | 88/98 [12:47<01:29,  8.94s/it]"
     ]
    },
    {
     "name": "stdout",
     "output_type": "stream",
     "text": [
      "Answer: 최소운영수입보장(BTO 등) 제도란 주로 BTO 민간투자사업 중 실시협약서 상 추정 수입보다 실제 수입이 미치지 못하는 경우 정부가 최소운영수입을 보장해 주는 제도를 말함16)​​​​​​​​​​​​​​​​​​​​​​​​​​​​​​​​​​​​​​​​​​​​​​​​​​​​​​​​​​​​​​​​​​​​​​​​​​​​​​​​\n",
      "\n",
      "Question: 우발부채에 대한 내용으로 대표적으로 어떤 사항이 해당되는가?\n"
     ]
    },
    {
     "name": "stderr",
     "output_type": "stream",
     "text": [
      "/lockard_ai/works/PEFT/venv_peft/lib/python3.8/site-packages/transformers/generation/configuration_utils.py:567: UserWarning: `do_sample` is set to `False`. However, `temperature` is set to `0.2` -- this flag is only used in sample-based generation modes. You should set `do_sample=True` or unset `temperature`.\n",
      "  warnings.warn(\n",
      "Answering Questions:  91%|█████████ | 89/98 [12:56<01:20,  8.97s/it]"
     ]
    },
    {
     "name": "stdout",
     "output_type": "stream",
     "text": [
      "Answer: 국가결산보고서 우발부채 현황​​​​​​​​​​​​​​​​​​​​​​​​​​​​​​​​​​​​​​​​​​​​​​​​​​​​​​​​​​​​​​​​​​​​​​​​​​​​​​​​​​​​​​​​​​​​​​​​​​​​​​​​​​​​​​​​​​​​​​​\n",
      "\n",
      "Question: GFSM2014에서는 우발부채를 어떻게 구분하는가?\n"
     ]
    },
    {
     "name": "stderr",
     "output_type": "stream",
     "text": [
      "/lockard_ai/works/PEFT/venv_peft/lib/python3.8/site-packages/transformers/generation/configuration_utils.py:567: UserWarning: `do_sample` is set to `False`. However, `temperature` is set to `0.2` -- this flag is only used in sample-based generation modes. You should set `do_sample=True` or unset `temperature`.\n",
      "  warnings.warn(\n",
      "Answering Questions:  92%|█████████▏| 90/98 [13:05<01:11,  8.95s/it]"
     ]
    },
    {
     "name": "stdout",
     "output_type": "stream",
     "text": [
      "Answer: GFSM2014는 명시적 우발부채와 암묵적 우발부채로 구분​​​​​​​​​​​​​​​​​​​​​​​​​​​​​​​​​​​​​​​​​​​​​​​​​​​​​​​​​​​​​​​​​​​​​​​​​​​​​​​​​​​​​​​​​​​​​​​​​​​​​​​​​​\n",
      "\n",
      "Question: GFSM은 몇 차례의 개정을 거쳤으며, 어떠한 목적으로 GFSM 2001이 개정되었는가?\n"
     ]
    },
    {
     "name": "stderr",
     "output_type": "stream",
     "text": [
      "/lockard_ai/works/PEFT/venv_peft/lib/python3.8/site-packages/transformers/generation/configuration_utils.py:567: UserWarning: `do_sample` is set to `False`. However, `temperature` is set to `0.2` -- this flag is only used in sample-based generation modes. You should set `do_sample=True` or unset `temperature`.\n",
      "  warnings.warn(\n",
      "Answering Questions:  93%|█████████▎| 91/98 [13:14<01:02,  8.95s/it]"
     ]
    },
    {
     "name": "stdout",
     "output_type": "stream",
     "text": [
      "Answer: GFSM은 1986년 첫 발간 이래 현재까지 총 2차례(2001년, 2014년)의 개정이 있었다. 특히, GFSM 2001은 전면 개정을 통해 현재의 발생주의 기준 GFS체계를 ​구축하였으며, GFSM2014는 SNA, PSDS 등 다른 국제통계기준과 부합하도록 더 구체화했다.​​​​​​​​​​​​​​​​​​​​​​​​​​​​​​​\n",
      "\n",
      "Question: 표준화 보증이란 무엇인가?\n"
     ]
    },
    {
     "name": "stderr",
     "output_type": "stream",
     "text": [
      "/lockard_ai/works/PEFT/venv_peft/lib/python3.8/site-packages/transformers/generation/configuration_utils.py:567: UserWarning: `do_sample` is set to `False`. However, `temperature` is set to `0.2` -- this flag is only used in sample-based generation modes. You should set `do_sample=True` or unset `temperature`.\n",
      "  warnings.warn(\n",
      "Answering Questions:  94%|█████████▍| 92/98 [13:23<00:54,  9.00s/it]"
     ]
    },
    {
     "name": "stdout",
     "output_type": "stream",
     "text": [
      "Answer: 표준화 보증은 통상 아주 적은 금액에 대해 획일적 조건으로 대규모로 발행하는 보증을 말하며, 수출(무역)신용 보증, 환변동보험, 매입통화옵션, 매도통화옵션, 환변동보험 등이 존재한다.​​​​​​​​​​​​​​​​​​​​​​​​​​​​​​​​​​​​​​​​​​​​​​​​​​​​​​​​​​​​​​​​​​​​​​​​​​​\n",
      "\n",
      "Question: 표준화 보증에서 공공부문의 우발부채는 어떻게 인식되는가?\n"
     ]
    },
    {
     "name": "stderr",
     "output_type": "stream",
     "text": [
      "/lockard_ai/works/PEFT/venv_peft/lib/python3.8/site-packages/transformers/generation/configuration_utils.py:567: UserWarning: `do_sample` is set to `False`. However, `temperature` is set to `0.2` -- this flag is only used in sample-based generation modes. You should set `do_sample=True` or unset `temperature`.\n",
      "  warnings.warn(\n",
      "Answering Questions:  95%|█████████▍| 93/98 [13:32<00:44,  8.96s/it]"
     ]
    },
    {
     "name": "stdout",
     "output_type": "stream",
     "text": [
      "Answer: ‣ \u0007​​​​​​​​​​​​​​​​​​​​​​​​​​​​​​​​​​​​​​​​​​​​​​​​​​​​​​​​​​​​​​​​​​​​​​​​​​​​​​​​​​​​​​​​​​​​​​​​​​​​​​​​​​​​​​​​​​​​​​​​​​​\n",
      "\n",
      "Question: 재정정책에서 공적보증채무와 다른 일회성 보증은 어떻게 구분되는가?\n"
     ]
    },
    {
     "name": "stderr",
     "output_type": "stream",
     "text": [
      "/lockard_ai/works/PEFT/venv_peft/lib/python3.8/site-packages/transformers/generation/configuration_utils.py:567: UserWarning: `do_sample` is set to `False`. However, `temperature` is set to `0.2` -- this flag is only used in sample-based generation modes. You should set `do_sample=True` or unset `temperature`.\n",
      "  warnings.warn(\n",
      "Answering Questions:  96%|█████████▌| 94/98 [13:41<00:35,  8.93s/it]"
     ]
    },
    {
     "name": "stdout",
     "output_type": "stream",
     "text": [
      "Answer: 다음 정보를 바탕으로 질문에 답하세요:​​​​​​​​​​​​​​​​​​​​​​​​​​​​​​​​​​​​​​​​​​​​​​​​​​​​​​​​​​​​​​​​​​​​​​​​​​​​​​​​​​​​​​​​​​​​​​​​​​​​​​​​​​​​​​​​​​​​​​​​​\n",
      "\n",
      "Question: 미래사회보장급여에 대한 순의무란 무엇을 의미하는가?\n"
     ]
    },
    {
     "name": "stderr",
     "output_type": "stream",
     "text": [
      "/lockard_ai/works/PEFT/venv_peft/lib/python3.8/site-packages/transformers/generation/configuration_utils.py:567: UserWarning: `do_sample` is set to `False`. However, `temperature` is set to `0.2` -- this flag is only used in sample-based generation modes. You should set `do_sample=True` or unset `temperature`.\n",
      "  warnings.warn(\n",
      "Answering Questions:  97%|█████████▋| 95/98 [13:50<00:26,  8.92s/it]"
     ]
    },
    {
     "name": "stdout",
     "output_type": "stream",
     "text": [
      "Answer: 미래사회보장급여에 대한 순의무란 미래사회보장급여에 대한 순의무란 미래사회보장급여에 대한 순의무란 미래사회보장급여에 대한 순의무란 미래사회보장급여에 대한 순의무란 미래사회보장급여에 대한 순의무란 미래사회보장급여에 대한 순의무란 미래사회보장급여에 대한 순의무란 미래사회보장급여에 대한 순의무란 미래사회보장급여에 대한 순의무란 미래사회보장급여에 대한 순의무란 미래사회보장급여에 대한 순의무란 미래사회보장급여에 대한 순의\n",
      "\n",
      "Question: 국가결산보고서와 지방자치단체 회계기준에서 우발부채에 대한 용어 및 회계처리가 어떻게 다른가요?\n"
     ]
    },
    {
     "name": "stderr",
     "output_type": "stream",
     "text": [
      "/lockard_ai/works/PEFT/venv_peft/lib/python3.8/site-packages/transformers/generation/configuration_utils.py:567: UserWarning: `do_sample` is set to `False`. However, `temperature` is set to `0.2` -- this flag is only used in sample-based generation modes. You should set `do_sample=True` or unset `temperature`.\n",
      "  warnings.warn(\n",
      "Answering Questions:  98%|█████████▊| 96/98 [13:58<00:17,  8.84s/it]"
     ]
    },
    {
     "name": "stdout",
     "output_type": "stream",
     "text": [
      "Answer: 국가결산보고서는 국가회계기준에 따라 우발부채를 의무 이행을 위해 자원이 유출될 가능성이 희박하지 않은 한 주석5 ‘우발사항 및 약정사항’에 공시하고 있으며, 재정상태표에는 인식하지 않음12)​​​​​​​​​​​​​​​​​​​​​​​​​​​​​​​​​​​​​​​​​​​​​​​​​​​​​​​​​​​​​​​​​​​​​​​​​\n",
      "\n",
      "Question: 우발부채란 무엇이며, 그 관리가 왜 중요한가?\n"
     ]
    },
    {
     "name": "stderr",
     "output_type": "stream",
     "text": [
      "/lockard_ai/works/PEFT/venv_peft/lib/python3.8/site-packages/transformers/generation/configuration_utils.py:567: UserWarning: `do_sample` is set to `False`. However, `temperature` is set to `0.2` -- this flag is only used in sample-based generation modes. You should set `do_sample=True` or unset `temperature`.\n",
      "  warnings.warn(\n",
      "Answering Questions:  99%|█████████▉| 97/98 [14:07<00:08,  8.84s/it]"
     ]
    },
    {
     "name": "stdout",
     "output_type": "stream",
     "text": [
      "Answer: 우발부채란 미래의 특정 사건(들)이 일어나지 않는 한 발생하지 않는 의무로, 하나 또는 그 이상의 조건이 충족되어야 금융거래로 인식된다는 점에서 ‘부채’와 차이6)​​​​​​​​​​​​​​​​​​​​​​​​​​​​​​​​​​​​​​​​​​​​​​​​​​​​​​​​​​​​​​​​​​​​​​​​​​​​​​​​​​​​​\n",
      "\n",
      "Question: 보증이란 무엇이며, 어떤 형태의 보증이 재정상태표에 부채로 기록되는가? 또한 표준화 보증이란 무엇이며, 어떤 목적으로 발행되는가?\n"
     ]
    },
    {
     "name": "stderr",
     "output_type": "stream",
     "text": [
      "/lockard_ai/works/PEFT/venv_peft/lib/python3.8/site-packages/transformers/generation/configuration_utils.py:567: UserWarning: `do_sample` is set to `False`. However, `temperature` is set to `0.2` -- this flag is only used in sample-based generation modes. You should set `do_sample=True` or unset `temperature`.\n",
      "  warnings.warn(\n",
      "Answering Questions: 100%|██████████| 98/98 [14:16<00:00,  8.74s/it]"
     ]
    },
    {
     "name": "stdout",
     "output_type": "stream",
     "text": [
      "Answer: 보증이란 채무자가 채무의 이행에 관하여 채무자가 아닌 제3자(보증인)에게 채무의 이행을 청구할 수 있는 권리를 부여하는 것을 말하며, 보증은 채무자가 채무의 이행에 관하여 채무자가 아닌 제3자(보증인)에게 채무의 이행을 청구할 수 있는 권리를 부여하는 것을 말함. 보증은 채무자가 채무의 이행에 관하여 채무자가 아닌 제3자(보증인)에게 채무의 이행을 청구할 수 있는 권리를 부여하는 것을 말하며, 보증은 채무자가 채무의 이행에 관하여 채무자가 아닌 제3자(\n",
      "\n"
     ]
    },
    {
     "name": "stderr",
     "output_type": "stream",
     "text": [
      "\n"
     ]
    }
   ],
   "source": [
    "def normalize_string(s):\n",
    "    \"\"\"유니코드 정규화\"\"\"\n",
    "    return unicodedata.normalize('NFC', s)\n",
    "\n",
    "def format_docs(docs):\n",
    "    \"\"\"검색된 문서들을 하나의 문자열로 포맷팅\"\"\"\n",
    "    context = \"\"\n",
    "    for doc in docs:\n",
    "        context += doc.page_content\n",
    "        context += '\\n'\n",
    "    return context\n",
    "\n",
    "# 결과를 저장할 리스트 초기화\n",
    "results = []\n",
    "\n",
    "# DataFrame의 각 행에 대해 처리\n",
    "for _, row in tqdm(df.iterrows(), total=len(df), desc=\"Answering Questions\"):\n",
    "    # 소스 문자열 정규화\n",
    "    source = normalize_string(row['Source'])\n",
    "    question = row['Question']\n",
    "\n",
    "    # 정규화된 키로 데이터베이스 검색\n",
    "    normalized_keys = {normalize_string(k): v for k, v in pdf_databases.items()}\n",
    "    retriever = normalized_keys[source]['retriever']\n",
    "\n",
    "    # RAG 체인 구성\n",
    "    template = \"\"\"\n",
    "    다음 정보를 바탕으로 질문에 답하세요:\n",
    "    {context}\n",
    "\n",
    "    질문: {question}\n",
    "\n",
    "    답변:\n",
    "    \"\"\"\n",
    "    prompt = PromptTemplate.from_template(template)\n",
    "\n",
    "    # RAG 체인 정의\n",
    "    rag_chain = (\n",
    "        {\"context\": retriever | format_docs, \"question\": RunnablePassthrough()}\n",
    "        | prompt\n",
    "        | llm\n",
    "        | StrOutputParser()\n",
    "    )\n",
    "\n",
    "    # 답변 추론\n",
    "    print(f\"Question: {question}\")\n",
    "    full_response = rag_chain.invoke(question)\n",
    "\n",
    "    print(f\"Answer: {full_response}\\n\")\n",
    "\n",
    "    # 결과 저장\n",
    "    results.append({\n",
    "        \"Source\": row['Source'],\n",
    "        \"Source_path\": row['Source_path'],\n",
    "        \"Question\": question,\n",
    "        \"Answer\": full_response\n",
    "    })"
   ]
  },
  {
   "cell_type": "markdown",
   "id": "8a6db393",
   "metadata": {},
   "source": [
    "## Submission"
   ]
  },
  {
   "cell_type": "code",
   "execution_count": 8,
   "id": "0b882b73",
   "metadata": {},
   "outputs": [
    {
     "data": {
      "text/html": [
       "<div>\n",
       "<style scoped>\n",
       "    .dataframe tbody tr th:only-of-type {\n",
       "        vertical-align: middle;\n",
       "    }\n",
       "\n",
       "    .dataframe tbody tr th {\n",
       "        vertical-align: top;\n",
       "    }\n",
       "\n",
       "    .dataframe thead th {\n",
       "        text-align: right;\n",
       "    }\n",
       "</style>\n",
       "<table border=\"1\" class=\"dataframe\">\n",
       "  <thead>\n",
       "    <tr style=\"text-align: right;\">\n",
       "      <th></th>\n",
       "      <th>SAMPLE_ID</th>\n",
       "      <th>Answer</th>\n",
       "    </tr>\n",
       "  </thead>\n",
       "  <tbody>\n",
       "    <tr>\n",
       "      <th>0</th>\n",
       "      <td>TEST_000</td>\n",
       "      <td>2022년 혁신창업사업화자금(융자)의 예산은 2,300,00,00원입니다.​​​​​...</td>\n",
       "    </tr>\n",
       "    <tr>\n",
       "      <th>1</th>\n",
       "      <td>TEST_001</td>\n",
       "      <td>사업 목적​혁신창업사업화자금(융자) (5152-301)​1. 사업 코드 정보​구분​...</td>\n",
       "    </tr>\n",
       "    <tr>\n",
       "      <th>2</th>\n",
       "      <td>TEST_002</td>\n",
       "      <td>중소기업창업지원법 제35조, 제36조, 제37조, 제38조, 제39조, 제40조, ...</td>\n",
       "    </tr>\n",
       "    <tr>\n",
       "      <th>3</th>\n",
       "      <td>TEST_003</td>\n",
       "      <td>혁신창업사업화자금은 창업 후 3년 이내의 중소기업을 대상으로 혁신적인 기술과 아이디...</td>\n",
       "    </tr>\n",
       "    <tr>\n",
       "      <th>4</th>\n",
       "      <td>TEST_004</td>\n",
       "      <td>2020년 혁신창업사업화자금 신규 지원 내역은 다음과 같습니다.​혁신창업사업화자금(...</td>\n",
       "    </tr>\n",
       "    <tr>\n",
       "      <th>...</th>\n",
       "      <td>...</td>\n",
       "      <td>...</td>\n",
       "    </tr>\n",
       "    <tr>\n",
       "      <th>93</th>\n",
       "      <td>TEST_093</td>\n",
       "      <td>다음 정보를 바탕으로 질문에 답하세요:​​​​​​​​​​​​​​​​​​​​​​​​​...</td>\n",
       "    </tr>\n",
       "    <tr>\n",
       "      <th>94</th>\n",
       "      <td>TEST_094</td>\n",
       "      <td>미래사회보장급여에 대한 순의무란 미래사회보장급여에 대한 순의무란 미래사회보장급여에 ...</td>\n",
       "    </tr>\n",
       "    <tr>\n",
       "      <th>95</th>\n",
       "      <td>TEST_095</td>\n",
       "      <td>국가결산보고서는 국가회계기준에 따라 우발부채를 의무 이행을 위해 자원이 유출될 가능...</td>\n",
       "    </tr>\n",
       "    <tr>\n",
       "      <th>96</th>\n",
       "      <td>TEST_096</td>\n",
       "      <td>우발부채란 미래의 특정 사건(들)이 일어나지 않는 한 발생하지 않는 의무로, 하나 ...</td>\n",
       "    </tr>\n",
       "    <tr>\n",
       "      <th>97</th>\n",
       "      <td>TEST_097</td>\n",
       "      <td>보증이란 채무자가 채무의 이행에 관하여 채무자가 아닌 제3자(보증인)에게 채무의 이...</td>\n",
       "    </tr>\n",
       "  </tbody>\n",
       "</table>\n",
       "<p>98 rows × 2 columns</p>\n",
       "</div>"
      ],
      "text/plain": [
       "   SAMPLE_ID                                             Answer\n",
       "0   TEST_000  2022년 혁신창업사업화자금(융자)의 예산은 2,300,00,00원입니다.​​​​​...\n",
       "1   TEST_001  사업 목적​혁신창업사업화자금(융자) (5152-301)​1. 사업 코드 정보​구분​...\n",
       "2   TEST_002  중소기업창업지원법 제35조, 제36조, 제37조, 제38조, 제39조, 제40조, ...\n",
       "3   TEST_003  혁신창업사업화자금은 창업 후 3년 이내의 중소기업을 대상으로 혁신적인 기술과 아이디...\n",
       "4   TEST_004  2020년 혁신창업사업화자금 신규 지원 내역은 다음과 같습니다.​혁신창업사업화자금(...\n",
       "..       ...                                                ...\n",
       "93  TEST_093  다음 정보를 바탕으로 질문에 답하세요:​​​​​​​​​​​​​​​​​​​​​​​​​...\n",
       "94  TEST_094  미래사회보장급여에 대한 순의무란 미래사회보장급여에 대한 순의무란 미래사회보장급여에 ...\n",
       "95  TEST_095  국가결산보고서는 국가회계기준에 따라 우발부채를 의무 이행을 위해 자원이 유출될 가능...\n",
       "96  TEST_096  우발부채란 미래의 특정 사건(들)이 일어나지 않는 한 발생하지 않는 의무로, 하나 ...\n",
       "97  TEST_097  보증이란 채무자가 채무의 이행에 관하여 채무자가 아닌 제3자(보증인)에게 채무의 이...\n",
       "\n",
       "[98 rows x 2 columns]"
      ]
     },
     "execution_count": 8,
     "metadata": {},
     "output_type": "execute_result"
    }
   ],
   "source": [
    "submit_df = pd.read_csv(\"./baseline_submission.csv\")\n",
    "submit_df"
   ]
  },
  {
   "cell_type": "code",
   "execution_count": null,
   "id": "cde3d36a",
   "metadata": {},
   "outputs": [],
   "source": []
  },
  {
   "cell_type": "code",
   "execution_count": 23,
   "id": "2d9b423e",
   "metadata": {},
   "outputs": [],
   "source": [
    "# 제출용 샘플 파일 로드\n",
    "submit_df = pd.read_csv(\"./sample_submission.csv\")\n",
    "\n",
    "# 생성된 답변을 제출 DataFrame에 추가\n",
    "submit_df['Answer'] = [item['Answer'] for item in results]\n",
    "submit_df['Answer'] = submit_df['Answer'].fillna(\"데이콘\")     # 모델에서 빈 값 (NaN) 생성 시 채점에 오류가 날 수 있음 [ 주의 ]\n",
    "\n",
    "# 결과를 CSV 파일로 저장\n",
    "submit_df.to_csv(\"./baseline_submission.csv\", encoding='UTF-8-sig', index=False)\n"
   ]
  },
  {
   "cell_type": "code",
   "execution_count": null,
   "id": "ba098e7e",
   "metadata": {},
   "outputs": [],
   "source": []
  },
  {
   "cell_type": "code",
   "execution_count": 4,
   "id": "b8b73a16",
   "metadata": {},
   "outputs": [
    {
     "data": {
      "text/html": [
       "<div>\n",
       "<style scoped>\n",
       "    .dataframe tbody tr th:only-of-type {\n",
       "        vertical-align: middle;\n",
       "    }\n",
       "\n",
       "    .dataframe tbody tr th {\n",
       "        vertical-align: top;\n",
       "    }\n",
       "\n",
       "    .dataframe thead th {\n",
       "        text-align: right;\n",
       "    }\n",
       "</style>\n",
       "<table border=\"1\" class=\"dataframe\">\n",
       "  <thead>\n",
       "    <tr style=\"text-align: right;\">\n",
       "      <th></th>\n",
       "      <th>SAMPLE_ID</th>\n",
       "      <th>Answer</th>\n",
       "    </tr>\n",
       "  </thead>\n",
       "  <tbody>\n",
       "    <tr>\n",
       "      <th>0</th>\n",
       "      <td>TEST_000</td>\n",
       "      <td>2022년 혁신창업사업화자금(융자)의 예산은 2,300,00,00원입니다.​​​​​...</td>\n",
       "    </tr>\n",
       "    <tr>\n",
       "      <th>1</th>\n",
       "      <td>TEST_001</td>\n",
       "      <td>사업 목적​혁신창업사업화자금(융자) (5152-301)​1. 사업 코드 정보​구분​...</td>\n",
       "    </tr>\n",
       "    <tr>\n",
       "      <th>2</th>\n",
       "      <td>TEST_002</td>\n",
       "      <td>중소기업창업지원법 제35조, 제36조, 제37조, 제38조, 제39조, 제40조, ...</td>\n",
       "    </tr>\n",
       "    <tr>\n",
       "      <th>3</th>\n",
       "      <td>TEST_003</td>\n",
       "      <td>혁신창업사업화자금은 창업 후 3년 이내의 중소기업을 대상으로 혁신적인 기술과 아이디...</td>\n",
       "    </tr>\n",
       "    <tr>\n",
       "      <th>4</th>\n",
       "      <td>TEST_004</td>\n",
       "      <td>2020년 혁신창업사업화자금 신규 지원 내역은 다음과 같습니다.​혁신창업사업화자금(...</td>\n",
       "    </tr>\n",
       "    <tr>\n",
       "      <th>...</th>\n",
       "      <td>...</td>\n",
       "      <td>...</td>\n",
       "    </tr>\n",
       "    <tr>\n",
       "      <th>93</th>\n",
       "      <td>TEST_093</td>\n",
       "      <td>다음 정보를 바탕으로 질문에 답하세요:​​​​​​​​​​​​​​​​​​​​​​​​​...</td>\n",
       "    </tr>\n",
       "    <tr>\n",
       "      <th>94</th>\n",
       "      <td>TEST_094</td>\n",
       "      <td>미래사회보장급여에 대한 순의무란 미래사회보장급여에 대한 순의무란 미래사회보장급여에 ...</td>\n",
       "    </tr>\n",
       "    <tr>\n",
       "      <th>95</th>\n",
       "      <td>TEST_095</td>\n",
       "      <td>국가결산보고서는 국가회계기준에 따라 우발부채를 의무 이행을 위해 자원이 유출될 가능...</td>\n",
       "    </tr>\n",
       "    <tr>\n",
       "      <th>96</th>\n",
       "      <td>TEST_096</td>\n",
       "      <td>우발부채란 미래의 특정 사건(들)이 일어나지 않는 한 발생하지 않는 의무로, 하나 ...</td>\n",
       "    </tr>\n",
       "    <tr>\n",
       "      <th>97</th>\n",
       "      <td>TEST_097</td>\n",
       "      <td>보증이란 채무자가 채무의 이행에 관하여 채무자가 아닌 제3자(보증인)에게 채무의 이...</td>\n",
       "    </tr>\n",
       "  </tbody>\n",
       "</table>\n",
       "<p>98 rows × 2 columns</p>\n",
       "</div>"
      ],
      "text/plain": [
       "   SAMPLE_ID                                             Answer\n",
       "0   TEST_000  2022년 혁신창업사업화자금(융자)의 예산은 2,300,00,00원입니다.​​​​​...\n",
       "1   TEST_001  사업 목적​혁신창업사업화자금(융자) (5152-301)​1. 사업 코드 정보​구분​...\n",
       "2   TEST_002  중소기업창업지원법 제35조, 제36조, 제37조, 제38조, 제39조, 제40조, ...\n",
       "3   TEST_003  혁신창업사업화자금은 창업 후 3년 이내의 중소기업을 대상으로 혁신적인 기술과 아이디...\n",
       "4   TEST_004  2020년 혁신창업사업화자금 신규 지원 내역은 다음과 같습니다.​혁신창업사업화자금(...\n",
       "..       ...                                                ...\n",
       "93  TEST_093  다음 정보를 바탕으로 질문에 답하세요:​​​​​​​​​​​​​​​​​​​​​​​​​...\n",
       "94  TEST_094  미래사회보장급여에 대한 순의무란 미래사회보장급여에 대한 순의무란 미래사회보장급여에 ...\n",
       "95  TEST_095  국가결산보고서는 국가회계기준에 따라 우발부채를 의무 이행을 위해 자원이 유출될 가능...\n",
       "96  TEST_096  우발부채란 미래의 특정 사건(들)이 일어나지 않는 한 발생하지 않는 의무로, 하나 ...\n",
       "97  TEST_097  보증이란 채무자가 채무의 이행에 관하여 채무자가 아닌 제3자(보증인)에게 채무의 이...\n",
       "\n",
       "[98 rows x 2 columns]"
      ]
     },
     "execution_count": 4,
     "metadata": {},
     "output_type": "execute_result"
    }
   ],
   "source": [
    "df = pd.read_csv(\"./baseline_submission.csv\")\n",
    "df"
   ]
  },
  {
   "cell_type": "code",
   "execution_count": null,
   "id": "4d4bbd36",
   "metadata": {},
   "outputs": [],
   "source": []
  }
 ],
 "metadata": {
  "kernelspec": {
   "display_name": "venv_peft",
   "language": "python",
   "name": "venv_peft"
  },
  "language_info": {
   "codemirror_mode": {
    "name": "ipython",
    "version": 3
   },
   "file_extension": ".py",
   "mimetype": "text/x-python",
   "name": "python",
   "nbconvert_exporter": "python",
   "pygments_lexer": "ipython3",
   "version": "3.8.10"
  }
 },
 "nbformat": 4,
 "nbformat_minor": 5
}
