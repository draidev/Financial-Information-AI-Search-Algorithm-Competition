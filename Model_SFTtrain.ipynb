{
 "cells": [
  {
   "cell_type": "markdown",
   "id": "25a0881b",
   "metadata": {},
   "source": [
    "# Baseline\n",
    "## Import"
   ]
  },
  {
   "cell_type": "code",
   "execution_count": 2,
   "id": "cbe565a2",
   "metadata": {
    "scrolled": true
   },
   "outputs": [],
   "source": [
    "# %pip install accelerate\n",
    "# %pip install -i https://pypi.org/simple/ bitsandbytes\n",
    "# %pip install transformers[torch] -U\n",
    "\n",
    "# %pip install datasets\n",
    "# %pip install langchain\n",
    "# %pip install langchain_community\n",
    "# %pip install PyMuPDF\n",
    "# %pip install sentence-transformers\n",
    "# %pip install faiss-gpu"
   ]
  },
  {
   "cell_type": "code",
   "execution_count": 3,
   "id": "b078f272",
   "metadata": {},
   "outputs": [
    {
     "name": "stderr",
     "output_type": "stream",
     "text": [
      "/lockard_ai/works/PEFT/venv_peft/lib/python3.8/site-packages/tqdm/auto.py:21: TqdmWarning: IProgress not found. Please update jupyter and ipywidgets. See https://ipywidgets.readthedocs.io/en/stable/user_install.html\n",
      "  from .autonotebook import tqdm as notebook_tqdm\n"
     ]
    }
   ],
   "source": [
    "import unicodedata\n",
    "\n",
    "import torch\n",
    "import pandas as pd\n",
    "from tqdm import tqdm\n",
    "import fitz  # PyMuPDF\n",
    "import os\n",
    "import pickle\n",
    "\n",
    "from transformers import (\n",
    "    AutoTokenizer,\n",
    "    AutoModelForCausalLM,\n",
    "    Gemma2ForCausalLM,\n",
    "    pipeline,\n",
    "    BitsAndBytesConfig,\n",
    "    Trainer, \n",
    "    TrainingArguments,\n",
    "    EarlyStoppingCallback\n",
    ")\n",
    "from accelerate import Accelerator\n",
    "\n",
    "# Train 관련\n",
    "from peft import LoraConfig, PeftModel\n",
    "from trl import SFTTrainer\n",
    "from peft import LoraConfig, PeftModel, PeftConfig\n",
    "from datasets import Dataset, DatasetDict, load_dataset, load_from_disk\n",
    "\n",
    "# Langchain 관련\n",
    "from langchain.llms import HuggingFacePipeline\n",
    "from langchain.embeddings import HuggingFaceEmbeddings\n",
    "from langchain.vectorstores import FAISS\n",
    "from langchain.schema import Document\n",
    "from langchain.text_splitter import RecursiveCharacterTextSplitter\n",
    "from langchain.prompts import PromptTemplate\n",
    "from langchain.schema.runnable import RunnablePassthrough\n",
    "from langchain.schema.output_parser import StrOutputParser"
   ]
  },
  {
   "cell_type": "markdown",
   "id": "c7c195d7",
   "metadata": {},
   "source": [
    "## Vector DB"
   ]
  },
  {
   "cell_type": "code",
   "execution_count": 4,
   "id": "5932a6f7",
   "metadata": {},
   "outputs": [],
   "source": [
    "def process_pdf(file_path, chunk_size=800, chunk_overlap=50):\n",
    "    \"\"\"PDF 텍스트 추출 후 chunk 단위로 나누기\"\"\"\n",
    "    # PDF 파일 열기\n",
    "    doc = fitz.open(file_path)\n",
    "    text = ''\n",
    "    # 모든 페이지의 텍스트 추출\n",
    "    for page in doc:\n",
    "        text += page.get_text()\n",
    "    # 텍스트를 chunk로 분할\n",
    "    splitter = RecursiveCharacterTextSplitter(\n",
    "        chunk_size=chunk_size,\n",
    "        chunk_overlap=chunk_overlap\n",
    "    )\n",
    "    chunk_temp = splitter.split_text(text)\n",
    "    # Document 객체 리스트 생성\n",
    "    chunks = [Document(page_content=t) for t in chunk_temp]\n",
    "    return chunks\n",
    "\n",
    "\n",
    "def create_vector_db(chunks, model_path=\"intfloat/multilingual-e5-small\"):\n",
    "    \"\"\"FAISS DB 생성\"\"\"\n",
    "    # 임베딩 모델 설정\n",
    "    model_kwargs = {'device': 'cuda'}\n",
    "    encode_kwargs = {'normalize_embeddings': True}\n",
    "    embeddings = HuggingFaceEmbeddings(\n",
    "        model_name=model_path,\n",
    "        model_kwargs=model_kwargs,\n",
    "        encode_kwargs=encode_kwargs\n",
    "    )\n",
    "    # FAISS DB 생성 및 반환\n",
    "    db = FAISS.from_documents(chunks, embedding=embeddings)\n",
    "    return db\n",
    "\n",
    "def normalize_path(path):\n",
    "    \"\"\"경로 유니코드 정규화\"\"\"\n",
    "    return unicodedata.normalize('NFC', path)\n",
    "\n",
    "\n",
    "def process_pdfs_from_dataframe(df, base_directory):\n",
    "    \"\"\"딕셔너리에 pdf명을 키로해서 DB, retriever 저장\"\"\"\n",
    "    pdf_databases = {}\n",
    "    unique_paths = df['Source_path'].unique()\n",
    "    \n",
    "    for path in tqdm(unique_paths, desc=\"Processing PDFs\"):\n",
    "        # 경로 정규화 및 절대 경로 생성\n",
    "        normalized_path = normalize_path(path)\n",
    "        full_path = os.path.normpath(os.path.join(base_directory, normalized_path.lstrip('./'))) if not os.path.isabs(normalized_path) else normalized_path\n",
    "        \n",
    "        pdf_title = os.path.splitext(os.path.basename(full_path))[0]\n",
    "        print(f\"Processing {pdf_title}...\")\n",
    "        \n",
    "        # PDF 처리 및 벡터 DB 생성\n",
    "        chunks = process_pdf(full_path)\n",
    "        db = create_vector_db(chunks)\n",
    "        \n",
    "        # Retriever 생성\n",
    "        retriever = db.as_retriever(search_type=\"mmr\", \n",
    "                                    search_kwargs={'k': 3, 'fetch_k': 8})\n",
    "        \n",
    "        # 결과 저장\n",
    "        pdf_databases[pdf_title] = {\n",
    "                'db': db,\n",
    "                'retriever': retriever\n",
    "        }\n",
    "    return pdf_databases"
   ]
  },
  {
   "cell_type": "markdown",
   "id": "a61035f4",
   "metadata": {},
   "source": [
    "## DB 생성"
   ]
  },
  {
   "cell_type": "code",
   "execution_count": 5,
   "id": "5173209d",
   "metadata": {},
   "outputs": [],
   "source": [
    "import os "
   ]
  },
  {
   "cell_type": "code",
   "execution_count": 6,
   "id": "befaaf21",
   "metadata": {
    "scrolled": true
   },
   "outputs": [
    {
     "name": "stdout",
     "output_type": "stream",
     "text": [
      "16\n",
      "['1-1 2024 주요 재정통계 1권.pdf', '2024 나라살림 예산개요.pdf', '2024년도 성과계획서(총괄편).pdf', '「FIS 이슈 & 포커스」 22-3호 《재정융자사업》.pdf', '「FIS 이슈 & 포커스」 23-3호 《조세지출 연계관리》.pdf', '고용노동부_내일배움카드(일반).pdf', '고용노동부_조기재취업수당.pdf', '고용노동부_청년일자리창출지원.pdf', '국토교통부_민간임대(융자).pdf', '국토교통부_소규모주택정비사업.pdf', '국토교통부_전세임대(융자).pdf', '보건복지부_노인일자리 및 사회활동지원.pdf', '보건복지부_생계급여.pdf', '월간 나라재정 2023년 12월호.pdf', '재정통계해설.pdf', '중소벤처기업부_창업사업화지원.pdf']\n"
     ]
    }
   ],
   "source": [
    "train_src_list = os.listdir(os.getcwd()+'/train_source')\n",
    "print(len(train_src_list))\n",
    "print(train_src_list)"
   ]
  },
  {
   "cell_type": "code",
   "execution_count": 12,
   "id": "681d0721",
   "metadata": {},
   "outputs": [
    {
     "data": {
      "text/html": [
       "<div>\n",
       "<style scoped>\n",
       "    .dataframe tbody tr th:only-of-type {\n",
       "        vertical-align: middle;\n",
       "    }\n",
       "\n",
       "    .dataframe tbody tr th {\n",
       "        vertical-align: top;\n",
       "    }\n",
       "\n",
       "    .dataframe thead th {\n",
       "        text-align: right;\n",
       "    }\n",
       "</style>\n",
       "<table border=\"1\" class=\"dataframe\">\n",
       "  <thead>\n",
       "    <tr style=\"text-align: right;\">\n",
       "      <th></th>\n",
       "      <th>SAMPLE_ID</th>\n",
       "      <th>Source</th>\n",
       "      <th>Source_path</th>\n",
       "      <th>Question</th>\n",
       "      <th>Answer</th>\n",
       "    </tr>\n",
       "  </thead>\n",
       "  <tbody>\n",
       "    <tr>\n",
       "      <th>0</th>\n",
       "      <td>TRAIN_000</td>\n",
       "      <td>1-1 2024 주요 재정통계 1권</td>\n",
       "      <td>./train_source/1-1 2024 주요 재정통계 1권.pdf</td>\n",
       "      <td>2024년 중앙정부 재정체계는 어떻게 구성되어 있나요?</td>\n",
       "      <td>2024년 중앙정부 재정체계는 예산(일반·특별회계)과 기금으로 구분되며, 2024년...</td>\n",
       "    </tr>\n",
       "    <tr>\n",
       "      <th>1</th>\n",
       "      <td>TRAIN_001</td>\n",
       "      <td>1-1 2024 주요 재정통계 1권</td>\n",
       "      <td>./train_source/1-1 2024 주요 재정통계 1권.pdf</td>\n",
       "      <td>2024년 중앙정부의 예산 지출은 어떻게 구성되어 있나요?</td>\n",
       "      <td>2024년 중앙정부의 예산 지출은 일반회계 356.5조원, 21개 특별회계 81.7...</td>\n",
       "    </tr>\n",
       "    <tr>\n",
       "      <th>2</th>\n",
       "      <td>TRAIN_002</td>\n",
       "      <td>1-1 2024 주요 재정통계 1권</td>\n",
       "      <td>./train_source/1-1 2024 주요 재정통계 1권.pdf</td>\n",
       "      <td>기금이 예산과 다른 점은?</td>\n",
       "      <td>기금은 예산과 구분되는 재정수단으로서 재정운영의 신축성을 기할 필요가 있을 때, 정...</td>\n",
       "    </tr>\n",
       "    <tr>\n",
       "      <th>3</th>\n",
       "      <td>TRAIN_003</td>\n",
       "      <td>1-1 2024 주요 재정통계 1권</td>\n",
       "      <td>./train_source/1-1 2024 주요 재정통계 1권.pdf</td>\n",
       "      <td>일반회계, 특별회계, 기금 간의 차이점은 무엇인가요?</td>\n",
       "      <td>일반회계는 특정 사업 운영 및 특정 세입으로 특정 세출을 충당하는데 사용되고, 특별...</td>\n",
       "    </tr>\n",
       "    <tr>\n",
       "      <th>4</th>\n",
       "      <td>TRAIN_004</td>\n",
       "      <td>1-1 2024 주요 재정통계 1권</td>\n",
       "      <td>./train_source/1-1 2024 주요 재정통계 1권.pdf</td>\n",
       "      <td>2024년 총수입은 얼마이며, 예산수입과 기금수입은 각각 몇 조원인가요?</td>\n",
       "      <td>2024년 총수입은 612.2조원이며, 예산수입은 395.5조원, 기금수입은 216...</td>\n",
       "    </tr>\n",
       "    <tr>\n",
       "      <th>...</th>\n",
       "      <td>...</td>\n",
       "      <td>...</td>\n",
       "      <td>...</td>\n",
       "      <td>...</td>\n",
       "      <td>...</td>\n",
       "    </tr>\n",
       "    <tr>\n",
       "      <th>491</th>\n",
       "      <td>TRAIN_491</td>\n",
       "      <td>월간 나라재정 2023년 12월호</td>\n",
       "      <td>./train_source/월간 나라재정 2023년 12월호.pdf</td>\n",
       "      <td>자치단체 보조금과 민간보조금은 각각 어떤 비율로 증가했는가?</td>\n",
       "      <td>자치단체 보조금은 2019년 대비 2022년에 35% 증가하였고, 민간보조금은 10...</td>\n",
       "    </tr>\n",
       "    <tr>\n",
       "      <th>492</th>\n",
       "      <td>TRAIN_492</td>\n",
       "      <td>월간 나라재정 2023년 12월호</td>\n",
       "      <td>./train_source/월간 나라재정 2023년 12월호.pdf</td>\n",
       "      <td>한국의 재정금융안정계획이 주로 어떤 목표에 초점을 맞추어 있었는가?</td>\n",
       "      <td>한국의 재정금융안정계획은 통화량 조절과 물가안정이라는 단기적 목표에 초점을 맞추어 ...</td>\n",
       "    </tr>\n",
       "    <tr>\n",
       "      <th>493</th>\n",
       "      <td>TRAIN_493</td>\n",
       "      <td>월간 나라재정 2023년 12월호</td>\n",
       "      <td>./train_source/월간 나라재정 2023년 12월호.pdf</td>\n",
       "      <td>1952년에 체결된 '한미경제조정협정'은 어떤 문제를 해결하기 위해 체결되었는가?</td>\n",
       "      <td>원조물자 판매대금의 효과적 활용, 참전유엔군 경비지출을 위해 우리 정부에서 대여해 ...</td>\n",
       "    </tr>\n",
       "    <tr>\n",
       "      <th>494</th>\n",
       "      <td>TRAIN_494</td>\n",
       "      <td>월간 나라재정 2023년 12월호</td>\n",
       "      <td>./train_source/월간 나라재정 2023년 12월호.pdf</td>\n",
       "      <td>2023년 12월 IMF는 성장 전망을 어떻게 제시하고 있으며, 성장세의 둔화가 어...</td>\n",
       "      <td>IMF는 최근 세계 경제전망을 통해 작년 3.5%에서 올해 3%, 내년 2.9%로 ...</td>\n",
       "    </tr>\n",
       "    <tr>\n",
       "      <th>495</th>\n",
       "      <td>TRAIN_495</td>\n",
       "      <td>월간 나라재정 2023년 12월호</td>\n",
       "      <td>./train_source/월간 나라재정 2023년 12월호.pdf</td>\n",
       "      <td>한국의 재정금융안정계획이 주로 어떤 목표에 초점을 맞추어 있었는가?</td>\n",
       "      <td>한국의 재정금융안정계획은 통화량 조절과 물가안정이라는 단기적 목표에 초점을 맞추어 ...</td>\n",
       "    </tr>\n",
       "  </tbody>\n",
       "</table>\n",
       "<p>496 rows × 5 columns</p>\n",
       "</div>"
      ],
      "text/plain": [
       "     SAMPLE_ID               Source                             Source_path  \\\n",
       "0    TRAIN_000  1-1 2024 주요 재정통계 1권  ./train_source/1-1 2024 주요 재정통계 1권.pdf   \n",
       "1    TRAIN_001  1-1 2024 주요 재정통계 1권  ./train_source/1-1 2024 주요 재정통계 1권.pdf   \n",
       "2    TRAIN_002  1-1 2024 주요 재정통계 1권  ./train_source/1-1 2024 주요 재정통계 1권.pdf   \n",
       "3    TRAIN_003  1-1 2024 주요 재정통계 1권  ./train_source/1-1 2024 주요 재정통계 1권.pdf   \n",
       "4    TRAIN_004  1-1 2024 주요 재정통계 1권  ./train_source/1-1 2024 주요 재정통계 1권.pdf   \n",
       "..         ...                  ...                                     ...   \n",
       "491  TRAIN_491   월간 나라재정 2023년 12월호   ./train_source/월간 나라재정 2023년 12월호.pdf   \n",
       "492  TRAIN_492   월간 나라재정 2023년 12월호   ./train_source/월간 나라재정 2023년 12월호.pdf   \n",
       "493  TRAIN_493   월간 나라재정 2023년 12월호   ./train_source/월간 나라재정 2023년 12월호.pdf   \n",
       "494  TRAIN_494   월간 나라재정 2023년 12월호   ./train_source/월간 나라재정 2023년 12월호.pdf   \n",
       "495  TRAIN_495   월간 나라재정 2023년 12월호   ./train_source/월간 나라재정 2023년 12월호.pdf   \n",
       "\n",
       "                                              Question  \\\n",
       "0                       2024년 중앙정부 재정체계는 어떻게 구성되어 있나요?   \n",
       "1                     2024년 중앙정부의 예산 지출은 어떻게 구성되어 있나요?   \n",
       "2                                       기금이 예산과 다른 점은?   \n",
       "3                        일반회계, 특별회계, 기금 간의 차이점은 무엇인가요?   \n",
       "4             2024년 총수입은 얼마이며, 예산수입과 기금수입은 각각 몇 조원인가요?   \n",
       "..                                                 ...   \n",
       "491                  자치단체 보조금과 민간보조금은 각각 어떤 비율로 증가했는가?   \n",
       "492              한국의 재정금융안정계획이 주로 어떤 목표에 초점을 맞추어 있었는가?   \n",
       "493      1952년에 체결된 '한미경제조정협정'은 어떤 문제를 해결하기 위해 체결되었는가?   \n",
       "494  2023년 12월 IMF는 성장 전망을 어떻게 제시하고 있으며, 성장세의 둔화가 어...   \n",
       "495              한국의 재정금융안정계획이 주로 어떤 목표에 초점을 맞추어 있었는가?   \n",
       "\n",
       "                                                Answer  \n",
       "0    2024년 중앙정부 재정체계는 예산(일반·특별회계)과 기금으로 구분되며, 2024년...  \n",
       "1    2024년 중앙정부의 예산 지출은 일반회계 356.5조원, 21개 특별회계 81.7...  \n",
       "2    기금은 예산과 구분되는 재정수단으로서 재정운영의 신축성을 기할 필요가 있을 때, 정...  \n",
       "3    일반회계는 특정 사업 운영 및 특정 세입으로 특정 세출을 충당하는데 사용되고, 특별...  \n",
       "4    2024년 총수입은 612.2조원이며, 예산수입은 395.5조원, 기금수입은 216...  \n",
       "..                                                 ...  \n",
       "491  자치단체 보조금은 2019년 대비 2022년에 35% 증가하였고, 민간보조금은 10...  \n",
       "492  한국의 재정금융안정계획은 통화량 조절과 물가안정이라는 단기적 목표에 초점을 맞추어 ...  \n",
       "493  원조물자 판매대금의 효과적 활용, 참전유엔군 경비지출을 위해 우리 정부에서 대여해 ...  \n",
       "494  IMF는 최근 세계 경제전망을 통해 작년 3.5%에서 올해 3%, 내년 2.9%로 ...  \n",
       "495  한국의 재정금융안정계획은 통화량 조절과 물가안정이라는 단기적 목표에 초점을 맞추어 ...  \n",
       "\n",
       "[496 rows x 5 columns]"
      ]
     },
     "execution_count": 12,
     "metadata": {},
     "output_type": "execute_result"
    }
   ],
   "source": []
  },
  {
   "cell_type": "code",
   "execution_count": 7,
   "id": "ed57aee8",
   "metadata": {},
   "outputs": [],
   "source": [
    "base_directory = './' # Your Base Directory\n",
    "df = pd.read_csv('./train.csv')\n",
    "test_df = pd.read_csv('./test.csv')"
   ]
  },
  {
   "cell_type": "code",
   "execution_count": 6,
   "id": "6d5c2b16",
   "metadata": {
    "scrolled": true
   },
   "outputs": [
    {
     "data": {
      "text/html": [
       "<div>\n",
       "<style scoped>\n",
       "    .dataframe tbody tr th:only-of-type {\n",
       "        vertical-align: middle;\n",
       "    }\n",
       "\n",
       "    .dataframe tbody tr th {\n",
       "        vertical-align: top;\n",
       "    }\n",
       "\n",
       "    .dataframe thead th {\n",
       "        text-align: right;\n",
       "    }\n",
       "</style>\n",
       "<table border=\"1\" class=\"dataframe\">\n",
       "  <thead>\n",
       "    <tr style=\"text-align: right;\">\n",
       "      <th></th>\n",
       "      <th>SAMPLE_ID</th>\n",
       "      <th>Source</th>\n",
       "      <th>Source_path</th>\n",
       "      <th>Question</th>\n",
       "    </tr>\n",
       "  </thead>\n",
       "  <tbody>\n",
       "    <tr>\n",
       "      <th>0</th>\n",
       "      <td>TEST_000</td>\n",
       "      <td>중소벤처기업부_혁신창업사업화자금(융자)</td>\n",
       "      <td>./test_source/중소벤처기업부_혁신창업사업화자금(융자).pdf</td>\n",
       "      <td>2022년 혁신창업사업화자금(융자)의 예산은 얼마인가요?</td>\n",
       "    </tr>\n",
       "    <tr>\n",
       "      <th>1</th>\n",
       "      <td>TEST_001</td>\n",
       "      <td>중소벤처기업부_혁신창업사업화자금(융자)</td>\n",
       "      <td>./test_source/중소벤처기업부_혁신창업사업화자금(융자).pdf</td>\n",
       "      <td>중소벤처기업부의 혁신창업사업화자금(융자) 사업목적은 무엇인가요?</td>\n",
       "    </tr>\n",
       "    <tr>\n",
       "      <th>2</th>\n",
       "      <td>TEST_002</td>\n",
       "      <td>중소벤처기업부_혁신창업사업화자금(융자)</td>\n",
       "      <td>./test_source/중소벤처기업부_혁신창업사업화자금(융자).pdf</td>\n",
       "      <td>중소벤처기업부의 혁신창업사업화자금(융자) 사업근거는 어떤 법률에 근거하고 있나요?</td>\n",
       "    </tr>\n",
       "    <tr>\n",
       "      <th>3</th>\n",
       "      <td>TEST_003</td>\n",
       "      <td>중소벤처기업부_혁신창업사업화자금(융자)</td>\n",
       "      <td>./test_source/중소벤처기업부_혁신창업사업화자금(융자).pdf</td>\n",
       "      <td>2010년에 신규 지원된 혁신창업사업화자금은 무엇인가요?</td>\n",
       "    </tr>\n",
       "    <tr>\n",
       "      <th>4</th>\n",
       "      <td>TEST_004</td>\n",
       "      <td>중소벤처기업부_혁신창업사업화자금(융자)</td>\n",
       "      <td>./test_source/중소벤처기업부_혁신창업사업화자금(융자).pdf</td>\n",
       "      <td>혁신창업사업화자금 중 2020년에 신규 지원된 자금은 무엇인가요?</td>\n",
       "    </tr>\n",
       "    <tr>\n",
       "      <th>...</th>\n",
       "      <td>...</td>\n",
       "      <td>...</td>\n",
       "      <td>...</td>\n",
       "      <td>...</td>\n",
       "    </tr>\n",
       "    <tr>\n",
       "      <th>93</th>\n",
       "      <td>TEST_093</td>\n",
       "      <td>「FIS 이슈 &amp; 포커스」(신규) 통권 제1호 《우발부채》</td>\n",
       "      <td>./test_source/「FIS 이슈 &amp; 포커스」(신규) 통권 제1호 《우발부채》...</td>\n",
       "      <td>재정정책에서 공적보증채무와 다른 일회성 보증은 어떻게 구분되는가?</td>\n",
       "    </tr>\n",
       "    <tr>\n",
       "      <th>94</th>\n",
       "      <td>TEST_094</td>\n",
       "      <td>「FIS 이슈 &amp; 포커스」(신규) 통권 제1호 《우발부채》</td>\n",
       "      <td>./test_source/「FIS 이슈 &amp; 포커스」(신규) 통권 제1호 《우발부채》...</td>\n",
       "      <td>미래사회보장급여에 대한 순의무란 무엇을 의미하는가?</td>\n",
       "    </tr>\n",
       "    <tr>\n",
       "      <th>95</th>\n",
       "      <td>TEST_095</td>\n",
       "      <td>「FIS 이슈 &amp; 포커스」(신규) 통권 제1호 《우발부채》</td>\n",
       "      <td>./test_source/「FIS 이슈 &amp; 포커스」(신규) 통권 제1호 《우발부채》...</td>\n",
       "      <td>국가결산보고서와 지방자치단체 회계기준에서 우발부채에 대한 용어 및 회계처리가 어떻게...</td>\n",
       "    </tr>\n",
       "    <tr>\n",
       "      <th>96</th>\n",
       "      <td>TEST_096</td>\n",
       "      <td>「FIS 이슈 &amp; 포커스」(신규) 통권 제1호 《우발부채》</td>\n",
       "      <td>./test_source/「FIS 이슈 &amp; 포커스」(신규) 통권 제1호 《우발부채》...</td>\n",
       "      <td>우발부채란 무엇이며, 그 관리가 왜 중요한가?</td>\n",
       "    </tr>\n",
       "    <tr>\n",
       "      <th>97</th>\n",
       "      <td>TEST_097</td>\n",
       "      <td>「FIS 이슈 &amp; 포커스」(신규) 통권 제1호 《우발부채》</td>\n",
       "      <td>./test_source/「FIS 이슈 &amp; 포커스」(신규) 통권 제1호 《우발부채》...</td>\n",
       "      <td>보증이란 무엇이며, 어떤 형태의 보증이 재정상태표에 부채로 기록되는가? 또한 표준화...</td>\n",
       "    </tr>\n",
       "  </tbody>\n",
       "</table>\n",
       "<p>98 rows × 4 columns</p>\n",
       "</div>"
      ],
      "text/plain": [
       "   SAMPLE_ID                            Source  \\\n",
       "0   TEST_000             중소벤처기업부_혁신창업사업화자금(융자)   \n",
       "1   TEST_001             중소벤처기업부_혁신창업사업화자금(융자)   \n",
       "2   TEST_002             중소벤처기업부_혁신창업사업화자금(융자)   \n",
       "3   TEST_003             중소벤처기업부_혁신창업사업화자금(융자)   \n",
       "4   TEST_004             중소벤처기업부_혁신창업사업화자금(융자)   \n",
       "..       ...                               ...   \n",
       "93  TEST_093  「FIS 이슈 & 포커스」(신규) 통권 제1호 《우발부채》   \n",
       "94  TEST_094  「FIS 이슈 & 포커스」(신규) 통권 제1호 《우발부채》   \n",
       "95  TEST_095  「FIS 이슈 & 포커스」(신규) 통권 제1호 《우발부채》   \n",
       "96  TEST_096  「FIS 이슈 & 포커스」(신규) 통권 제1호 《우발부채》   \n",
       "97  TEST_097  「FIS 이슈 & 포커스」(신규) 통권 제1호 《우발부채》   \n",
       "\n",
       "                                          Source_path  \\\n",
       "0             ./test_source/중소벤처기업부_혁신창업사업화자금(융자).pdf   \n",
       "1             ./test_source/중소벤처기업부_혁신창업사업화자금(융자).pdf   \n",
       "2             ./test_source/중소벤처기업부_혁신창업사업화자금(융자).pdf   \n",
       "3             ./test_source/중소벤처기업부_혁신창업사업화자금(융자).pdf   \n",
       "4             ./test_source/중소벤처기업부_혁신창업사업화자금(융자).pdf   \n",
       "..                                                ...   \n",
       "93  ./test_source/「FIS 이슈 & 포커스」(신규) 통권 제1호 《우발부채》...   \n",
       "94  ./test_source/「FIS 이슈 & 포커스」(신규) 통권 제1호 《우발부채》...   \n",
       "95  ./test_source/「FIS 이슈 & 포커스」(신규) 통권 제1호 《우발부채》...   \n",
       "96  ./test_source/「FIS 이슈 & 포커스」(신규) 통권 제1호 《우발부채》...   \n",
       "97  ./test_source/「FIS 이슈 & 포커스」(신규) 통권 제1호 《우발부채》...   \n",
       "\n",
       "                                             Question  \n",
       "0                     2022년 혁신창업사업화자금(융자)의 예산은 얼마인가요?  \n",
       "1                 중소벤처기업부의 혁신창업사업화자금(융자) 사업목적은 무엇인가요?  \n",
       "2       중소벤처기업부의 혁신창업사업화자금(융자) 사업근거는 어떤 법률에 근거하고 있나요?  \n",
       "3                     2010년에 신규 지원된 혁신창업사업화자금은 무엇인가요?  \n",
       "4                혁신창업사업화자금 중 2020년에 신규 지원된 자금은 무엇인가요?  \n",
       "..                                                ...  \n",
       "93               재정정책에서 공적보증채무와 다른 일회성 보증은 어떻게 구분되는가?  \n",
       "94                       미래사회보장급여에 대한 순의무란 무엇을 의미하는가?  \n",
       "95  국가결산보고서와 지방자치단체 회계기준에서 우발부채에 대한 용어 및 회계처리가 어떻게...  \n",
       "96                          우발부채란 무엇이며, 그 관리가 왜 중요한가?  \n",
       "97  보증이란 무엇이며, 어떤 형태의 보증이 재정상태표에 부채로 기록되는가? 또한 표준화...  \n",
       "\n",
       "[98 rows x 4 columns]"
      ]
     },
     "execution_count": 6,
     "metadata": {},
     "output_type": "execute_result"
    }
   ],
   "source": [
    "test_df"
   ]
  },
  {
   "cell_type": "markdown",
   "id": "4f567851",
   "metadata": {},
   "source": [
    "## 모델 학습"
   ]
  },
  {
   "cell_type": "code",
   "execution_count": 8,
   "id": "8acc8537",
   "metadata": {},
   "outputs": [
    {
     "data": {
      "text/plain": [
       "{'user': '2024년 중앙정부 재정체계는 어떻게 구성되어 있나요?',\n",
       " 'assistant': '2024년 중앙정부 재정체계는 예산(일반·특별회계)과 기금으로 구분되며, 2024년 기준으로 일반회계 1개, 특별회계 21개, 기금 68개로 구성되어 있습니다.'}"
      ]
     },
     "execution_count": 8,
     "metadata": {},
     "output_type": "execute_result"
    }
   ],
   "source": [
    "# X_train = df['Question']\n",
    "# Y_train = df['Answer']\n",
    "\n",
    "# # make dataset\n",
    "# train_data = []\n",
    "# for x, y in zip(X_train, Y_train):\n",
    "#     train_data.append({\"user\":x, \"assistant\":y})\n",
    "    \n",
    "# train_dataset = Dataset.from_list(train_data)\n",
    "\n",
    "# dataset_dict = DatasetDict({\n",
    "#     \"train\": train_dataset\n",
    "# })\n",
    "\n",
    "# # save at local\n",
    "# dataset_dict.save_to_disk('./finance_dataset')\n",
    "\n",
    "# load dataset from local\n",
    "dataset_dict = DatasetDict.load_from_disk('./finance_dataset')\n",
    "\n",
    "dataset_dict['train'][0]"
   ]
  },
  {
   "cell_type": "code",
   "execution_count": 10,
   "id": "b8c7c699",
   "metadata": {},
   "outputs": [],
   "source": [
    "def load_model(model_id):\n",
    "            # 4비트 양자화 설정\n",
    "    bnb_config = BitsAndBytesConfig(\n",
    "        load_in_4bit=True,\n",
    "        bnb_4bit_use_double_quant=True,\n",
    "        bnb_4bit_quant_type=\"nf4\",\n",
    "        bnb_4bit_compute_dtype=torch.bfloat16\n",
    "    )\n",
    "\n",
    "    # 토크나이저 로드 및 설정\n",
    "    global tokenizer\n",
    "    tokenizer = AutoTokenizer.from_pretrained(model_id)\n",
    "    tokenizer.use_default_system_prompt = False\n",
    "\n",
    "    # 모델 로드 및 양자화 설정 적용\n",
    "    model = AutoModelForCausalLM.from_pretrained(\n",
    "        model_id,\n",
    "        quantization_config=bnb_config,\n",
    "        device_map=\"auto\",\n",
    "        trust_remote_code=True,\n",
    "        attn_implementation='eager'\n",
    "    )\n",
    "    \n",
    "    return model, tokenizer\n",
    "\n",
    "def generate_prompts_train(example):\n",
    "    output_texts = []\n",
    "    for i in range(len(example['user'])):\n",
    "        messages = [\n",
    "#             {\"role\": \"system\", \"content\": system_msg},\n",
    "            {'role': 'user', 'content': \"{}\".format(example['user'][i])},\n",
    "            {'role': 'assistant', 'content': \"{}\".format(example['assistant'][i])}\n",
    "        ]\n",
    "\n",
    "        chat_message = tokenizer.apply_chat_template(messages, tokenize=False, add_generation_prompt=False)\n",
    "        chat_message = chat_message.rstrip()\n",
    "        chat_message = chat_message+\"<eos>\"\n",
    "        \n",
    "        '''\n",
    "        print(\"###################################\")\n",
    "        print('###chat_message###\\n', chat_message)\n",
    "        print(\"###################################\")\n",
    "        '''\n",
    "\n",
    "        output_texts.append(chat_message)\n",
    "\n",
    "    return output_texts\n",
    "\n",
    "def train_model_SFT(model_id, train_dataset, model_save_path):\n",
    "    model, tokenizer = load_model(model_id)\n",
    "    \n",
    "    lora_config = LoraConfig(\n",
    "        r=8,\n",
    "        lora_alpha = 16,\n",
    "        lora_dropout = 0.05,\n",
    "        target_modules=[\"q_proj\", \"o_proj\", \"k_proj\", \"v_proj\", \"gate_proj\", \"up_proj\", \"down_proj\"],\n",
    "        task_type=\"CAUSAL_LM\",\n",
    "    )   \n",
    "\n",
    "    os.environ[\"TOKENIZERS_PARALLELISM\"] = \"false\"\n",
    "\n",
    "    trainer = SFTTrainer(\n",
    "        model=model,\n",
    "        train_dataset=train_dataset,\n",
    "        max_seq_length=512,\n",
    "        args=TrainingArguments(\n",
    "            output_dir=model_save_path+'_checkpoint_dir',\n",
    "#             evaluation_strategy = \"steps\",\n",
    "#             eval_steps = 5,\n",
    "#             load_best_model_at_end = True,\n",
    "            num_train_epochs = 5,\n",
    "            max_steps=3000,\n",
    "            per_device_train_batch_size=1,\n",
    "            gradient_accumulation_steps=4,\n",
    "            optim=\"paged_adamw_8bit\",\n",
    "            warmup_steps=100,\n",
    "            learning_rate=2e-4,\n",
    "            bf16=True, \n",
    "            logging_steps=100,\n",
    "            report_to=\"wandb\",\n",
    "            run_name=model_save_path,\n",
    "            push_to_hub=False\n",
    "        ),\n",
    "        peft_config=lora_config,\n",
    "        formatting_func=generate_prompts_train\n",
    "#         callbacks = [EarlyStoppingCallback(early_stopping_patience=3)]\n",
    "    )\n",
    "    \n",
    "    trainer.train()\n",
    "    \n",
    "    # model save\n",
    "    ADAPTER_MODEL = model_save_path+\"lora_adapter\"\n",
    "\n",
    "    trainer.model.save_pretrained(ADAPTER_MODEL)\n",
    "\n",
    "    model = PeftModel.from_pretrained(model, ADAPTER_MODEL, device_map='auto', torch_dtype=torch.bfloat16)\n",
    "\n",
    "    model = model.merge_and_unload()\n",
    "    model.save_pretrained(model_save_path)\n",
    "    \n",
    "    return model, tokenizer"
   ]
  },
  {
   "cell_type": "code",
   "execution_count": 11,
   "id": "df6b8654",
   "metadata": {
    "scrolled": false
   },
   "outputs": [
    {
     "name": "stderr",
     "output_type": "stream",
     "text": [
      "Loading checkpoint shards: 100%|██████████| 4/4 [00:10<00:00,  2.60s/it]\n",
      "/lockard_ai/works/PEFT/venv_peft/lib/python3.8/site-packages/trl/trainer/sft_trainer.py:318: UserWarning: You passed a tokenizer with `padding_side` not equal to `right` to the SFTTrainer. This might lead to some unexpected behaviour due to overflow issues when training a model in half-precision. You might consider adding `tokenizer.padding_side = 'right'` to your code.\n",
      "  warnings.warn(\n",
      "Detected kernel version 5.4.0, which is below the recommended minimum of 5.5.0; this can cause the process to hang. It is recommended to upgrade the kernel to the minimum version or higher.\n",
      "max_steps is given, it will override any value given in num_train_epochs\n",
      "Failed to detect the name of this notebook, you can set it manually with the WANDB_NOTEBOOK_NAME environment variable to enable code saving.\n",
      "\u001b[34m\u001b[1mwandb\u001b[0m: Currently logged in as: \u001b[33mdrtkdldjstm\u001b[0m (\u001b[33mdrtkdldjstm-secudaim\u001b[0m). Use \u001b[1m`wandb login --relogin`\u001b[0m to force relogin\n"
     ]
    },
    {
     "data": {
      "text/html": [
       "wandb version 0.17.7 is available!  To upgrade, please run:\n",
       " $ pip install wandb --upgrade"
      ],
      "text/plain": [
       "<IPython.core.display.HTML object>"
      ]
     },
     "metadata": {},
     "output_type": "display_data"
    },
    {
     "data": {
      "text/html": [
       "Tracking run with wandb version 0.17.5"
      ],
      "text/plain": [
       "<IPython.core.display.HTML object>"
      ]
     },
     "metadata": {},
     "output_type": "display_data"
    },
    {
     "data": {
      "text/html": [
       "Run data is saved locally in <code>/lockard_ai/works/PEFT/Financial-Information-AI-Search-Algorithm-Competition/wandb/run-20240821_170811-c6pclriq</code>"
      ],
      "text/plain": [
       "<IPython.core.display.HTML object>"
      ]
     },
     "metadata": {},
     "output_type": "display_data"
    },
    {
     "data": {
      "text/html": [
       "Syncing run <strong><a href='https://wandb.ai/drtkdldjstm-secudaim/huggingface/runs/c6pclriq' target=\"_blank\">finance_gemma2-9b-it_20240822_v2</a></strong> to <a href='https://wandb.ai/drtkdldjstm-secudaim/huggingface' target=\"_blank\">Weights & Biases</a> (<a href='https://wandb.me/run' target=\"_blank\">docs</a>)<br/>"
      ],
      "text/plain": [
       "<IPython.core.display.HTML object>"
      ]
     },
     "metadata": {},
     "output_type": "display_data"
    },
    {
     "data": {
      "text/html": [
       " View project at <a href='https://wandb.ai/drtkdldjstm-secudaim/huggingface' target=\"_blank\">https://wandb.ai/drtkdldjstm-secudaim/huggingface</a>"
      ],
      "text/plain": [
       "<IPython.core.display.HTML object>"
      ]
     },
     "metadata": {},
     "output_type": "display_data"
    },
    {
     "data": {
      "text/html": [
       " View run at <a href='https://wandb.ai/drtkdldjstm-secudaim/huggingface/runs/c6pclriq' target=\"_blank\">https://wandb.ai/drtkdldjstm-secudaim/huggingface/runs/c6pclriq</a>"
      ],
      "text/plain": [
       "<IPython.core.display.HTML object>"
      ]
     },
     "metadata": {},
     "output_type": "display_data"
    },
    {
     "data": {
      "text/html": [
       "\n",
       "    <div>\n",
       "      \n",
       "      <progress value='3000' max='3000' style='width:300px; height:20px; vertical-align: middle;'></progress>\n",
       "      [3000/3000 1:42:55, Epoch 24/25]\n",
       "    </div>\n",
       "    <table border=\"1\" class=\"dataframe\">\n",
       "  <thead>\n",
       " <tr style=\"text-align: left;\">\n",
       "      <th>Step</th>\n",
       "      <th>Training Loss</th>\n",
       "    </tr>\n",
       "  </thead>\n",
       "  <tbody>\n",
       "    <tr>\n",
       "      <td>100</td>\n",
       "      <td>2.320600</td>\n",
       "    </tr>\n",
       "    <tr>\n",
       "      <td>200</td>\n",
       "      <td>1.081100</td>\n",
       "    </tr>\n",
       "    <tr>\n",
       "      <td>300</td>\n",
       "      <td>0.777200</td>\n",
       "    </tr>\n",
       "    <tr>\n",
       "      <td>400</td>\n",
       "      <td>0.542700</td>\n",
       "    </tr>\n",
       "    <tr>\n",
       "      <td>500</td>\n",
       "      <td>0.393100</td>\n",
       "    </tr>\n",
       "    <tr>\n",
       "      <td>600</td>\n",
       "      <td>0.291900</td>\n",
       "    </tr>\n",
       "    <tr>\n",
       "      <td>700</td>\n",
       "      <td>0.243500</td>\n",
       "    </tr>\n",
       "    <tr>\n",
       "      <td>800</td>\n",
       "      <td>0.214600</td>\n",
       "    </tr>\n",
       "    <tr>\n",
       "      <td>900</td>\n",
       "      <td>0.182200</td>\n",
       "    </tr>\n",
       "    <tr>\n",
       "      <td>1000</td>\n",
       "      <td>0.172700</td>\n",
       "    </tr>\n",
       "    <tr>\n",
       "      <td>1100</td>\n",
       "      <td>0.150000</td>\n",
       "    </tr>\n",
       "    <tr>\n",
       "      <td>1200</td>\n",
       "      <td>0.140000</td>\n",
       "    </tr>\n",
       "    <tr>\n",
       "      <td>1300</td>\n",
       "      <td>0.139200</td>\n",
       "    </tr>\n",
       "    <tr>\n",
       "      <td>1400</td>\n",
       "      <td>0.132500</td>\n",
       "    </tr>\n",
       "    <tr>\n",
       "      <td>1500</td>\n",
       "      <td>0.123400</td>\n",
       "    </tr>\n",
       "    <tr>\n",
       "      <td>1600</td>\n",
       "      <td>0.114400</td>\n",
       "    </tr>\n",
       "    <tr>\n",
       "      <td>1700</td>\n",
       "      <td>0.107200</td>\n",
       "    </tr>\n",
       "    <tr>\n",
       "      <td>1800</td>\n",
       "      <td>0.106300</td>\n",
       "    </tr>\n",
       "    <tr>\n",
       "      <td>1900</td>\n",
       "      <td>0.099900</td>\n",
       "    </tr>\n",
       "    <tr>\n",
       "      <td>2000</td>\n",
       "      <td>0.099500</td>\n",
       "    </tr>\n",
       "    <tr>\n",
       "      <td>2100</td>\n",
       "      <td>0.099000</td>\n",
       "    </tr>\n",
       "    <tr>\n",
       "      <td>2200</td>\n",
       "      <td>0.095900</td>\n",
       "    </tr>\n",
       "    <tr>\n",
       "      <td>2300</td>\n",
       "      <td>0.094900</td>\n",
       "    </tr>\n",
       "    <tr>\n",
       "      <td>2400</td>\n",
       "      <td>0.097000</td>\n",
       "    </tr>\n",
       "    <tr>\n",
       "      <td>2500</td>\n",
       "      <td>0.095000</td>\n",
       "    </tr>\n",
       "    <tr>\n",
       "      <td>2600</td>\n",
       "      <td>0.095200</td>\n",
       "    </tr>\n",
       "    <tr>\n",
       "      <td>2700</td>\n",
       "      <td>0.093400</td>\n",
       "    </tr>\n",
       "    <tr>\n",
       "      <td>2800</td>\n",
       "      <td>0.095300</td>\n",
       "    </tr>\n",
       "    <tr>\n",
       "      <td>2900</td>\n",
       "      <td>0.092200</td>\n",
       "    </tr>\n",
       "    <tr>\n",
       "      <td>3000</td>\n",
       "      <td>0.093900</td>\n",
       "    </tr>\n",
       "  </tbody>\n",
       "</table><p>"
      ],
      "text/plain": [
       "<IPython.core.display.HTML object>"
      ]
     },
     "metadata": {},
     "output_type": "display_data"
    },
    {
     "name": "stderr",
     "output_type": "stream",
     "text": [
      "/lockard_ai/works/PEFT/venv_peft/lib/python3.8/site-packages/peft/tuners/lora/bnb.py:272: UserWarning: Merge lora module to 4-bit linear may get different generations due to rounding errors.\n",
      "  warnings.warn(\n"
     ]
    }
   ],
   "source": [
    "model, tokenizer = train_model_SFT(model_id='google/gemma-2-9b-it', \n",
    "                                   train_dataset=dataset_dict['train'], \n",
    "                                   model_save_path='finance_gemma2-9b-it_20240822_v2')"
   ]
  },
  {
   "cell_type": "code",
   "execution_count": null,
   "id": "4320b700",
   "metadata": {},
   "outputs": [],
   "source": []
  },
  {
   "cell_type": "code",
   "execution_count": null,
   "id": "cf954f9e",
   "metadata": {},
   "outputs": [],
   "source": []
  },
  {
   "cell_type": "markdown",
   "id": "59ee6940",
   "metadata": {},
   "source": [
    "## Model Import"
   ]
  },
  {
   "cell_type": "code",
   "execution_count": 8,
   "id": "990916ae",
   "metadata": {},
   "outputs": [
    {
     "name": "stderr",
     "output_type": "stream",
     "text": [
      "The argument `trust_remote_code` is to be used with Auto classes. It has no effect here and is ignored.\n",
      "Unused kwargs: ['_load_in_4bit', '_load_in_8bit', 'quant_method']. These kwargs are not used in <class 'transformers.utils.quantization_config.BitsAndBytesConfig'>.\n",
      "/lockard_ai/works/PEFT/venv_peft/lib/python3.8/site-packages/transformers/quantizers/auto.py:174: UserWarning: You passed `quantization_config` or equivalent parameters to `from_pretrained` but the model you're loading already has a `quantization_config` attribute. The `quantization_config` from the model will be used.\n",
      "  warnings.warn(warning_msg)\n",
      "Loading checkpoint shards: 100%|██████████| 2/2 [00:03<00:00,  1.67s/it]\n",
      "/lockard_ai/works/PEFT/venv_peft/lib/python3.8/site-packages/langchain_core/_api/deprecation.py:141: LangChainDeprecationWarning: The class `HuggingFacePipeline` was deprecated in LangChain 0.0.37 and will be removed in 0.3. An updated version of the class exists in the langchain-huggingface package and should be used instead. To use it run `pip install -U langchain-huggingface` and import as `from langchain_huggingface import HuggingFacePipeline`.\n",
      "  warn_deprecated(\n"
     ]
    }
   ],
   "source": [
    "def setup_llm_pipeline():\n",
    "    # 4비트 양자화 설정\n",
    "    bnb_config = BitsAndBytesConfig(\n",
    "        load_in_4bit=True,\n",
    "        bnb_4bit_use_double_quant=True,\n",
    "        bnb_4bit_quant_type=\"nf4\",\n",
    "        bnb_4bit_compute_dtype=torch.bfloat16\n",
    "    )\n",
    "\n",
    "    # 모델 ID google/gemma-2-9b-it\n",
    "    base_model = \"google/gemma-2-9b-it\"\n",
    "    model_id = \"finance_gemma2-9b-it_20240822_v2\"\n",
    "\n",
    "    # 토크나이저 로드 및 설정\n",
    "    tokenizer = AutoTokenizer.from_pretrained(base_model)\n",
    "    tokenizer.use_default_system_prompt = False\n",
    "\n",
    "    # 모델 로드 및 양자화 설정 적용\n",
    "    model = Gemma2ForCausalLM.from_pretrained(\n",
    "        model_id,\n",
    "        quantization_config=bnb_config,\n",
    "        device_map=\"auto\",\n",
    "        trust_remote_code=True )\n",
    "\n",
    "    # HuggingFacePipeline 객체 생성\n",
    "    text_generation_pipeline = pipeline(\n",
    "        model=model,\n",
    "        tokenizer=tokenizer,\n",
    "        task=\"text-generation\",\n",
    "        #temperature=0.2,\n",
    "        return_full_text=False,\n",
    "        max_new_tokens=128,\n",
    "    )\n",
    "    \n",
    "    hf = HuggingFacePipeline(pipeline=text_generation_pipeline)\n",
    "\n",
    "    return hf\n",
    "\n",
    "# LLM 파이프라인\n",
    "llm = setup_llm_pipeline()"
   ]
  },
  {
   "cell_type": "code",
   "execution_count": 10,
   "id": "b1b7d1ca",
   "metadata": {},
   "outputs": [
    {
     "name": "stdout",
     "output_type": "stream",
     "text": [
      "pdf_databases has been loaded from pdf_databases.pkl\n"
     ]
    }
   ],
   "source": [
    "# pdf_databases = process_pdfs_from_dataframe(test_df, base_directory)\n",
    "\n",
    "# # Save the pdf_databases dictionary to a file\n",
    "# with open('pdf_databases_test.pkl', 'wb') as f:\n",
    "#     pickle.dump(pdf_databases, f)\n",
    "#     print(\"pdf_databases has been saved to pdf_databases.pkl\")\n",
    "\n",
    "# Later, load the pdf_databases dictionary from the file\n",
    "with open('pdf_databases_test.pkl', 'rb') as f:\n",
    "    pdf_databases = pickle.load(f)\n",
    "    print(\"pdf_databases has been loaded from pdf_databases.pkl\")"
   ]
  },
  {
   "cell_type": "markdown",
   "id": "b445848f",
   "metadata": {},
   "source": [
    "## Langchain을 이용한 추론"
   ]
  },
  {
   "cell_type": "code",
   "execution_count": 11,
   "id": "58e88577",
   "metadata": {},
   "outputs": [
    {
     "name": "stderr",
     "output_type": "stream",
     "text": [
      "\r",
      "Answering Questions:   0%|          | 0/98 [00:00<?, ?it/s]"
     ]
    },
    {
     "name": "stdout",
     "output_type": "stream",
     "text": [
      "Question: 2022년 혁신창업사업화자금(융자)의 예산은 얼마인가요?\n"
     ]
    },
    {
     "name": "stderr",
     "output_type": "stream",
     "text": [
      "\r",
      "Answering Questions:   1%|          | 1/98 [00:03<06:17,  3.90s/it]"
     ]
    },
    {
     "name": "stdout",
     "output_type": "stream",
     "text": [
      "Answer: 2,300,000백만원\n",
      "\n",
      "Question: 중소벤처기업부의 혁신창업사업화자금(융자) 사업목적은 무엇인가요?\n"
     ]
    },
    {
     "name": "stderr",
     "output_type": "stream",
     "text": [
      "\r",
      "Answering Questions:   2%|▏         | 2/98 [00:17<15:39,  9.79s/it]"
     ]
    },
    {
     "name": "stdout",
     "output_type": "stream",
     "text": [
      "Answer: ㅇ (창업기반지원) 기술력과 사업성이 우수하고 미래 성장가능성이 높은 중소벤처기업의 창업을 활성화하고 고용창출 도모\n",
      "    ㅇ (개발기술사업화) 중소기업이 보유한 우수 기술의 사장을 방지하고 개발기술의 제품화·사업화를 촉진하여 기술기반 중소기업을 육성\n",
      "\n",
      "Question: 중소벤처기업부의 혁신창업사업화자금(융자) 사업근거는 어떤 법률에 근거하고 있나요?\n"
     ]
    },
    {
     "name": "stderr",
     "output_type": "stream",
     "text": [
      "\r",
      "Answering Questions:   3%|▎         | 3/98 [00:21<11:21,  7.17s/it]"
     ]
    },
    {
     "name": "stdout",
     "output_type": "stream",
     "text": [
      "Answer: 중소기업진흥에 관한 법률 제66조, 제67조, 제74조\n",
      "\n",
      "Question: 2010년에 신규 지원된 혁신창업사업화자금은 무엇인가요?\n"
     ]
    },
    {
     "name": "stderr",
     "output_type": "stream",
     "text": [
      "\r",
      "Answering Questions:   4%|▍         | 4/98 [00:25<08:50,  5.65s/it]"
     ]
    },
    {
     "name": "stdout",
     "output_type": "stream",
     "text": [
      "Answer: 재창업자금(실패 경영인에 대한 재기지원)\n",
      "\n",
      "Question: 혁신창업사업화자금 중 2020년에 신규 지원된 자금은 무엇인가요?\n"
     ]
    },
    {
     "name": "stderr",
     "output_type": "stream",
     "text": [
      "\r",
      "Answering Questions:   5%|▌         | 5/98 [00:28<07:14,  4.67s/it]"
     ]
    },
    {
     "name": "stdout",
     "output_type": "stream",
     "text": [
      "Answer: 미래기술육성자금, 고성장촉진자금\n",
      "\n",
      "Question: 재창업자금이 재도약지원자금으로 이관된 연도는 언제인가요?\n"
     ]
    },
    {
     "name": "stderr",
     "output_type": "stream",
     "text": [
      "\r",
      "Answering Questions:   6%|▌         | 6/98 [00:29<05:35,  3.64s/it]"
     ]
    },
    {
     "name": "stdout",
     "output_type": "stream",
     "text": [
      "Answer: 2015년\n",
      "\n",
      "Question: 창업기반지원과 신청 대상이 중복인 자금이 어떤 것이며, 이 자금이 폐지된 연도는 언제인가요?\n"
     ]
    },
    {
     "name": "stderr",
     "output_type": "stream",
     "text": [
      "\r",
      "Answering Questions:   7%|▋         | 7/98 [00:36<06:57,  4.59s/it]"
     ]
    },
    {
     "name": "stdout",
     "output_type": "stream",
     "text": [
      "Answer: 창업기반지원과 신청 대상이 중복인 자금은 일자리창출촉진자금이며, 이 자금은 2023년에 폐지되었습니다.\n",
      "\n",
      "Question: 혁신창업사업화자금(융자) 사업을 시행하는 주체는 누구인가요?\n"
     ]
    },
    {
     "name": "stderr",
     "output_type": "stream",
     "text": [
      "\r",
      "Answering Questions:   8%|▊         | 8/98 [00:38<05:46,  3.85s/it]"
     ]
    },
    {
     "name": "stdout",
     "output_type": "stream",
     "text": [
      "Answer: 중소벤처기업진흥공단\n",
      "\n",
      "Question: 혁신창업사업화자금(융자) 사업 집행절차는 어떻게 되나요?\n"
     ]
    },
    {
     "name": "stderr",
     "output_type": "stream",
     "text": [
      "\r",
      "Answering Questions:   9%|▉         | 9/98 [00:53<10:43,  7.23s/it]"
     ]
    },
    {
     "name": "stdout",
     "output_type": "stream",
     "text": [
      "Answer: 사업계획수립/공고(중기부, 중진공) → 사전상담 및 신청‧접수(중소기업 →중진공) → 서류 및 현장실사(중진공 →중소기업) ⇩ 융자 실행(중진공, 은행 →중소기업) ⇦ 지원결정통보(중진공 →중소기업) ⇦ 평가 및 승인(중진공 →중소기업)\n",
      "\n",
      "Question: 부모급여 지원 사업의 목적은 무엇인가요?\n"
     ]
    },
    {
     "name": "stderr",
     "output_type": "stream",
     "text": [
      "Answering Questions:  10%|█         | 10/98 [01:00<10:48,  7.37s/it]You seem to be using the pipelines sequentially on GPU. In order to maximize efficiency please use a dataset\n"
     ]
    },
    {
     "name": "stdout",
     "output_type": "stream",
     "text": [
      "Answer: 출산 및 양육으로 손실되는 소득을 보전하고, 주 양육자의 직접돌봄이 중요한 아동발달의 특성에 따라 영아기 돌봄을 두텁게 지원하기 위해 부모급여 지급\n",
      "\n",
      "Question: 부모급여(영아수당)의 2024년 확정된 예산은 몇백만원인가요?\n"
     ]
    },
    {
     "name": "stderr",
     "output_type": "stream",
     "text": [
      "\r",
      "Answering Questions:  11%|█         | 11/98 [01:03<08:32,  5.89s/it]"
     ]
    },
    {
     "name": "stdout",
     "output_type": "stream",
     "text": [
      "Answer: 2,888,694백만원\n",
      "\n",
      "Question: 부모급여 지원 사업은 어떤 법령상 근거를 갖고 추진되고 있나요?\n"
     ]
    },
    {
     "name": "stderr",
     "output_type": "stream",
     "text": [
      "\r",
      "Answering Questions:  12%|█▏        | 12/98 [01:05<06:53,  4.81s/it]"
     ]
    },
    {
     "name": "stdout",
     "output_type": "stream",
     "text": [
      "Answer: 아동수당법 제4조제5항\n",
      "\n",
      "Question: 영아수당 도입에 대한 추진경위는 어떻게 되나요?\n"
     ]
    },
    {
     "name": "stderr",
     "output_type": "stream",
     "text": [
      "\r",
      "Answering Questions:  13%|█▎        | 13/98 [01:22<11:45,  8.30s/it]"
     ]
    },
    {
     "name": "stdout",
     "output_type": "stream",
     "text": [
      "Answer: 영아수당 도입은 '제4차 저출산·고령사회 기본계획'의 5대 핵심과제 중 하나로, '20년 12월에 결정되었습니다. 예비타당성 조사를 통해 가능성을 확인한 후, '21년 8월에 예비타당성 조사가 통과하고, '21년 12월에 근거법이 마련되었습니다. 이에 따라 '22년 1월부터 영아수당 지원사업이 시행되었습니다.\n",
      "\n",
      "Question: 부모급여 지원사업은 언제부터 시행되었나요?\n"
     ]
    },
    {
     "name": "stderr",
     "output_type": "stream",
     "text": [
      "\r",
      "Answering Questions:  14%|█▍        | 14/98 [01:25<09:42,  6.94s/it]"
     ]
    },
    {
     "name": "stdout",
     "output_type": "stream",
     "text": [
      "Answer: 부모급여 지원사업은 2023년 1월부터 시행되었습니다.\n",
      "\n",
      "Question: 보건복지부의 부모급여(영아수당) 지원 사업시행방법은 무엇이며, 사업 수혜자는 누구인가?\n"
     ]
    },
    {
     "name": "stderr",
     "output_type": "stream",
     "text": [
      "\r",
      "Answering Questions:  15%|█▌        | 15/98 [01:32<09:22,  6.78s/it]"
     ]
    },
    {
     "name": "stdout",
     "output_type": "stream",
     "text": [
      "Answer: 보건복지부의 부모급여(영아수당) 지원 사업시행방법은 지자체 보조이며, 사업 수혜자는 만 0~1세 아동이다.\n",
      "\n",
      "Question: 노인장기요양보험 사업 운영에 대한 목적은 무엇인가요?\n"
     ]
    },
    {
     "name": "stderr",
     "output_type": "stream",
     "text": [
      "\r",
      "Answering Questions:  16%|█▋        | 16/98 [01:47<12:37,  9.24s/it]"
     ]
    },
    {
     "name": "stdout",
     "output_type": "stream",
     "text": [
      "Answer: 노인장기요양보험 사업 운영의 목적은 고령이나 노인성 질병으로 일상생활을 혼자서 수행하기 어려운 노인 등에게 신체 또는 가사 활동 등을 제공하는 노인장기요양보험에 국고 지원을하여, 효율적인 정책추진으로 노후의 건강증진 및 생활 안정을 도모하고 가족의 부담을 완화하여 국민 삶의 질을 향상하는 것입니다.\n",
      "\n",
      "Question: 노인장기요양보험 운영지원에 대한 사업 내용을 설명해줘.\n"
     ]
    },
    {
     "name": "stderr",
     "output_type": "stream",
     "text": [
      "\r",
      "Answering Questions:  17%|█▋        | 17/98 [01:58<13:16,  9.83s/it]"
     ]
    },
    {
     "name": "stdout",
     "output_type": "stream",
     "text": [
      "Answer: 노인장기요양보험 운영지원 사업은 「노인장기요양보험법」제58조에 따라 국가가 공단에 장기요양보험료 예상수입액의 20% 상당 금액을 지원하는 사업으로, 노인장기요양보험의 효율적인 운영에 기여한다.\n",
      "\n",
      "Question: 국고지원을 받는 기타 의료급여수급권자는 누구인가요?\n"
     ]
    },
    {
     "name": "stderr",
     "output_type": "stream",
     "text": [
      "\r",
      "Answering Questions:  18%|█▊        | 18/98 [02:04<11:23,  8.55s/it]"
     ]
    },
    {
     "name": "stdout",
     "output_type": "stream",
     "text": [
      "Answer: 이재민, 의사상자, 국가유공자, 입양아동, 국가무형문화재보유자, 북한이탈주민 등\n",
      "\n",
      "Question: 장기요양보험가입자 및 피부양자의 자격취득과 관련하여 어떤 법률을 준용해야 하는가?\n"
     ]
    },
    {
     "name": "stderr",
     "output_type": "stream",
     "text": [
      "\r",
      "Answering Questions:  19%|█▉        | 19/98 [02:20<14:20, 10.89s/it]"
     ]
    },
    {
     "name": "stdout",
     "output_type": "stream",
     "text": [
      "Answer: 노인장기요양보험법 제11조(장기요양보험가입 자격 등에 관한 준용)에 의하여 「국민건강보험법」제5조, 제6조, 제8조부터 제11조까지, 제69조제1항부터 제3항까지, 제76조부터 제86조까지 및 제110조는 장기요양보험가입자·피부양자의 자격취득·상실, 장기요양보험료 등의 납부·징\n",
      "\n",
      "Question: 노인장기요양보험법이 언제 제정되고 공포되었나?\n"
     ]
    },
    {
     "name": "stderr",
     "output_type": "stream",
     "text": [
      "\r",
      "Answering Questions:  20%|██        | 20/98 [02:25<11:47,  9.07s/it]"
     ]
    },
    {
     "name": "stdout",
     "output_type": "stream",
     "text": [
      "Answer: 노인장기요양보험법은 2007년 4월에 제정되고 공포되었다.\n",
      "\n",
      "Question: 장기요양인정점수 완화가 언제 이루어졌으며, 어떤 변화가 있었나?\n"
     ]
    },
    {
     "name": "stderr",
     "output_type": "stream",
     "text": [
      "\r",
      "Answering Questions:  21%|██▏       | 21/98 [02:41<14:32, 11.33s/it]"
     ]
    },
    {
     "name": "stdout",
     "output_type": "stream",
     "text": [
      "Answer: 장기요양인정점수 완화는 2012년 7월과 2013년 7월에 이루어졌습니다. 2012년 7월에는 3등급 인정점수가 (기존) 55~75점에서 (개선) 53점~75점으로 완화되었고, 2013년 7월에는 3등급 인정점수가 (기존) 53~75점에서 (개선) 51~75점\n",
      "\n",
      "Question: 장기요양기관 지정갱신제의 법적 근거가 언제 마련되었는가?\n"
     ]
    },
    {
     "name": "stderr",
     "output_type": "stream",
     "text": [
      "\r",
      "Answering Questions:  22%|██▏       | 22/98 [02:46<11:52,  9.38s/it]"
     ]
    },
    {
     "name": "stdout",
     "output_type": "stream",
     "text": [
      "Answer: 장기요양기관 지정갱신제의 법적 근거는 2018년 12월에 마련되었다.\n",
      "\n",
      "Question: 22.10월에 요양보호사 1명당 시설수급자 인력배치기준이 개선된 내용은 무엇인가?\n"
     ]
    },
    {
     "name": "stderr",
     "output_type": "stream",
     "text": [
      "\r",
      "Answering Questions:  23%|██▎       | 23/98 [02:51<09:59,  7.99s/it]"
     ]
    },
    {
     "name": "stdout",
     "output_type": "stream",
     "text": [
      "Answer: 요양보호사 1명당 시설수급자 2.5명에서 2.3명으로 개선되었다.\n",
      "\n",
      "Question: 에너지 바우처 제도의 주요 내용은 무엇인가요?\n"
     ]
    },
    {
     "name": "stderr",
     "output_type": "stream",
     "text": [
      "\r",
      "Answering Questions:  24%|██▍       | 24/98 [03:02<10:59,  8.92s/it]"
     ]
    },
    {
     "name": "stdout",
     "output_type": "stream",
     "text": [
      "Answer: 에너지 바우처는 에너지 소비가 어려운 계층을 위해 에너지 사용에 필요한 비용을 지원하는 제도입니다. 이 제도는 2015년에 에너지바우처 법적 근거 마련을 위한 에너지법ㆍ에특회계법 일부 개정 및 시행으로 시작되었습니다.\n",
      "\n",
      "Question: 에너지바우처 사업의 주요 수혜자는 누구인가요?\n"
     ]
    },
    {
     "name": "stderr",
     "output_type": "stream",
     "text": [
      "\r",
      "Answering Questions:  26%|██▌       | 25/98 [03:10<10:21,  8.51s/it]"
     ]
    },
    {
     "name": "stdout",
     "output_type": "stream",
     "text": [
      "Answer: 에너지바우처 사업의 주요 수혜자는 에너지 소외계층, 특히 중증 및 희귀난치성질환자, 한부모가정, 소년소녀가정 등이 있습니다.\n",
      "\n",
      "Question: 2024년 에너지바우처 사업의 사업시행주체는 무엇인가요?\n"
     ]
    },
    {
     "name": "stderr",
     "output_type": "stream",
     "text": [
      "\r",
      "Answering Questions:  27%|██▋       | 26/98 [03:14<08:42,  7.25s/it]"
     ]
    },
    {
     "name": "stdout",
     "output_type": "stream",
     "text": [
      "Answer: 사업시행주체는 한국에너지공단과 한국광해광업공단입니다.\n",
      "\n",
      "Question: 하절기바우처와 동절기바우처의 2024년 예산 규모는 각각 얼마인가요?\n"
     ]
    },
    {
     "name": "stderr",
     "output_type": "stream",
     "text": [
      "\r",
      "Answering Questions:  28%|██▊       | 27/98 [03:20<08:04,  6.82s/it]"
     ]
    },
    {
     "name": "stdout",
     "output_type": "stream",
     "text": [
      "Answer: 하절기바우처는 47,143백만원, 동절기바우처는 156,267백만원입니다.\n",
      "\n",
      "Question: 2023년 에너지바우처 사업 예산에서 사업운영비 중 에너지복지 홍보에 얼마가 할당되었나요?\n"
     ]
    },
    {
     "name": "stderr",
     "output_type": "stream",
     "text": [
      "\r",
      "Answering Questions:  29%|██▊       | 28/98 [03:24<07:09,  6.13s/it]"
     ]
    },
    {
     "name": "stdout",
     "output_type": "stream",
     "text": [
      "Answer: 사업운영비 중 에너지복지 홍보에 328백만원이 할당되었습니다.\n",
      "\n",
      "Question: 2023년 에너지바우처 사업 예산에서 사업운영비 중 시스템 고도화에 얼마가 할당되었나요?\n"
     ]
    },
    {
     "name": "stderr",
     "output_type": "stream",
     "text": [
      "\r",
      "Answering Questions:  30%|██▉       | 29/98 [03:28<06:22,  5.54s/it]"
     ]
    },
    {
     "name": "stdout",
     "output_type": "stream",
     "text": [
      "Answer: 사업운영비 중 시스템 고도화에 705백만원이 할당되었습니다.\n",
      "\n",
      "Question: 2023년 에너지바우처 사업 예산에서 콜센터 운영에 얼마가 할당되었나요?\n"
     ]
    },
    {
     "name": "stderr",
     "output_type": "stream",
     "text": [
      "\r",
      "Answering Questions:  31%|███       | 30/98 [03:34<06:11,  5.46s/it]"
     ]
    },
    {
     "name": "stdout",
     "output_type": "stream",
     "text": [
      "Answer: 2023년 에너지바우처 사업 예산에서 콜센터 운영에 280백만원이 할당되었습니다.\n",
      "\n",
      "Question: 2023년 에너지바우처 사업 예산에서 패널조사에 얼마가 할당되었나요?\n"
     ]
    },
    {
     "name": "stderr",
     "output_type": "stream",
     "text": [
      "\r",
      "Answering Questions:  32%|███▏      | 31/98 [03:37<05:26,  4.88s/it]"
     ]
    },
    {
     "name": "stdout",
     "output_type": "stream",
     "text": [
      "Answer: 패널조사에 133.5백만원이 할당되었습니다.\n",
      "\n",
      "Question: 2023년 에너지바우처 사업 예산에서 에너지바우처 전달체계 구축에 얼마가 할당되었나요?\n"
     ]
    },
    {
     "name": "stderr",
     "output_type": "stream",
     "text": [
      "\r",
      "Answering Questions:  33%|███▎      | 32/98 [03:42<05:11,  4.72s/it]"
     ]
    },
    {
     "name": "stdout",
     "output_type": "stream",
     "text": [
      "Answer: 에너지바우처 전달체계 구축에 37.5백만원이 할당되었습니다.\n",
      "\n",
      "Question: 2023년 에너지바우처 사업 예산에서 주택관리공단 운영지원에 얼마가 할당되었나요?\n"
     ]
    },
    {
     "name": "stderr",
     "output_type": "stream",
     "text": [
      "\r",
      "Answering Questions:  34%|███▎      | 33/98 [03:47<05:26,  5.02s/it]"
     ]
    },
    {
     "name": "stdout",
     "output_type": "stream",
     "text": [
      "Answer: 2023년 에너지바우처 사업 예산에서 주택관리공단 운영지원에 50백만원이 할당되었습니다.\n",
      "\n",
      "Question: 에너지바우처 사업의 향후 기대효과는 무엇인가요?\n"
     ]
    },
    {
     "name": "stderr",
     "output_type": "stream",
     "text": [
      "\r",
      "Answering Questions:  35%|███▍      | 34/98 [03:52<05:20,  5.01s/it]"
     ]
    },
    {
     "name": "stdout",
     "output_type": "stream",
     "text": [
      "Answer: 에너지바우처 사업은 에너지 소비 촉진 및 경제 활성화에 기여할 것으로 기대됩니다.\n",
      "\n",
      "Question: 에너지바우처 사업에 대한 예비타당성조사를 어떤 조사기관이 수행했나요?\n"
     ]
    },
    {
     "name": "stderr",
     "output_type": "stream",
     "text": [
      "\r",
      "Answering Questions:  36%|███▌      | 35/98 [03:55<04:40,  4.45s/it]"
     ]
    },
    {
     "name": "stdout",
     "output_type": "stream",
     "text": [
      "Answer: KDI(한국개발연구원 공공투자관리센터)\n",
      "\n",
      "Question: 21년 국정감사에서 에너지 바우처 사업에 대한 주요 지적사항은 무엇이었나요?\n"
     ]
    },
    {
     "name": "stderr",
     "output_type": "stream",
     "text": [
      "\r",
      "Answering Questions:  37%|███▋      | 36/98 [04:01<05:04,  4.92s/it]"
     ]
    },
    {
     "name": "stdout",
     "output_type": "stream",
     "text": [
      "Answer: 저소득층의 폭염 피해 최소화를 위해 동절기 에너지바우처 일부를 하절기에 사용할 수 있도록 제도 개선할 것\n",
      "\n",
      "Question: 21년 에너지바우처 사업에 대한 결산 지적사항은 무엇이었나요?\n"
     ]
    },
    {
     "name": "stderr",
     "output_type": "stream",
     "text": [
      "\r",
      "Answering Questions:  38%|███▊      | 37/98 [04:10<06:08,  6.05s/it]"
     ]
    },
    {
     "name": "stdout",
     "output_type": "stream",
     "text": [
      "Answer: 수급자 변경 등으로 예산부족이 발생하지 않도록 급여 선정기준 등의 변경계획 등에 대하여 보건복지부·지자체와 면밀히 소통하여 예산을 편성하고 사업을 추진해야 한다.\n",
      "\n",
      "Question: 에너지 바우처 사업의 향후 추진방향 중 '취약계층의 에너지 비용 부담 완화'를 위한 계획은 무엇이었나요?\n"
     ]
    },
    {
     "name": "stderr",
     "output_type": "stream",
     "text": [
      "\r",
      "Answering Questions:  39%|███▉      | 38/98 [04:19<06:59,  7.00s/it]"
     ]
    },
    {
     "name": "stdout",
     "output_type": "stream",
     "text": [
      "Answer: 취약계층의 에너지 비용 부담을 완화하기 위해 동절기 에너지바우처 지원단가를 14.5만원으로 인상하고, 한시적 어려움을 겪는 계층을 위해 추가 지원을 실시할 계획이었습니다.\n",
      "\n",
      "Question: 행복주택출자 사업은 어떤 근거로 추진되고 있는가?\n"
     ]
    },
    {
     "name": "stderr",
     "output_type": "stream",
     "text": [
      "\r",
      "Answering Questions:  40%|███▉      | 39/98 [04:22<05:41,  5.79s/it]"
     ]
    },
    {
     "name": "stdout",
     "output_type": "stream",
     "text": [
      "Answer: 주택도시기금법 제9조제1항가목\n",
      "\n",
      "Question: 행복주택출자 사업은 어떤 목적으로 시행되는가?\n"
     ]
    },
    {
     "name": "stderr",
     "output_type": "stream",
     "text": [
      "\r",
      "Answering Questions:  41%|████      | 40/98 [04:29<05:48,  6.01s/it]"
     ]
    },
    {
     "name": "stdout",
     "output_type": "stream",
     "text": [
      "Answer: 국민의 행복주거 실현을 위한 보편적 주거복지 정책의 일환으로 도심 내 다양한 부지를 활용하여 행복주택을 공급하기 위해.\n",
      "\n",
      "Question: 행복주택출자 사업의 주요 수혜자는 누구인가?\n"
     ]
    },
    {
     "name": "stderr",
     "output_type": "stream",
     "text": [
      "\r",
      "Answering Questions:  42%|████▏     | 41/98 [04:34<05:35,  5.89s/it]"
     ]
    },
    {
     "name": "stdout",
     "output_type": "stream",
     "text": [
      "Answer: 대학생・사회초년생・신혼부부 등 젊은층(80%), 고령자 및 주거취약계층(20%)\n",
      "\n",
      "Question: 행복주택출자 사업의 사업비 추이는 어떠한가?\n"
     ]
    },
    {
     "name": "stderr",
     "output_type": "stream",
     "text": [
      "\r",
      "Answering Questions:  43%|████▎     | 42/98 [04:45<06:44,  7.22s/it]"
     ]
    },
    {
     "name": "stdout",
     "output_type": "stream",
     "text": [
      "Answer: 사업비는 2022년 1,267,123백만원에서 2023년 1,105,291백만원으로 감소하고, 2024년에는 775,293백만원으로 더 감소하는 추세이다.\n",
      "\n",
      "Question: 행복주택출자 사업의 사업시행주체는 누구인가?\n"
     ]
    },
    {
     "name": "stderr",
     "output_type": "stream",
     "text": [
      "\r",
      "Answering Questions:  44%|████▍     | 43/98 [04:48<05:33,  6.06s/it]"
     ]
    },
    {
     "name": "stdout",
     "output_type": "stream",
     "text": [
      "Answer: 한국토지주택공사(LH), 지자체(지방공사)\n",
      "\n",
      "Question: 국고보조사업의 보조율은 어떠한 기준에 따라 운용되는가?\n"
     ]
    },
    {
     "name": "stderr",
     "output_type": "stream",
     "text": [
      "\r",
      "Answering Questions:  45%|████▍     | 44/98 [05:03<07:51,  8.73s/it]"
     ]
    },
    {
     "name": "stdout",
     "output_type": "stream",
     "text": [
      "Answer: 지방비부담을 수반하는 국고보조사업은 ‘지방비부담협의’와 ‘지방재정부담심의위원회’ 두 개의 제도가 연계되어 운영되며, 관리체계 측면에서는 ‘지방비부담협의’와 ‘지방재정부담심의위원회’를 통해 지방비 부담 협의 단계에서 재원분담의 실태와 영향을 구체적으로 파악해야 한다.\n",
      "\n",
      "Question: 프랑스의 재정조정제도에서 최근 강조되는 형평교부금은 어떤 역할을 하는가?\n"
     ]
    },
    {
     "name": "stderr",
     "output_type": "stream",
     "text": [
      "\r",
      "Answering Questions:  46%|████▌     | 45/98 [05:11<07:23,  8.37s/it]"
     ]
    },
    {
     "name": "stdout",
     "output_type": "stream",
     "text": [
      "Answer: 프랑스의 재정조정제도에서 최근 강조되는 형평교부금은 재정력이 강한 중앙정부가 재정력이 약한 지방정부에 차등 지원하는 역할을 한다.\n",
      "\n",
      "Question: 지방재정조정제도의 목적은 무엇인가?\n"
     ]
    },
    {
     "name": "stderr",
     "output_type": "stream",
     "text": [
      "\r",
      "Answering Questions:  47%|████▋     | 46/98 [05:21<07:45,  8.95s/it]"
     ]
    },
    {
     "name": "stdout",
     "output_type": "stream",
     "text": [
      "Answer: 지방자치단체 간 재정력 격차의 시정, 지역 간 외부 효과의 내부화를 통한 지방공공재 공급, 중앙정부의 위임사무에 대한 비용 부담 등을 목적으로 재정을 조정하는 일련의 조치를 의미한다.\n",
      "\n",
      "Question: 국제적으로 성과중심 재정관리 강화 움직임이 확산된 시기는 언제인가?\n"
     ]
    },
    {
     "name": "stderr",
     "output_type": "stream",
     "text": [
      "\r",
      "Answering Questions:  48%|████▊     | 47/98 [05:24<06:02,  7.10s/it]"
     ]
    },
    {
     "name": "stdout",
     "output_type": "stream",
     "text": [
      "Answer: 2000년대 후반 금융위기 이후\n",
      "\n",
      "\n",
      "Question: 한국의 재정사업 성과관리제도는 어떠한 법을 통해 운영되고 있으며, 성과관리 기본계획과 추진계획은 어떻게 의무화되었는가?\n"
     ]
    },
    {
     "name": "stderr",
     "output_type": "stream",
     "text": [
      "\r",
      "Answering Questions:  49%|████▉     | 48/98 [05:39<07:58,  9.58s/it]"
     ]
    },
    {
     "name": "stdout",
     "output_type": "stream",
     "text": [
      "Answer: 한국 재정사업 성과관리제도는 '07년 「국가재정법」 시행 이후 최소한의 법 조항으로 운영되어 오다, '21년 12월 법 개정을 통한 별도의 장(章) 신설로 개념 및 체계 명확화되었다. 또한 해당 법 개정으로 '성과관리 기본계획'(5개년) 및 '추진계획'(연간) 수립이 의무화되었다.\n",
      "\n",
      "Question: 핵심재정사업 성과관리제도를 안착시키기 위해 필요한 노력과 성과 정보를 학습의 도구로 활용하는 방안은 무엇인가?\n"
     ]
    },
    {
     "name": "stderr",
     "output_type": "stream",
     "text": [
      "\r",
      "Answering Questions:  50%|█████     | 49/98 [05:56<09:31, 11.67s/it]"
     ]
    },
    {
     "name": "stdout",
     "output_type": "stream",
     "text": [
      "Answer: 핵심재정사업 성과관리제도를 안착시키기 위해서는 부처별 성과지표를 현재의 절반 이하로 축소하여 형식적인 보고서 작성을 최소화하고, 성과목표관리 대상 사업을 확대하여 다양한 재정사업에 대한 성과관리를 수행해야 한다. 또한 성과 정보를 학습의 도구로 활용하기 위해서는 성과계획서 작성 시 성과목표를 달성하기 위한 프로그램목표와 프로그램목표의 달성을 통해 성과\n",
      "\n",
      "Question: 사회보험 사각지대 발생의 주요 원인과 이로 인해 발생하는 문제는 무엇인가요?\n"
     ]
    },
    {
     "name": "stderr",
     "output_type": "stream",
     "text": [
      "\r",
      "Answering Questions:  51%|█████     | 50/98 [06:12<10:26, 13.05s/it]"
     ]
    },
    {
     "name": "stdout",
     "output_type": "stream",
     "text": [
      "Answer: 사회보험 사각지대 발생의 주요 원인은 사업주의 비용절감과 보험 가입에 따른 근로자의 실질 가처분 소득 감소 등 현실적 이유로 고용 취약계층 및 소규모 사업장일수록 사회보험 가입이 저조하기 때문입니다. 이로 인해 고용 취약계층은 잦은 이직, 영세사업장의 빈번한 신생·소멸 등으로 소득단절 위험이 높아 사회보험 가입이 특히 중요\n",
      "\n",
      "Question: 청년일자리도약장려금은 어떤 대상을 지원하며, 어떤 방식으로 지원되는가?\n"
     ]
    },
    {
     "name": "stderr",
     "output_type": "stream",
     "text": [
      "\r",
      "Answering Questions:  52%|█████▏    | 51/98 [06:19<08:53, 11.34s/it]"
     ]
    },
    {
     "name": "stdout",
     "output_type": "stream",
     "text": [
      "Answer: 청년일자리도약장려금은 만 15~34세의 취업애로청년을 정규직으로 채용 후 6개월 고용유지하는 경우 최장 2년간 지원한다.\n",
      "\n",
      "Question: 수직적 재정조정제도와 수평적 재정조정제도의 차이는 무엇인가요?\n"
     ]
    },
    {
     "name": "stderr",
     "output_type": "stream",
     "text": [
      "\r",
      "Answering Questions:  53%|█████▎    | 52/98 [06:28<08:04, 10.54s/it]"
     ]
    },
    {
     "name": "stdout",
     "output_type": "stream",
     "text": [
      "Answer: 수직적 재정조정제도는 중앙정부와 지방정부 간에 재정을 재배분하는 제도이며, 수평적 재정조정제도는 지방정부 상호 간에 재정을 재배분하는 제도입니다.\n",
      "\n",
      "Question: 지방재정조정제도는 어떤 목적을 가지고 있나요?\n"
     ]
    },
    {
     "name": "stderr",
     "output_type": "stream",
     "text": [
      "\r",
      "Answering Questions:  54%|█████▍    | 53/98 [06:38<07:45, 10.33s/it]"
     ]
    },
    {
     "name": "stdout",
     "output_type": "stream",
     "text": [
      "Answer: 지방자치단체 간 재정력 격차의 시정, 지역 간 외부 효과의 내부화를 통한 지방공공재 공급, 중앙정부의 위임사무에 대한 비용 부담 등을 목적으로 재정을 조정하는 일련의 조치를 의미합니다.\n",
      "\n",
      "Question: 중앙-지방 간 재정조정제도에서 어떤 재원을 이전하여 수직적 재정 불균형을 해소하는가?\n"
     ]
    },
    {
     "name": "stderr",
     "output_type": "stream",
     "text": [
      "\r",
      "Answering Questions:  55%|█████▌    | 54/98 [06:44<06:40,  9.09s/it]"
     ]
    },
    {
     "name": "stdout",
     "output_type": "stream",
     "text": [
      "Answer: 지방교부세, 국고보조금, 조정교부금(자치구 조정교부금, 시·군 조정교부금) 재원을 이전함\n",
      "\n",
      "Question: 중앙정부의 예산편성은 어떤 재원 배분 문제를 결정하며, 중앙-지방 간 재정조정제도를 통해 어떤 재원을 이전하고, 이의 목적은 무엇인가?\n"
     ]
    },
    {
     "name": "stderr",
     "output_type": "stream",
     "text": [
      "\r",
      "Answering Questions:  56%|█████▌    | 55/98 [06:54<06:41,  9.34s/it]"
     ]
    },
    {
     "name": "stdout",
     "output_type": "stream",
     "text": [
      "Answer: 중앙정부의 예산편성은 민간과 공공 부문 사이의 재원 배분 문제를 결정하며, 지방교부세와 국고보조금을 이전하여 수직적 재정 불균형을 완화하고 재정 불이 sklad을 해소하는 것을 목적으로 한다.\n",
      "\n",
      "Question: 재정사업 성과관리제도의 필요성이 대두된 시기와 한국의 재정사업 성과관리제도가 어떤 법에 근거하여 운영되고 있는지 설명하시오.\n"
     ]
    },
    {
     "name": "stderr",
     "output_type": "stream",
     "text": [
      "\r",
      "Answering Questions:  57%|█████▋    | 56/98 [07:08<07:28, 10.69s/it]"
     ]
    },
    {
     "name": "stdout",
     "output_type": "stream",
     "text": [
      "Answer: 재정사업 성과관리제도의 필요성이 대두된 시기는 1990년대 이후이며, 한국의 재정사업 성과관리제도는 '07년 「국가재정법」 시행 이후 최소한의 법 조항으로 운영되어 오다, '21년 12월 법 개정을 통한 별도의 장(章) 신설로 개념 및 체계 명확화되었다.\n",
      "\n",
      "Question: 청년일자리도약장려금은 어떤 대상을 지원하며, 어떤 방식으로 지원되는가?\n"
     ]
    },
    {
     "name": "stderr",
     "output_type": "stream",
     "text": [
      "\r",
      "Answering Questions:  58%|█████▊    | 57/98 [07:15<06:37,  9.71s/it]"
     ]
    },
    {
     "name": "stdout",
     "output_type": "stream",
     "text": [
      "Answer: 청년일자리도약장려금은 만 15~34세의 취업애로청년을 정규직으로 채용 후 6개월 고용유지하는 경우 최장 2년간 지원한다.\n",
      "\n",
      "Question: 재정성과관리제도는 어떤 측면에서 국정운영과 연결되는가?\n"
     ]
    },
    {
     "name": "stderr",
     "output_type": "stream",
     "text": [
      "\r",
      "Answering Questions:  59%|█████▉    | 58/98 [07:21<05:48,  8.70s/it]"
     ]
    },
    {
     "name": "stdout",
     "output_type": "stream",
     "text": [
      "Answer: 재정성과관리제도는 전략목표와 우선순위를 중심으로 재정사업을 재구조화한다는 점에서 국정운영과 연결된다.\n",
      "\n",
      "Question: 성과관리의 실효성 강화를 위해 정부가 취한 조치는 무엇인가?\n"
     ]
    },
    {
     "name": "stderr",
     "output_type": "stream",
     "text": [
      "\r",
      "Answering Questions:  60%|██████    | 59/98 [07:27<05:01,  7.74s/it]"
     ]
    },
    {
     "name": "stdout",
     "output_type": "stream",
     "text": [
      "Answer: 정부는 평가표준을 국제수준으로 제정하고, 평가제도를 정비하여 실효성을 강화하고 있다.\n",
      "\n",
      "Question: 재정성과관리 관련 주요 쟁점은 무엇인가?\n"
     ]
    },
    {
     "name": "stderr",
     "output_type": "stream",
     "text": [
      "\r",
      "Answering Questions:  61%|██████    | 60/98 [07:34<04:46,  7.54s/it]"
     ]
    },
    {
     "name": "stdout",
     "output_type": "stream",
     "text": [
      "Answer: 재정성과관리 관련 주요 쟁점은 평가부담 완화, 사업성과평가의 예산편성 활용 확대, 성과관리 사각지대 해소 등이 있다.\n",
      "\n",
      "Question: 재정성과관리가 왜 중요한가?\n"
     ]
    },
    {
     "name": "stderr",
     "output_type": "stream",
     "text": [
      "\r",
      "Answering Questions:  62%|██████▏   | 61/98 [07:40<04:22,  7.11s/it]"
     ]
    },
    {
     "name": "stdout",
     "output_type": "stream",
     "text": [
      "Answer: 재정성과관리는 국가 재정의 투명성·책임성, 효율성·효과성, 예산재분배 등을 위해 중요하게 고려되는 요소입니다.\n",
      "\n",
      "Question: 재정성과관리는 무엇을 목표로 하는가?\n"
     ]
    },
    {
     "name": "stderr",
     "output_type": "stream",
     "text": [
      "\r",
      "Answering Questions:  63%|██████▎   | 62/98 [07:46<04:07,  6.86s/it]"
     ]
    },
    {
     "name": "stdout",
     "output_type": "stream",
     "text": [
      "Answer: 재정성과관리는 효율적 재정 운용을 뒷받침하고, 관련 정보를 국민에게 공개하여 책임성을 확보하는 것을 목표로 한다.\n",
      "\n",
      "Question: 어떤 국제기구들이 사업을 기준으로 예산을 나누어 성과 정보를 생산하고 있는가?\n"
     ]
    },
    {
     "name": "stderr",
     "output_type": "stream",
     "text": [
      "\r",
      "Answering Questions:  64%|██████▍   | 63/98 [07:50<03:30,  6.01s/it]"
     ]
    },
    {
     "name": "stdout",
     "output_type": "stream",
     "text": [
      "Answer: OECD, World Bank 등이 사업을 기준으로 예산을 나누어 성과 정보를 생산하고 있다.\n",
      "\n",
      "Question: 재정성과관리의 목적은 무엇인가?\n"
     ]
    },
    {
     "name": "stderr",
     "output_type": "stream",
     "text": [
      "\r",
      "Answering Questions:  65%|██████▌   | 64/98 [08:07<05:12,  9.20s/it]"
     ]
    },
    {
     "name": "stdout",
     "output_type": "stream",
     "text": [
      "Answer: 재정성과관리의 목적은 정부 재정의 투명성·책임성, 효율성·효과성, 예산재분배 등을 위해 사업 전략체계별 재원 배분, 성과목표와 달성도, 주요 수혜자에 대한 정보를 집약적으로 제공하여 투명성 및 책임성 향상, 연간 성과관리 결과 도출된 문제점 등을 사업 관리에 환류(managerial feedback)하여 사업 성과를 제고하고 효과성을 향상 등을 위해 수행됨\n",
      "\n",
      "Question: 2021년 「국가재정법」 개정으로 어떤 규정이 신설되었는가?\n"
     ]
    },
    {
     "name": "stderr",
     "output_type": "stream",
     "text": [
      "\r",
      "Answering Questions:  66%|██████▋   | 65/98 [08:15<04:50,  8.80s/it]"
     ]
    },
    {
     "name": "stdout",
     "output_type": "stream",
     "text": [
      "Answer: 2021년 「국가재정법」 개정으로, 동 법에 의한 재정사업 평가와 개별 법령에 따라 실시되는 평가 대상 중복을 최소화하는 규정이 신설되었습니다.\n",
      "\n",
      "Question: 성과관리제도는 지출 구조조정을 위해 어떤 방향으로 추진되고 있는가?\n"
     ]
    },
    {
     "name": "stderr",
     "output_type": "stream",
     "text": [
      "\r",
      "Answering Questions:  67%|██████▋   | 66/98 [08:23<04:36,  8.65s/it]"
     ]
    },
    {
     "name": "stdout",
     "output_type": "stream",
     "text": [
      "Answer: 성과관리제도는 지출 구조조정을 위해 사업별 성과의 목표달성도를 상대평가하여, 전체 사업의 하위 15%를 미흡 등급으로 배분하는 방향으로 추진되고 있다.\n",
      "\n",
      "Question: 재정사업 자율평가의 목적은 무엇이며, 어떤 방식으로 제도 개선이 이루어졌는가?\n"
     ]
    },
    {
     "name": "stderr",
     "output_type": "stream",
     "text": [
      "\r",
      "Answering Questions:  68%|██████▊   | 67/98 [08:31<04:20,  8.40s/it]"
     ]
    },
    {
     "name": "stdout",
     "output_type": "stream",
     "text": [
      "Answer: 재정사업 자율평가의 목적은 재정운용의 효율성과 건전성을 제고하는 것이다. 제도 개선을 위해 평가표준이 표준화되고, 평가제도가 정비되었다.\n",
      "\n",
      "Question: 2016년 재정성과관리제도의 환류 개선사항은 무엇인가?\n"
     ]
    },
    {
     "name": "stderr",
     "output_type": "stream",
     "text": [
      "\r",
      "Answering Questions:  69%|██████▉   | 68/98 [08:43<04:40,  9.37s/it]"
     ]
    },
    {
     "name": "stdout",
     "output_type": "stream",
     "text": [
      "Answer: 평가 대상 사업 전체 예산의 1% 이내에서 부처에서 자율적으로 세출구조조정을 마련하도록 하고 우수 등급 사업도 지출구조조정이 가능하게 하는 한편, 구조조정이 어려운 사업에 대해서는 성과관리 개선대책을 제출하게 하였으며 현재도 이 틀에서 환류 수행\n",
      "\n",
      "Question: 2018년도에 재정성과관리제도 개선사항과, 이로 인해 어떤 효과가 발생했는가?\n"
     ]
    },
    {
     "name": "stderr",
     "output_type": "stream",
     "text": [
      "\r",
      "Answering Questions:  70%|███████   | 69/98 [08:59<05:32, 11.47s/it]"
     ]
    },
    {
     "name": "stdout",
     "output_type": "stream",
     "text": [
      "Answer: 2018년도에 재정성과관리제도 개선사항으로는 예산편성 활용을 위한 성과계획서 및 성과보고서의 의무화, 성과지표의 측정여부에 따른 재정사업의 성과 등급 부여, 성과관리 사각지대 해소를 위한 다기화된 재정사업 평가제도의 운영이 있었다. 이로 인해 예산편성 활용을 위한 성과계획서 및 성과보고서의 의무화\n",
      "\n",
      "Question: 재정사업 자율평가의 전면 개편을 통해 어떤 중점 추진과제가 제시되었는가?\n"
     ]
    },
    {
     "name": "stderr",
     "output_type": "stream",
     "text": [
      "\r",
      "Answering Questions:  71%|███████▏  | 70/98 [09:07<04:54, 10.50s/it]"
     ]
    },
    {
     "name": "stdout",
     "output_type": "stream",
     "text": [
      "Answer: 사업별 성과정보 DB 구축, 온라인 재정정보 공개의 사용자 친화성 개선, 재정성과포럼 운영 등 성과관리 인프라를 확충하는 등의 중점 추진과제가 제시되었다.\n",
      "\n",
      "Question: 재정성과관리제도의 중요성과 국정운영과의 연결성은 무엇인가?\n"
     ]
    },
    {
     "name": "stderr",
     "output_type": "stream",
     "text": [
      "\r",
      "Answering Questions:  72%|███████▏  | 71/98 [09:17<04:34, 10.17s/it]"
     ]
    },
    {
     "name": "stdout",
     "output_type": "stream",
     "text": [
      "Answer: 재정성과관리제도는 재정의 효율적 운용을 위해 재정사업의 전 주기를 체계적으로 관리하는 제도로, 지출 우선순위 측면에서 재정을 중장기 시계로 확장시켜 국정운영에 기여합니다.\n",
      "\n",
      "Question: 재정성과관리체계 강화를 위해 정부가 어떤 제도를 제시했으며, 재정성과관리는 무엇을 목표로 하는가?\n"
     ]
    },
    {
     "name": "stderr",
     "output_type": "stream",
     "text": [
      "\r",
      "Answering Questions:  73%|███████▎  | 72/98 [09:29<04:39, 10.75s/it]"
     ]
    },
    {
     "name": "stdout",
     "output_type": "stream",
     "text": [
      "Answer: 정부는 재정사업 성과관리 기본방향, 추진방안, 결과활용 및 성과 정보 공개 등을 주요 내용으로 하는 중기재정사업 성과관리를 발표하고 있으며, 재정성과관리는 정부 재정의 투명성·책임성, 효율성·효과성, 예산재분배 등을 목표로 한다.\n",
      "\n",
      "Question: 재정성과관리는 어떤 과정에서 수행되며, 무엇을 증진하기 위해 활동하는가?\n"
     ]
    },
    {
     "name": "stderr",
     "output_type": "stream",
     "text": [
      "\r",
      "Answering Questions:  74%|███████▍  | 73/98 [09:40<04:30, 10.81s/it]"
     ]
    },
    {
     "name": "stdout",
     "output_type": "stream",
     "text": [
      "Answer: 재정성과관리는 재정사업의 기획에서 집행, 환류, 종료에 이르는 전 주기를 체계적으로 관리하는 활동으로, 지출 효율성을 증진하기 위해 재정지출이 달성해야 할 목표를 정확히 설정하고, 이의 달성도를 지속적으로 관리하는 활동을 의미합니다.\n",
      "\n",
      "Question: 재정성과관리의 목적과 우리나라의 재정성과관리제도가 프로그램 예산제도로 전환된 시기는?\n"
     ]
    },
    {
     "name": "stderr",
     "output_type": "stream",
     "text": [
      "\r",
      "Answering Questions:  76%|███████▌  | 74/98 [09:49<04:05, 10.24s/it]"
     ]
    },
    {
     "name": "stdout",
     "output_type": "stream",
     "text": [
      "Answer: 재정성과관리의 목적은 재정사업의 효율적 운용을 뒷받침하고 관련 정보를 국민에게 공개하여 책임성을 확보하는 것이다. 우리나라는 2006년에 프로그램 예산제도로 전환하였다.\n",
      "\n",
      "Question: 2007년과 2021년에 각각 「국가재정법」이 개정되면서 성과관리 제도는 어떻게 강화되고 구체화되었으며, 이 개정의 주된 목적은 무엇인가?\n"
     ]
    },
    {
     "name": "stderr",
     "output_type": "stream",
     "text": [
      "\r",
      "Answering Questions:  77%|███████▋  | 75/98 [10:05<04:37, 12.08s/it]"
     ]
    },
    {
     "name": "stdout",
     "output_type": "stream",
     "text": [
      "Answer: 2007년 「국가재정법」 시행으로 과거에 단발적으로 이루어진 성과관리 제도를 종합하고, 성과관리의 기본 단위, 성과 측정과 보고를 위한 체계를 확립하였다. 2021년 「국가재정법」 개정을 통해 성과 중심 재정운용을 위한 별도의 장을 신설하고 성과관리 규정을 정비하여 전략목표와 성과지표에 의한 부처의 자율적 성과\n",
      "\n",
      "Question: 재정사업 자율평가의 목적과 제도 개선 방식은 무엇인가?\n"
     ]
    },
    {
     "name": "stderr",
     "output_type": "stream",
     "text": [
      "\r",
      "Answering Questions:  78%|███████▊  | 76/98 [10:17<04:26, 12.12s/it]"
     ]
    },
    {
     "name": "stdout",
     "output_type": "stream",
     "text": [
      "Answer: 재정사업 자율평가의 목적은 재정운용의 효율성과 건전성을 제고하는 것이다. 제도 개선 방식으로는 평가표준의 화일화, 평가제도의 정비 등을 통해 평가의 일관성과 신뢰성을 제고하고, 평가 결과를 재정 운용에 반영하는 체계를 구축하려고 한다.\n",
      "\n",
      "Question: 2015년 이전과 2016년에 재정성과 평가 결과 처리 방식과 환류 개선 방식은 어떻게 달라졌는가?\n"
     ]
    },
    {
     "name": "stderr",
     "output_type": "stream",
     "text": [
      "\r",
      "Answering Questions:  79%|███████▊  | 77/98 [10:29<04:14, 12.14s/it]"
     ]
    },
    {
     "name": "stdout",
     "output_type": "stream",
     "text": [
      "Answer: 2015년 이전에는 평가 결과 미흡 등급 비율을 강제 배정하고 해당 단위사업에 대한 일률적 삭감을 실시하였고, 2016년에는 연구개발사업을 포함시키고 평가 주기를 전 사업에 걸쳐 매년 평가하는 것으로 변경하여 통합재정사업 평가제도를 시행하였다.\n",
      "\n",
      "Question: 재정관리시스템 구축과 성과관리 개편을 추진하는 주된 목적은 무엇인가?\n"
     ]
    },
    {
     "name": "stderr",
     "output_type": "stream",
     "text": [
      "\r",
      "Answering Questions:  80%|███████▉  | 78/98 [10:37<03:34, 10.74s/it]"
     ]
    },
    {
     "name": "stdout",
     "output_type": "stream",
     "text": [
      "Answer: 재정관리시스템 구축과 성과관리 개편을 추진하는 주된 목적은 재정의 투명성과 책임성을 강화하고, 재정의 효율성과 효과성을 제고하는 것이다.\n",
      "\n",
      "Question: 우리나라에서는 언제부터 발생주의 기준을 적용한 국가결산보고서에서 우발부채를 보고하고 있는가?\n"
     ]
    },
    {
     "name": "stderr",
     "output_type": "stream",
     "text": [
      "\r",
      "Answering Questions:  81%|████████  | 79/98 [10:42<02:52,  9.07s/it]"
     ]
    },
    {
     "name": "stdout",
     "output_type": "stream",
     "text": [
      "Answer: 우리나라는 2012년부터 발생주의 기준을 적용한 국가결산보고서에서 우발부채를 보고하고 있다.\n",
      "\n",
      "Question: 우발부채 관련 주요 쟁점은 무엇인가?\n"
     ]
    },
    {
     "name": "stderr",
     "output_type": "stream",
     "text": [
      "\r",
      "Answering Questions:  82%|████████▏ | 80/98 [10:47<02:22,  7.93s/it]"
     ]
    },
    {
     "name": "stdout",
     "output_type": "stream",
     "text": [
      "Answer: 우발부채 개념 및 용어 사용의 혼란, 우발부채 분류기준 재검토, 새로운 분류기준 정립\n",
      "\n",
      "Question: 우발부채의 관리는 왜 중요한 이슈로 여겨지는가?\n"
     ]
    },
    {
     "name": "stderr",
     "output_type": "stream",
     "text": [
      "\r",
      "Answering Questions:  83%|████████▎ | 81/98 [11:03<02:56, 10.41s/it]"
     ]
    },
    {
     "name": "stdout",
     "output_type": "stream",
     "text": [
      "Answer: 우발부채는 미래에 특정 사건이 일어나지 않는 한 발생하지 않는 의무로, 하나 또는 그 이상의 조건이 충족되어야 금융거래로 인식된다는 점에서 ‘부채’와 차이가 있다. 하지만 우발부채는 재정위험(fiscal risk)을 발생시키는 구체적 원인이 되며, 의도적인 공공정책이나 재정위기와 같이 예기치 못한 사건으로 인해 발생할 수 있음. 따라서 우발부채 관리의 중요\n",
      "\n",
      "Question: 우발부채와 부채의 차이점은 무엇인가?\n"
     ]
    },
    {
     "name": "stderr",
     "output_type": "stream",
     "text": [
      "\r",
      "Answering Questions:  84%|████████▎ | 82/98 [11:12<02:37,  9.84s/it]"
     ]
    },
    {
     "name": "stdout",
     "output_type": "stream",
     "text": [
      "Answer: 우발부채는 미래에 특정 사건(들)이 일어나지 않는 한 발생하지 않는 의무로, 하나 또는 그 이상의 조건이 충족되어야 금융거래로 인식된다는 점에서 ‘부채’와 차이6) 있다.\n",
      "\n",
      "Question: 발생주의와 현금주의의 차이는 무엇인가?\n"
     ]
    },
    {
     "name": "stderr",
     "output_type": "stream",
     "text": [
      "\r",
      "Answering Questions:  85%|████████▍ | 83/98 [11:22<02:26,  9.77s/it]"
     ]
    },
    {
     "name": "stdout",
     "output_type": "stream",
     "text": [
      "Answer: 발생주의(accrual basis)란 ‘경제적 거래가 발생하는 시점’에 거래를 기록하는 방식으로, ‘현금을 수취하거나 지급한 시점’에 거래를 기록하는 방식인 현금주의(cash basis)와 차이가 있다.\n",
      "\n",
      "Question: 채무지속가능성분석은 어떤 목적을 가지고 도입되었는가?\n"
     ]
    },
    {
     "name": "stderr",
     "output_type": "stream",
     "text": [
      "\r",
      "Answering Questions:  86%|████████▌ | 84/98 [11:31<02:15,  9.70s/it]"
     ]
    },
    {
     "name": "stdout",
     "output_type": "stream",
     "text": [
      "Answer: 채무지속가능성분석(DSA)는 공공부문과 대외채무 지속가능성 분석에 관한 공식적인 체계로, 잠재적 재정위기 감지, 예방, 해결을 위한 IMF의 노력으로 2002년에 도입되었다.\n",
      "\n",
      "Question: 의제의무란 무엇인가?\n"
     ]
    },
    {
     "name": "stderr",
     "output_type": "stream",
     "text": [
      "\r",
      "Answering Questions:  87%|████████▋ | 85/98 [11:47<02:30, 11.61s/it]"
     ]
    },
    {
     "name": "stdout",
     "output_type": "stream",
     "text": [
      "Answer: 의제의무(擬制義務, constructive obligation)란 발표된 정부방침 또는 구체적이고 유효한 약속이나 과거의 실무관행 등을 통해 중앙관서 또는 기금이 특정 책임을 부담한다는 것을 표명함으로써 상대방이 그 책임을 이행할 것이라는 정당한 기대를 가지게 되는 경우 발생하는 의무를 말한다(「충당부채, 우발부채, 우발자산 회계처리지침」, 2018).\n",
      "\n",
      "Question: 국제통화기금이 재정통계 작성의 국제기준을 제시하기 위해 발간한 매뉴얼은 무엇인가?\n"
     ]
    },
    {
     "name": "stderr",
     "output_type": "stream",
     "text": [
      "\r",
      "Answering Questions:  88%|████████▊ | 86/98 [11:53<01:57,  9.81s/it]"
     ]
    },
    {
     "name": "stdout",
     "output_type": "stream",
     "text": [
      "Answer: 재정통계 작성의 국제기준을 제시하기 위해 IMF는 재정통계 매뉴얼(Government Finance Statistics Manual, GFSM)을 발간하고 있다.\n",
      "\n",
      "Question: 계류중인 소송사건이란 무엇인가?\n"
     ]
    },
    {
     "name": "stderr",
     "output_type": "stream",
     "text": [
      "\r",
      "Answering Questions:  89%|████████▉ | 87/98 [11:57<01:29,  8.15s/it]"
     ]
    },
    {
     "name": "stdout",
     "output_type": "stream",
     "text": [
      "Answer: 소송사건 중 중요한 내역에 대해 소송상대방, 사건내용 등 구체적 기재\n",
      "\n",
      "Question: 최소운영수입보장(BTO 등) 제도란 무엇을 의미하는가?\n"
     ]
    },
    {
     "name": "stderr",
     "output_type": "stream",
     "text": [
      "\r",
      "Answering Questions:  90%|████████▉ | 88/98 [12:07<01:25,  8.54s/it]"
     ]
    },
    {
     "name": "stdout",
     "output_type": "stream",
     "text": [
      "Answer: 최소운영수입보장(BTO 등) 제도란 주로 BTO 민간투자사업 중 실시협약서 상 추정 수입보다 실제 수입이 미치지 못하는 경우 정부가 최소운영수입을 보장해 주는 제도를 말함\n",
      "\n",
      "Question: 우발부채에 대한 내용으로 대표적으로 어떤 사항이 해당되는가?\n"
     ]
    },
    {
     "name": "stderr",
     "output_type": "stream",
     "text": [
      "\r",
      "Answering Questions:  91%|█████████ | 89/98 [12:21<01:31, 10.19s/it]"
     ]
    },
    {
     "name": "stdout",
     "output_type": "stream",
     "text": [
      "Answer: 우발부채는 미래 발생이 불확실한 잠재적 의무로, 하나 또는 그 이상의 조건이 충족되어야 금융거래로 인식된다는 점에서 ‘부채’와 차이가 있다. 우발부채는 재정위험을 발생시키는 구체적 원인이 되며, 의도적인 공공정책이나 재정위기와 같이 예기치 못한 사건으로 인해 발생할 수 있다.\n",
      "\n",
      "Question: GFSM2014에서는 우발부채를 어떻게 구분하는가?\n"
     ]
    },
    {
     "name": "stderr",
     "output_type": "stream",
     "text": [
      "\r",
      "Answering Questions:  92%|█████████▏| 90/98 [12:27<01:11,  8.91s/it]"
     ]
    },
    {
     "name": "stdout",
     "output_type": "stream",
     "text": [
      "Answer: GFSM2014는 우발부채를 명시적(explicit) 우발부채와 암묵적(implicit) 우발부채로 구분한다.\n",
      "\n",
      "Question: GFSM은 몇 차례의 개정을 거쳤으며, 어떠한 목적으로 GFSM 2001이 개정되었는가?\n"
     ]
    },
    {
     "name": "stderr",
     "output_type": "stream",
     "text": [
      "\r",
      "Answering Questions:  93%|█████████▎| 91/98 [12:41<01:13, 10.48s/it]"
     ]
    },
    {
     "name": "stdout",
     "output_type": "stream",
     "text": [
      "Answer: GFSM은 1986년 첫 발간 이래 현재까지 총 2차례(2001년, 2014년)의 개정이 있었다. 특히, GFSM 2001은 전면 개정을 통해 현재의 발생주의 기준 GFS체계를 구축하였으며, GFSM2014는 SNA, PSDS 등 다른 국제통계기준과 부합하도록 더 구체화했다.\n",
      "\n",
      "Question: 표준화 보증이란 무엇인가?\n"
     ]
    },
    {
     "name": "stderr",
     "output_type": "stream",
     "text": [
      "\r",
      "Answering Questions:  94%|█████████▍| 92/98 [12:51<01:01, 10.31s/it]"
     ]
    },
    {
     "name": "stdout",
     "output_type": "stream",
     "text": [
      "Answer: 표준화 보증은 통상 아주 적은 금액에 대해 획일적 조건으로 대규모로 발행하는 보증을 말하며, 수출(무역)신용 보증, 환보증, 다양한 중앙관서\n",
      "    보증 등이 대표적인 예시이다.\n",
      "\n",
      "Question: 표준화 보증에서 공공부문의 우발부채는 어떻게 인식되는가?\n"
     ]
    },
    {
     "name": "stderr",
     "output_type": "stream",
     "text": [
      "\r",
      "Answering Questions:  95%|█████████▍| 93/98 [13:01<00:51, 10.24s/it]"
     ]
    },
    {
     "name": "stdout",
     "output_type": "stream",
     "text": [
      "Answer: 표준화 보증은 '부채'로 인식되므로 공공부문의 우발부채는 '명시적 우발부채'에 포함되지만, 일회성 보증과는 달리 개별적이지 않기 때문에 '암묵적 우발부채'는 아니다.\n",
      "\n",
      "Question: 재정정책에서 공적보증채무와 다른 일회성 보증은 어떻게 구분되는가?\n"
     ]
    },
    {
     "name": "stderr",
     "output_type": "stream",
     "text": [
      "\r",
      "Answering Questions:  96%|█████████▌| 94/98 [13:09<00:39,  9.76s/it]"
     ]
    },
    {
     "name": "stdout",
     "output_type": "stream",
     "text": [
      "Answer: 공적보증채무는 보증인이 기타 공공부문과 민간부문 단위 기존 채무의 원리금 상환을 보증한다는 점에서 다르며, 재정정책에서 중요하게 고려되는 요소이다.\n",
      "\n",
      "Question: 미래사회보장급여에 대한 순의무란 무엇을 의미하는가?\n"
     ]
    },
    {
     "name": "stderr",
     "output_type": "stream",
     "text": [
      "\r",
      "Answering Questions:  97%|█████████▋| 95/98 [13:18<00:28,  9.39s/it]"
     ]
    },
    {
     "name": "stdout",
     "output_type": "stream",
     "text": [
      "Answer: 현행법과 규정에 따라 이미 가입자가 획득한 미래 급여의 현재가치에서 현행법과 규정에 따른 사회보장제도의 미래보험료의 순현재가치를 차감한 것을 인식\n",
      "\n",
      "Question: 국가결산보고서와 지방자치단체 회계기준에서 우발부채에 대한 용어 및 회계처리가 어떻게 다른가요?\n"
     ]
    },
    {
     "name": "stderr",
     "output_type": "stream",
     "text": [
      "\r",
      "Answering Questions:  98%|█████████▊| 96/98 [13:27<00:18,  9.20s/it]"
     ]
    },
    {
     "name": "stdout",
     "output_type": "stream",
     "text": [
      "Answer: 국가결산보고서는 우발부채를 재무제표상 부채로 인식하지 않으며, 주석에 공시합니다. 지방자치단체 회계기준은 우발부채를 재무제표상 부채로 인식할 수 있습니다.\n",
      "\n",
      "Question: 우발부채란 무엇이며, 그 관리가 왜 중요한가?\n"
     ]
    },
    {
     "name": "stderr",
     "output_type": "stream",
     "text": [
      "\r",
      "Answering Questions:  99%|█████████▉| 97/98 [13:43<00:11, 11.46s/it]"
     ]
    },
    {
     "name": "stdout",
     "output_type": "stream",
     "text": [
      "Answer: 우발부채는 미래에 특정 사건이 일어나지 않는 한 발생하지 않는 의무로, 하나 또는 그 이상의 조건이 충족되어야 금융거래로 인식된다는 점에서 ‘부채’와 차이가 있다. 우발부채는 재정위험을 발생시키는 구체적 원인이 되며, 의도적인 공공정책이나 재정위기와 같이 예기치 못한 사건으로 인해 발생할 수 있다. 우발부채의 관리가 중요한 이유는 재정건전\n",
      "\n",
      "Question: 보증이란 무엇이며, 어떤 형태의 보증이 재정상태표에 부채로 기록되는가? 또한 표준화 보증이란 무엇이며, 어떤 목적으로 발행되는가?\n"
     ]
    },
    {
     "name": "stderr",
     "output_type": "stream",
     "text": [
      "Answering Questions: 100%|██████████| 98/98 [13:55<00:00,  8.53s/it]"
     ]
    },
    {
     "name": "stdout",
     "output_type": "stream",
     "text": [
      "Answer: 보증은 피보증처의 부채에 대해 지급을 보증하는 것을 의미하며, 국가의 경우 국가채무에 준하는 관리가 필요한 보증채무로 관리된다. 표준화 보증은 은행의 대출을 보증하는 데 사용되며, 은행은 이를 통해 대출금리 인하 등의 경제적 편익을 얻을 수 있다.\n",
      "\n"
     ]
    },
    {
     "name": "stderr",
     "output_type": "stream",
     "text": [
      "\n"
     ]
    }
   ],
   "source": [
    "def normalize_string(s):\n",
    "    \"\"\"유니코드 정규화\"\"\"\n",
    "    return unicodedata.normalize('NFC', s)\n",
    "\n",
    "def format_docs(docs):\n",
    "    \"\"\"검색된 문서들을 하나의 문자열로 포맷팅\"\"\"\n",
    "    context = \"\"\n",
    "    for doc in docs:\n",
    "        context += doc.page_content\n",
    "        context += '\\n'\n",
    "    return context\n",
    "\n",
    "# 결과를 저장할 리스트 초기화\n",
    "results = []\n",
    "\n",
    "# DataFrame의 각 행에 대해 처리\n",
    "for _, row in tqdm(test_df.iterrows(), total=len(test_df), desc=\"Answering Questions\"):\n",
    "    # 소스 문자열 정규화\n",
    "    source = normalize_string(row['Source'])\n",
    "    question = row['Question']\n",
    "\n",
    "    # 정규화된 키로 데이터베이스 검색\n",
    "    normalized_keys = {normalize_string(k): v for k, v in pdf_databases.items()}\n",
    "    retriever = normalized_keys[source]['retriever']\n",
    "\n",
    "    # RAG 체인 구성\n",
    "    template = \"\"\"\n",
    "    다음 정보를 바탕으로 질문에 답하세요:\n",
    "    {context}\n",
    "\n",
    "    질문: {question}\n",
    "\n",
    "    답변:\n",
    "    \"\"\"\n",
    "    prompt = PromptTemplate.from_template(template)\n",
    "\n",
    "    # RAG 체인 정의\n",
    "    rag_chain = (\n",
    "        {\"context\": retriever | format_docs, \"question\": RunnablePassthrough()}\n",
    "        | prompt\n",
    "        | llm\n",
    "        | StrOutputParser()\n",
    "    )\n",
    "\n",
    "    # 답변 추론\n",
    "    print(f\"Question: {question}\")\n",
    "    full_response = rag_chain.invoke(question)\n",
    "\n",
    "    print(f\"Answer: {full_response}\\n\")\n",
    "\n",
    "    # 결과 저장\n",
    "    results.append({\n",
    "        \"Source\": row['Source'],\n",
    "        \"Source_path\": row['Source_path'],\n",
    "        \"Question\": question,\n",
    "        \"Answer\": full_response\n",
    "    })"
   ]
  },
  {
   "cell_type": "markdown",
   "id": "8a6db393",
   "metadata": {},
   "source": [
    "## Submission"
   ]
  },
  {
   "cell_type": "code",
   "execution_count": 13,
   "id": "2d9b423e",
   "metadata": {},
   "outputs": [],
   "source": [
    "# 제출용 샘플 파일 로드\n",
    "submit_df = pd.read_csv(\"./sample_submission.csv\")\n",
    "\n",
    "# 생성된 답변을 제출 DataFrame에 추가\n",
    "submit_df['Answer'] = [item['Answer'] for item in results]\n",
    "submit_df['Answer'] = submit_df['Answer'].fillna(\"데이콘\")     # 모델에서 빈 값 (NaN) 생성 시 채점에 오류가 날 수 있음 [ 주의 ]\n",
    "\n",
    "# 결과를 CSV 파일로 저장\n",
    "submit_df.to_csv(\"./QLoRA_gemma2-9b-it_v2_submission.csv\", encoding='UTF-8-sig', index=False)\n"
   ]
  },
  {
   "cell_type": "code",
   "execution_count": 14,
   "id": "ba098e7e",
   "metadata": {},
   "outputs": [
    {
     "data": {
      "text/html": [
       "<div>\n",
       "<style scoped>\n",
       "    .dataframe tbody tr th:only-of-type {\n",
       "        vertical-align: middle;\n",
       "    }\n",
       "\n",
       "    .dataframe tbody tr th {\n",
       "        vertical-align: top;\n",
       "    }\n",
       "\n",
       "    .dataframe thead th {\n",
       "        text-align: right;\n",
       "    }\n",
       "</style>\n",
       "<table border=\"1\" class=\"dataframe\">\n",
       "  <thead>\n",
       "    <tr style=\"text-align: right;\">\n",
       "      <th></th>\n",
       "      <th>SAMPLE_ID</th>\n",
       "      <th>Answer</th>\n",
       "    </tr>\n",
       "  </thead>\n",
       "  <tbody>\n",
       "    <tr>\n",
       "      <th>0</th>\n",
       "      <td>TEST_000</td>\n",
       "      <td>2,300,000백만원</td>\n",
       "    </tr>\n",
       "    <tr>\n",
       "      <th>1</th>\n",
       "      <td>TEST_001</td>\n",
       "      <td>ㅇ (창업기반지원) 기술력과 사업성이 우수하고 미래 성장가능성이 높은 중소벤처기업의...</td>\n",
       "    </tr>\n",
       "    <tr>\n",
       "      <th>2</th>\n",
       "      <td>TEST_002</td>\n",
       "      <td>중소기업진흥에 관한 법률 제66조, 제67조, 제74조</td>\n",
       "    </tr>\n",
       "    <tr>\n",
       "      <th>3</th>\n",
       "      <td>TEST_003</td>\n",
       "      <td>재창업자금(실패 경영인에 대한 재기지원)</td>\n",
       "    </tr>\n",
       "    <tr>\n",
       "      <th>4</th>\n",
       "      <td>TEST_004</td>\n",
       "      <td>미래기술육성자금, 고성장촉진자금</td>\n",
       "    </tr>\n",
       "    <tr>\n",
       "      <th>...</th>\n",
       "      <td>...</td>\n",
       "      <td>...</td>\n",
       "    </tr>\n",
       "    <tr>\n",
       "      <th>93</th>\n",
       "      <td>TEST_093</td>\n",
       "      <td>공적보증채무는 보증인이 기타 공공부문과 민간부문 단위 기존 채무의 원리금 상환을 보...</td>\n",
       "    </tr>\n",
       "    <tr>\n",
       "      <th>94</th>\n",
       "      <td>TEST_094</td>\n",
       "      <td>현행법과 규정에 따라 이미 가입자가 획득한 미래 급여의 현재가치에서 현행법과 규정에...</td>\n",
       "    </tr>\n",
       "    <tr>\n",
       "      <th>95</th>\n",
       "      <td>TEST_095</td>\n",
       "      <td>국가결산보고서는 우발부채를 재무제표상 부채로 인식하지 않으며, 주석에 공시합니다. ...</td>\n",
       "    </tr>\n",
       "    <tr>\n",
       "      <th>96</th>\n",
       "      <td>TEST_096</td>\n",
       "      <td>우발부채는 미래에 특정 사건이 일어나지 않는 한 발생하지 않는 의무로, 하나 또는 ...</td>\n",
       "    </tr>\n",
       "    <tr>\n",
       "      <th>97</th>\n",
       "      <td>TEST_097</td>\n",
       "      <td>보증은 피보증처의 부채에 대해 지급을 보증하는 것을 의미하며, 국가의 경우 국가채무...</td>\n",
       "    </tr>\n",
       "  </tbody>\n",
       "</table>\n",
       "<p>98 rows × 2 columns</p>\n",
       "</div>"
      ],
      "text/plain": [
       "   SAMPLE_ID                                             Answer\n",
       "0   TEST_000                                       2,300,000백만원\n",
       "1   TEST_001  ㅇ (창업기반지원) 기술력과 사업성이 우수하고 미래 성장가능성이 높은 중소벤처기업의...\n",
       "2   TEST_002                     중소기업진흥에 관한 법률 제66조, 제67조, 제74조\n",
       "3   TEST_003                             재창업자금(실패 경영인에 대한 재기지원)\n",
       "4   TEST_004                                  미래기술육성자금, 고성장촉진자금\n",
       "..       ...                                                ...\n",
       "93  TEST_093  공적보증채무는 보증인이 기타 공공부문과 민간부문 단위 기존 채무의 원리금 상환을 보...\n",
       "94  TEST_094  현행법과 규정에 따라 이미 가입자가 획득한 미래 급여의 현재가치에서 현행법과 규정에...\n",
       "95  TEST_095  국가결산보고서는 우발부채를 재무제표상 부채로 인식하지 않으며, 주석에 공시합니다. ...\n",
       "96  TEST_096  우발부채는 미래에 특정 사건이 일어나지 않는 한 발생하지 않는 의무로, 하나 또는 ...\n",
       "97  TEST_097  보증은 피보증처의 부채에 대해 지급을 보증하는 것을 의미하며, 국가의 경우 국가채무...\n",
       "\n",
       "[98 rows x 2 columns]"
      ]
     },
     "execution_count": 14,
     "metadata": {},
     "output_type": "execute_result"
    }
   ],
   "source": [
    "submit_df"
   ]
  },
  {
   "cell_type": "code",
   "execution_count": 15,
   "id": "b8b73a16",
   "metadata": {},
   "outputs": [
    {
     "data": {
      "text/html": [
       "<div>\n",
       "<style scoped>\n",
       "    .dataframe tbody tr th:only-of-type {\n",
       "        vertical-align: middle;\n",
       "    }\n",
       "\n",
       "    .dataframe tbody tr th {\n",
       "        vertical-align: top;\n",
       "    }\n",
       "\n",
       "    .dataframe thead th {\n",
       "        text-align: right;\n",
       "    }\n",
       "</style>\n",
       "<table border=\"1\" class=\"dataframe\">\n",
       "  <thead>\n",
       "    <tr style=\"text-align: right;\">\n",
       "      <th></th>\n",
       "      <th>SAMPLE_ID</th>\n",
       "      <th>Answer</th>\n",
       "    </tr>\n",
       "  </thead>\n",
       "  <tbody>\n",
       "    <tr>\n",
       "      <th>0</th>\n",
       "      <td>TEST_000</td>\n",
       "      <td>2,300,000백만원</td>\n",
       "    </tr>\n",
       "    <tr>\n",
       "      <th>1</th>\n",
       "      <td>TEST_001</td>\n",
       "      <td>ㅇ (창업기반지원) 기술력과 사업성이 우수하고 미래 성장가능성이 높은 중소벤처기업의...</td>\n",
       "    </tr>\n",
       "    <tr>\n",
       "      <th>2</th>\n",
       "      <td>TEST_002</td>\n",
       "      <td>중소기업진흥에 관한 법률 제66조, 제67조, 제74조</td>\n",
       "    </tr>\n",
       "    <tr>\n",
       "      <th>3</th>\n",
       "      <td>TEST_003</td>\n",
       "      <td>재창업자금(실패 경영인에 대한 재기지원)</td>\n",
       "    </tr>\n",
       "    <tr>\n",
       "      <th>4</th>\n",
       "      <td>TEST_004</td>\n",
       "      <td>미래기술육성자금, 고성장촉진자금</td>\n",
       "    </tr>\n",
       "    <tr>\n",
       "      <th>...</th>\n",
       "      <td>...</td>\n",
       "      <td>...</td>\n",
       "    </tr>\n",
       "    <tr>\n",
       "      <th>93</th>\n",
       "      <td>TEST_093</td>\n",
       "      <td>공적보증채무는 보증인이 기타 공공부문과 민간부문 단위 기존 채무의 원리금 상환을 보...</td>\n",
       "    </tr>\n",
       "    <tr>\n",
       "      <th>94</th>\n",
       "      <td>TEST_094</td>\n",
       "      <td>현행법과 규정에 따라 이미 가입자가 획득한 미래 급여의 현재가치에서 현행법과 규정에...</td>\n",
       "    </tr>\n",
       "    <tr>\n",
       "      <th>95</th>\n",
       "      <td>TEST_095</td>\n",
       "      <td>국가결산보고서는 우발부채를 재무제표상 부채로 인식하지 않으며, 주석에 공시합니다. ...</td>\n",
       "    </tr>\n",
       "    <tr>\n",
       "      <th>96</th>\n",
       "      <td>TEST_096</td>\n",
       "      <td>우발부채는 미래에 특정 사건이 일어나지 않는 한 발생하지 않는 의무로, 하나 또는 ...</td>\n",
       "    </tr>\n",
       "    <tr>\n",
       "      <th>97</th>\n",
       "      <td>TEST_097</td>\n",
       "      <td>보증은 피보증처의 부채에 대해 지급을 보증하는 것을 의미하며, 국가의 경우 국가채무...</td>\n",
       "    </tr>\n",
       "  </tbody>\n",
       "</table>\n",
       "<p>98 rows × 2 columns</p>\n",
       "</div>"
      ],
      "text/plain": [
       "   SAMPLE_ID                                             Answer\n",
       "0   TEST_000                                       2,300,000백만원\n",
       "1   TEST_001  ㅇ (창업기반지원) 기술력과 사업성이 우수하고 미래 성장가능성이 높은 중소벤처기업의...\n",
       "2   TEST_002                     중소기업진흥에 관한 법률 제66조, 제67조, 제74조\n",
       "3   TEST_003                             재창업자금(실패 경영인에 대한 재기지원)\n",
       "4   TEST_004                                  미래기술육성자금, 고성장촉진자금\n",
       "..       ...                                                ...\n",
       "93  TEST_093  공적보증채무는 보증인이 기타 공공부문과 민간부문 단위 기존 채무의 원리금 상환을 보...\n",
       "94  TEST_094  현행법과 규정에 따라 이미 가입자가 획득한 미래 급여의 현재가치에서 현행법과 규정에...\n",
       "95  TEST_095  국가결산보고서는 우발부채를 재무제표상 부채로 인식하지 않으며, 주석에 공시합니다. ...\n",
       "96  TEST_096  우발부채는 미래에 특정 사건이 일어나지 않는 한 발생하지 않는 의무로, 하나 또는 ...\n",
       "97  TEST_097  보증은 피보증처의 부채에 대해 지급을 보증하는 것을 의미하며, 국가의 경우 국가채무...\n",
       "\n",
       "[98 rows x 2 columns]"
      ]
     },
     "execution_count": 15,
     "metadata": {},
     "output_type": "execute_result"
    }
   ],
   "source": [
    "df = pd.read_csv(\"./QLoRA_gemma2-9b-it_v2_submission.csv\")\n",
    "df"
   ]
  },
  {
   "cell_type": "code",
   "execution_count": null,
   "id": "4d4bbd36",
   "metadata": {},
   "outputs": [],
   "source": []
  }
 ],
 "metadata": {
  "kernelspec": {
   "display_name": "venv_peft",
   "language": "python",
   "name": "venv_peft"
  },
  "language_info": {
   "codemirror_mode": {
    "name": "ipython",
    "version": 3
   },
   "file_extension": ".py",
   "mimetype": "text/x-python",
   "name": "python",
   "nbconvert_exporter": "python",
   "pygments_lexer": "ipython3",
   "version": "3.8.10"
  }
 },
 "nbformat": 4,
 "nbformat_minor": 5
}
